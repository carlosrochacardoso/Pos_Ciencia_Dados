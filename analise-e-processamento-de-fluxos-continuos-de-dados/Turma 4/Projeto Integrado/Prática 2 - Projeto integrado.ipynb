{
 "cells": [
  {
   "cell_type": "markdown",
   "metadata": {},
   "source": [
    "# Atividade 2 de Projetos Integrados\n",
    "\n",
    "### Alunos:\n",
    "\n",
    "## Responda às perguntas abaixo e depois implemente o que é solicitado."
   ]
  },
  {
   "cell_type": "markdown",
   "metadata": {},
   "source": [
    "## 1 - Pesquise sobre o Pandas dataframe do python. O que ele é? Como podemos utilizar na nossa aplicação de sistemas de recomendação para gerar IDs aleatórios de usuários para simular as recomendações?"
   ]
  },
  {
   "cell_type": "markdown",
   "metadata": {},
   "source": [
    " - "
   ]
  },
  {
   "cell_type": "markdown",
   "metadata": {},
   "source": [
    "## 2 - Faça o mesmo da questão 1, porém para o Spark DataFrame. Quais bibliotecas são necessárias para utilizar essa estrutura de dados?"
   ]
  },
  {
   "cell_type": "markdown",
   "metadata": {},
   "source": [
    "- "
   ]
  },
  {
   "cell_type": "markdown",
   "metadata": {},
   "source": [
    "## 3 - Implemente um Pandas Data Frame que lê os dados do arquivo .csv referentes aos ratings de teste e seleciona aleatoriamente um dos usuários para ser enviado para algum tópico do Kafka."
   ]
  },
  {
   "cell_type": "code",
   "execution_count": null,
   "metadata": {},
   "outputs": [],
   "source": []
  },
  {
   "cell_type": "markdown",
   "metadata": {},
   "source": [
    "## 4 - Qual método foi utilizado para encontrar os usuários distintos e como foi feita a seleção aleatória de um deles?"
   ]
  },
  {
   "cell_type": "markdown",
   "metadata": {},
   "source": [
    "-"
   ]
  },
  {
   "cell_type": "markdown",
   "metadata": {},
   "source": [
    "## 5 - Tente fazer o mesmo com o Spark DataFrame"
   ]
  },
  {
   "cell_type": "code",
   "execution_count": null,
   "metadata": {},
   "outputs": [],
   "source": []
  },
  {
   "cell_type": "markdown",
   "metadata": {},
   "source": [
    "## 6 - Qual método foi utilizado para encontrar os usuários distintos e como foi feita a seleção aleatória de um deles?"
   ]
  },
  {
   "cell_type": "markdown",
   "metadata": {},
   "source": []
  },
  {
   "cell_type": "markdown",
   "metadata": {},
   "source": [
    "## 7 - Pesquise bibliotecas para conectar o código Python com o Kafka. Existe alguma nativa, que pode ser instalada utilizando o comando pip?"
   ]
  },
  {
   "cell_type": "markdown",
   "metadata": {},
   "source": []
  },
  {
   "cell_type": "markdown",
   "metadata": {},
   "source": [
    "## 8 - Faça um teste subindo um servidor de Kafka, conforme visto na disciplina de Fluxos contínuos de dados, e enviando dados para ele utilizando as bibliotecas encontradas."
   ]
  },
  {
   "cell_type": "code",
   "execution_count": null,
   "metadata": {},
   "outputs": [],
   "source": []
  },
  {
   "cell_type": "markdown",
   "metadata": {},
   "source": [
    "## 9 - Se possível faça o mesmo com o Spark Dataframe (desafio, valendo pontos extra)"
   ]
  },
  {
   "cell_type": "code",
   "execution_count": null,
   "metadata": {},
   "outputs": [],
   "source": []
  },
  {
   "cell_type": "markdown",
   "metadata": {},
   "source": [
    "## 10 - Crie um agente do Flume que le um arquivo texto com IDs de usuários e envia para um tópico do Kafka."
   ]
  },
  {
   "cell_type": "code",
   "execution_count": null,
   "metadata": {},
   "outputs": [],
   "source": []
  }
 ],
 "metadata": {
  "kernelspec": {
   "display_name": "Python 3",
   "language": "python",
   "name": "python3"
  },
  "language_info": {
   "codemirror_mode": {
    "name": "ipython",
    "version": 3
   },
   "file_extension": ".py",
   "mimetype": "text/x-python",
   "name": "python",
   "nbconvert_exporter": "python",
   "pygments_lexer": "ipython3",
   "version": "3.6.4"
  }
 },
 "nbformat": 4,
 "nbformat_minor": 2
}
