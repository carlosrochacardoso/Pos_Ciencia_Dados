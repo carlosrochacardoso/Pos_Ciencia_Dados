{
 "cells": [
  {
   "cell_type": "markdown",
   "metadata": {},
   "source": [
    "NLP - Aula 2 - Normalização e Análise de Textos\n",
    "===============================\n",
    "\n",
    "Vamos colocar em prática todos os passos que aprendemos para análise de Texto."
   ]
  },
  {
   "cell_type": "markdown",
   "metadata": {},
   "source": [
    "## Corpus e Classe Text\n",
    "\n",
    "Iniciar a nossa prática importanto o _corpus_ __machado__ , listando os ids e livros que fazem parte dessa biblioteca. Para isso utilize as funções __fileids()__ e __readme()__\n"
   ]
  },
  {
   "cell_type": "code",
   "execution_count": 98,
   "metadata": {},
   "outputs": [
    {
     "name": "stdout",
     "output_type": "stream",
     "text": [
      "[nltk_data] Downloading package machado to\n",
      "[nltk_data]     D:\\Users\\542229\\AppData\\Roaming\\nltk_data...\n",
      "[nltk_data]   Package machado is already up-to-date!\n",
      "[nltk_data] Downloading package stopwords to\n",
      "[nltk_data]     D:\\Users\\542229\\AppData\\Roaming\\nltk_data...\n",
      "[nltk_data]   Package stopwords is already up-to-date!\n",
      "[nltk_data] Downloading package punkt to\n",
      "[nltk_data]     D:\\Users\\542229\\AppData\\Roaming\\nltk_data...\n",
      "[nltk_data]   Package punkt is already up-to-date!\n",
      "[nltk_data] Downloading package rslp to\n",
      "[nltk_data]     D:\\Users\\542229\\AppData\\Roaming\\nltk_data...\n",
      "[nltk_data]   Package rslp is already up-to-date!\n",
      "[nltk_data] Downloading package gutenberg to\n",
      "[nltk_data]     D:\\Users\\542229\\AppData\\Roaming\\nltk_data...\n",
      "[nltk_data]   Package gutenberg is already up-to-date!\n",
      "[nltk_data] Downloading package wordnet to\n",
      "[nltk_data]     D:\\Users\\542229\\AppData\\Roaming\\nltk_data...\n",
      "[nltk_data]   Unzipping corpora\\wordnet.zip.\n"
     ]
    },
    {
     "data": {
      "text/plain": [
       "True"
      ]
     },
     "execution_count": 98,
     "metadata": {},
     "output_type": "execute_result"
    }
   ],
   "source": [
    "import nltk\n",
    "nltk.download('machado')\n",
    "nltk.download('stopwords')\n",
    "nltk.download('punkt')\n",
    "nltk.download('rslp')\n",
    "nltk.download('gutenberg')\n",
    "nltk.download('wordnet')"
   ]
  },
  {
   "cell_type": "code",
   "execution_count": 19,
   "metadata": {},
   "outputs": [
    {
     "name": "stdout",
     "output_type": "stream",
     "text": [
      "Machado de Assis -- Obra Completa\n",
      "\n",
      "http://machado.mec.gov.br/\n",
      "\n",
      "Public Domain\n",
      "\n",
      "Contents:\n",
      "\n",
      "Romance\n",
      "\n",
      "romance/marm01.txt: Ressurreição (1872)\n",
      "romance/marm02.txt: A Mão e a Luva (1874)\n",
      "romance/marm03.txt: Helena (1876)\n",
      "romance/marm04.txt: Iaiá Garcia (1878)\n",
      "romance/marm05.txt: Memórias Póstumas de Brás Cubas (1881)\n",
      "romance/marm06.txt: Casa Velha (1885)\n",
      "romance/marm07.txt: Quincas Borba (1891)\n",
      "romance/marm08.txt: Dom Casmurro (1899)\n",
      "romance/marm09.txt: Esaú e Jacó (1904)\n",
      "romance/marm10.txt: Memorial de Aires (1908)\n",
      "\n",
      "Poesia\n",
      "\n",
      "poesia/maps01.txt: Crisálidas (1864)\n",
      "poesia/maps02.txt: Falenas (1870)\n",
      "poesia/maps03.txt: Americanas (1875)\n",
      "poesia/maps04.txt: Gazeta de Holanda (1886-88)\n",
      "poesia/maps05.txt: Ocidentais (1901)\n",
      "poesia/maps06.txt: O Almada (1908)\n",
      "poesia/maps07.txt: Dispersas (1854-1939)\n",
      "\n",
      "Contos\n",
      "\n",
      "contos/macn001.txt: Contos Fluminenses (1870); Miss Dollar; Luís Soares; A mulher de preto; O segredo de Augusta; Confissões de uma viúva moça; Linha reta e linha curva; Frei Sim\n",
      "contos/macn002.txt: Histórias da meia-noite (1873); A parasita azul; As bodas de Luís Duarte; Ernesto de Tal; Aurora sem dia; O relógio de ouro; Ponto de vista\n",
      "contos/macn003.txt: Papéis avulsos (1882); O alienista; Teoria do medalhão; A chinela turca; Na arca; D. Benedita; O segredo do bonzo; O anel de Polícrates; O empréstimo; A sereníssima república; O espelho; Uma visita de Alcibíades; Verba testamentária\n",
      "contos/macn004.txt: Histórias sem data (1884); A igreja do Diabo; O lapso; Último capítulo; Cantiga de esponsais; Singular ocorrência; Galeria póstuma; Capítulo dos chapéus; Conto alexandrino; Rimas de Sapucaia!; Uma senhora; Anedota pecuniária; Fulano; A segunda vida; Noite de almirante; Manuscrito de um sacristão; Ex cathedra; A senhora do Galvão; As academias de Sião\n",
      "contos/macn005.txt: Várias histórias (1896); A cartomante; Entre santos; Uns braços; Um homem célebre; A desejada das gentes; A causa secreta; Trio em lá menor; Adão e Eva; O enfermeiro; O diplomático; Mariana; Conto de escola; Um apólogo; D. Paula; Viver!; O cônego ou Metafísica do estilo\n",
      "contos/macn006.txt: Páginas recolhidas (1899); O caso da vara; O dicionário; Um erradio; Eterno!; Missa do galo; Idéias de canário; Lágrimas de Xerxes; Papéis velhos\n",
      "contos/macn007.txt: Relíquias de Casa Velha (1906); Pai contra mãe; Maria Cora; Marcha fúnebre; Um capitão de voluntários; Suje-se gordo!; Umas férias; Evolução; Pílades e Orestes; Anedota do cabriolet\n",
      "\n",
      "Traducao\n",
      "\n",
      "traducao/matr01.txt: Suplício de uma mulher (1865)\n",
      "traducao/matr02.txt: Os trabalhadores do mar (1866)\n",
      "traducao/matr03.txt: Oliver Twist (1870)\n",
      "\n",
      "Teatro\n",
      "\n",
      "teatro/matt01.txt: As forcas caudinas (1956)\n",
      "teatro/matt02.txt: Hoje avental, amanhã luva (1860)\n",
      "teatro/matt03.txt: Desencantos (1861)\n",
      "teatro/matt04.txt: O caminho da porta / O protocolo (1863)\n",
      "teatro/matt05.txt: Quase ministro (1864)\n",
      "teatro/matt06.txt: Os deuses de casaca (1866)\n",
      "teatro/matt07.txt: O bote de rapé (1878)\n",
      "teatro/matt08.txt: Tu, só tu, puro amor (1880)\n",
      "teatro/matt09.txt: Não consultes médico (1899)\n",
      "teatro/matt10.txt: Lição de botânica (1906)\n",
      "\n",
      "Cronica\n",
      "\n",
      "cronica/macr01.txt: Comentários da semana (1861-1863)\n",
      "cronica/macr02.txt: Crônicas do Dr. Semana (1861-1864)\n",
      "cronica/macr03.txt: Crônicas - O futuro (1862-1863)\n",
      "cronica/macr04.txt: Ao acaso (1864-1865)\n",
      "cronica/macr05.txt: Cartas fluminenses (1867)\n",
      "cronica/macr06.txt: Badaladas (1871-1873)\n",
      "cronica/macr07.txt: História de quinze dias (1876-1877)\n",
      "cronica/macr08.txt: História dos trinta dias (1878)\n",
      "cronica/macr09.txt: Notas semanais (1878)\n",
      "cronica/macr10.txt: Balas de estalo (1883-1886)\n",
      "cronica/macr11.txt: Bons dias! (1888-1889)\n",
      "cronica/macr12.txt: A semana (1892-1800)\n",
      "cronica/macr13.txt: O jornal e o livro (1859)\n",
      "cronica/macr14.txt: A reforma pelo jornal (1859)\n",
      "cronica/macr15.txt: Aquarelas (1859)\n",
      "cronica/macr16.txt: O Visconde de Castilho (1875)\n",
      "cronica/macr17.txt: Cherchez la femme (1881)\n",
      "cronica/macr18.txt: José de Alencar (1883)\n",
      "cronica/macr19.txt: Joaquim Serra (1888)\n",
      "cronica/macr20.txt: O futuro dos argentinos (1888)\n",
      "cronica/macr21.txt: Entre 1892 e 1894 (1892-1894)\n",
      "cronica/macr22.txt: Henrique Chaves (1893)\n",
      "cronica/macr23.txt: Henrique Lombaerts (1897)\n",
      "cronica/macr24.txt: O velho Senado (1898)\n",
      "critica/mact01.txt: O Passado, o presente e o futuro da literatura (1858)\n",
      "critica/mact02.txt: Idéias sobre o teatro (1859)\n",
      "critica/mact03.txt: Revista dos teatros (1859)\n",
      "critica/mact04.txt: Revista Dramática (1860)\n",
      "critica/mact05.txt: A Crítica teatral. José de Alencar: Mãe (1860)\n",
      "critica/mact06.txt: Crítica variada - Diário do RJ (1862)\n",
      "critica/mact07.txt: Flores e Frutos, de Bruno Seabra (1862)\n",
      "critica/mact08.txt: Pareceres - Conservatório Dramático (1862-1864)\n",
      "critica/mact09.txt: Homem de Mello e B. Pinheiro  A Constituinte perante a História e Sombras e Luz (1863)\n",
      "critica/mact10.txt: Peregrinação pela província de S. Paulo , por A. E. Zaluar (1863)\n",
      "critica/mact11.txt: Revelações , de A. E. Zaluar (1863)\n",
      "critica/mact12.txt: Dois folhetins. Suplício de uma mulher (1865)\n",
      "critica/mact13.txt: O Ideal do crítico (1865)\n",
      "critica/mact14.txt: Álvares de Azevedo: Lira dos vinte anos (1866)\n",
      "critica/mact15.txt: Crítica teatral (1866)\n",
      "critica/mact16.txt: Fagundes Varela  Cantos e fantasias (1866)\n",
      "critica/mact17.txt: J .M. de Macedo: O culto do dever (1866)\n",
      "critica/mact18.txt: José de Alencar: Iracema (1866)\n",
      "critica/mact19.txt: Junqueira Freire: Inspirações do claustro (1866)\n",
      "critica/mact20.txt: Porto Alegre: Colombo (1866)\n",
      "critica/mact21.txt: Propósito (1866)\n",
      "critica/mact22.txt: Castro Alves (1868)\n",
      "critica/mact23.txt: Lúcio de Mendonça: Névoas matutinas (1872)\n",
      "critica/mact24.txt: Un cuento endemoniado e La mujer misteriosa , de Guilherme Malta (1872)\n",
      "critica/mact25.txt: Notícia da atual literatura brasileira: Instinto de nacionalidade (1873)\n",
      "critica/mact26.txt: Fagundes Varela (1875)\n",
      "critica/mact27.txt: Eça de Queirós: O primo Basílio (1878)\n",
      "critica/mact28.txt: Francisco de Castro: Harmonias errantes (1878)\n",
      "critica/mact29.txt: A Nova geração (1879)\n",
      "critica/mact30.txt: Carlos Jansen: Contos seletos das mil e uma noites (1882)\n",
      "critica/mact31.txt: Raimundo Correia: Sinfonias (1882)\n",
      "critica/mact32.txt: Alberto de Oliveira: Meridionais (1884)\n",
      "critica/mact33.txt: Enéias Galvão: Miragens (1885)\n",
      "critica/mact34.txt: L. L. Fernandes Pinheiro Júnior: Tipos e quadros (1886)\n",
      "critica/mact35.txt: José de Alencar: O Guarani (1887)\n",
      "critica/mact36.txt: Henriqueta Renan (1896)\n",
      "critica/mact37.txt: Discursos na Academia Brasileira de Letras (1897)\n",
      "critica/mact38.txt: Magalhães de Azeredo: Procelárias (1898)\n",
      "critica/mact39.txt: Cenas da vida amazônica , de José Veríssimo (1899)\n",
      "critica/mact40.txt: Garrett (1899)\n",
      "critica/mact41.txt: Eça de Queirós (1900)\n",
      "critica/mact42.txt: Eduardo Prado (1901)\n",
      "critica/mact43.txt: Magalhães de Azeredo e Mário de Alencar: Horas sagradas e Versos (1902)\n",
      "critica/mact44.txt: Oliveira Lima: Secretário d'el-rei (1904)\n",
      "critica/mact45.txt: Joaquim Nabuco: Pensées détachées et souvenirs (1906)\n",
      "\n",
      "Miscelanea\n",
      "\n",
      "miscelanea/mams01.txt: Os imortais (1859)\n",
      "miscelanea/mams02.txt: Queda que as mulheres têm para os tolos (1861)\n",
      "miscelanea/mams03.txt: Carta ao Sr. Bispo do RJ (1862)\n",
      "miscelanea/mams04.txt: Carta à redação da Imprensa Acadêmica (1864)\n",
      "miscelanea/mams05.txt: Pedro Luís (1884)\n",
      "miscelanea/mams06.txt: A morte de Francisco Otaviano (1889)\n",
      "miscelanea/mams07.txt: Secretaria de Agricultura (1890)\n",
      "miscelanea/mams08.txt: A Paixão de Jesus (1904)\n",
      "miscelanea/mams09.txt: Gonçalves Dias (1906)\n",
      "miscelanea/mams10.txt: A Estátua de José de Alencar (1906)\n",
      "\n"
     ]
    }
   ],
   "source": [
    "from nltk.corpus import machado \n",
    "print(machado.readme())"
   ]
  },
  {
   "cell_type": "markdown",
   "metadata": {},
   "source": [
    "### Texto como cadeia de caracteres\n",
    "\n",
    "Podemos obter um texto de um Córpus como uma sequência de caracteres utilizando o método __.raw(id)__. \n",
    "\n",
    "Escreva um trecho de código que retorne a obra __Dom Casmurro__ e exibe um trecho desse texto em uma faixa que vai do caractere 250 ao 500 utilizando o fatiamento em faixa de strings."
   ]
  },
  {
   "cell_type": "code",
   "execution_count": 63,
   "metadata": {},
   "outputs": [
    {
     "name": "stdout",
     "output_type": "stream",
     "text": [
      "a noite destas, vindo da cidade\n",
      "para o Engenho Novo, encontrei no trem da Central um rapaz aqui do bairro, que\n",
      "eu conheço de vista e de chapéu. Cumprimentou-me, sentou-se ao pé de mim, falou\n",
      "da Lua e dos ministros, e acabou recitando-me versos. A viag\n"
     ]
    }
   ],
   "source": [
    "raw_casmurro = machado.raw('romance/marm08.txt')\n",
    "print(raw_casmurro[250:501])\n"
   ]
  },
  {
   "cell_type": "markdown",
   "metadata": {},
   "source": [
    "### Textos como palavras\n",
    "\n",
    "A biblioteca NLTK também permite retornar um texto como uma lista de tokens utilizando o método __.words(id)__.\n",
    "Escreva um trecho que código para retornar a quantidade de palavras de __Dom Casmurro__\n"
   ]
  },
  {
   "cell_type": "code",
   "execution_count": 64,
   "metadata": {},
   "outputs": [
    {
     "name": "stdout",
     "output_type": "stream",
     "text": [
      "82088\n"
     ]
    }
   ],
   "source": [
    "words_dcasmurro = machado.words('romance/marm08.txt')\n",
    "print(len(words_dcasmurro))"
   ]
  },
  {
   "cell_type": "markdown",
   "metadata": {},
   "source": [
    "Vamos conferir a distrição das palavras com o código abaixo:\n",
    "\n",
    "``` python\n",
    "\n",
    "from nltk.probability import FreqDist\n",
    "fd_words = FreqDist(words_casmurro)\n",
    "fd_words.plot(20)\n",
    "\n",
    "```"
   ]
  },
  {
   "cell_type": "code",
   "execution_count": 65,
   "metadata": {},
   "outputs": [
    {
     "data": {
      "image/png": "[encoded data removed]",
      "text/plain": [
       "<Figure size 432x288 with 1 Axes>"
      ]
     },
     "metadata": {},
     "output_type": "display_data"
    }
   ],
   "source": [
    "from nltk.probability import FreqDist\n",
    "fd_words = FreqDist(words_dcasmurro)\n",
    "fd_words.plot(20)"
   ]
  },
  {
   "cell_type": "markdown",
   "metadata": {},
   "source": [
    "## Préprocessamento do texto\n",
    "\n",
    "### Stopwords\n",
    "\n",
    "Como são consideradas palavras irrelevantes para o entendimento do sentido de um texto, é comum essas palavras serem removidas durante o pré-processamento\n",
    "\n",
    "A biblioteca contém as __stopwords__ para língua portuguesa:\n",
    "\n",
    "``` python \n",
    "nltk.corpus.stopwords.words(’portuguese’)\n",
    "\n",
    "clean_raw_casmurro = ' '.join([word for word in raw_casmurro.split() if word not in stopwords])\n",
    "\n",
    "```\n",
    "\n",
    "### Outras etapas\n",
    "\n",
    "Para termos resultados mais assertivos, limpar as __pontuações, maiúsculas/minúsculas__ e plotar novamente o resultado.\n"
   ]
  },
  {
   "cell_type": "code",
   "execution_count": 76,
   "metadata": {},
   "outputs": [
    {
     "data": {
      "image/png": "[encoded data removed]",
      "text/plain": [
       "<Figure size 432x288 with 1 Axes>"
      ]
     },
     "metadata": {},
     "output_type": "display_data"
    }
   ],
   "source": [
    "stopwords = nltk.corpus.stopwords.words('portuguese')\n",
    "\n",
    "raw_casmurro = machado.raw('romance/marm08.txt')\n",
    "preprocess = raw_casmurro.translate(str.maketrans('','',\"-,.!:?;\\n\")).lower()\n",
    "clean_raw_casmurro = ' '.join([word for word in preprocess.split() if word not in stopwords])\n",
    "\n",
    "fd_words = FreqDist(clean_raw_casmurro.split())\n",
    "fd_words.plot(20)"
   ]
  },
  {
   "cell_type": "markdown",
   "metadata": {},
   "source": [
    "## Tokenização\n",
    "\n",
    "Vamos quebrar o texto com o processo de Tokenização e plotar novamente o resultado, agora após o texto ter sido pré-processado.\n",
    "\n",
    "Lembre-se de importar a biblioteca:\n",
    "\n",
    "``` python\n",
    "\n",
    "from nltk.tokenize import word_tokenize \n",
    "\n",
    "```"
   ]
  },
  {
   "cell_type": "code",
   "execution_count": 77,
   "metadata": {},
   "outputs": [
    {
     "data": {
      "image/png": "[encoded data removed]",
      "text/plain": [
       "<Figure size 432x288 with 1 Axes>"
      ]
     },
     "metadata": {},
     "output_type": "display_data"
    }
   ],
   "source": [
    "from nltk.tokenize import word_tokenize\n",
    "\n",
    "token_clean_raw_casmurro = word_tokenize(clean_raw_casmurro)\n",
    "\n",
    "fd_words = FreqDist(token_clean_raw_casmurro)\n",
    "fd_words.plot(20)"
   ]
  },
  {
   "cell_type": "code",
   "execution_count": 78,
   "metadata": {},
   "outputs": [
    {
     "data": {
      "text/plain": [
       "3998"
      ]
     },
     "execution_count": 78,
     "metadata": {},
     "output_type": "execute_result"
    }
   ],
   "source": [
    "from nltk.tokenize import sent_tokenize\n",
    "\n",
    "token_sent_raw_casmurro = sent_tokenize(raw_casmurro)\n",
    "len(token_sent_raw_casmurro)"
   ]
  },
  {
   "cell_type": "markdown",
   "metadata": {},
   "source": [
    "### Sumarizador de textos\n",
    "\n",
    "Vamos criar o sumarizador com o modelo baseado em regras. Ele deve seguir os seguintes passos:\n",
    "\n",
    "* Leitura do conteúdo: conteúdo textual, no nosso caso estamos utilizando um livro, mas poderia ser uma fonte Web por exemplo.\n",
    "* Préprocessamento: Realizar qualquer tipo de limpeza ou formatação que o conteúdo possa necessitar.\n",
    "* Tokenizar a texto: Pegar a entrar e quebrar em palavras individuais.\n",
    "* Pontuação: Incluir um __score__ da frequência de cada palavra da entrada e pontuar as sentenças.\n",
    "* Seleção: Escolher as top N sentenças baseadas no score.\n",
    "\n",
    "Como os nossos tokens anteriores, e a nossa frequência foi toda gerada com texto limpo, vamos recriar os tokens"
   ]
  },
  {
   "cell_type": "code",
   "execution_count": 79,
   "metadata": {},
   "outputs": [],
   "source": [
    "tk_words = word_tokenize(clean_raw_casmurro)\n",
    "tk_sent = sent_tokenize(raw_casmurro)\n",
    "\n",
    "freq_words = FreqDist(tk_words)\n",
    "\n"
   ]
  },
  {
   "cell_type": "markdown",
   "metadata": {},
   "source": [
    "Vamos criar o score das sentenças criadas:\n",
    "\n",
    "Partindo da lista de palavras mais importantes que geramos no passo anterior, precisamos encontrar as __sentenças mais importantes__ do livro. \n",
    "\n",
    "Utilizaremos o dicionário __defaultdict__ para criar a lista.\n",
    "\n",
    "``` python\n",
    "from collections import defaultdict\n",
    "sentencas_importantes = defaultdict(int)\n",
    "```\n",
    "\n",
    "Agora é hora de popular o dicionário com o índice da sentença e a soma da frequência de cada palavra.\n"
   ]
  },
  {
   "cell_type": "code",
   "execution_count": 83,
   "metadata": {},
   "outputs": [],
   "source": [
    "from collections import defaultdict\n",
    "sentencas_importantes = defaultdict(int)\n",
    "\n",
    "for i,sent in enumerate(tk_sent):\n",
    "    for w in word_tokenize(sent.lower()):\n",
    "        if w in freq_words:\n",
    "            sentencas_importantes[i] += freq_words[w]\n",
    "            "
   ]
  },
  {
   "cell_type": "markdown",
   "metadata": {},
   "source": [
    "Para gerar o resumo, precisamos selecionar as X sentenças mais importantes do texto.\n",
    "\n",
    "``` python\n",
    "\n",
    "indexes = nlargest(10, sentence_ranks, key=sentence_ranks.get)\n",
    "final_sentences = [sentence_tokens[j] for j in sorted(indexes)]\n",
    "print(' '.join(final_sentences))\n",
    "\n",
    "```"
   ]
  },
  {
   "cell_type": "code",
   "execution_count": 85,
   "metadata": {},
   "outputs": [
    {
     "name": "stdout",
     "output_type": "stream",
     "text": [
      "Tudo era matéria às curiosidades de Capitu, mobílias\n",
      "antigas, alfaias velhas, costumes, notícias de Itaguaí, a infância e a mocidade\n",
      "de minha mãe, um dito daqui, uma lembrança dali, um adágio dacolá...\n",
      "\n",
      "CAPÍTULO XXXII\n",
      "\n",
      "OLHOS DE RESSACA\n",
      "\n",
      "Tudo era matéria às curiosidades de\n",
      "Capitu. Capitu fitou-me uns olhos tão\n",
      "ternos, e a posição os fazia tão súplices, que me deixei ficar, passei-lhe o\n",
      "braço pela cintura, ela pegou-me na ponta dos dedos, e...\n",
      "\n",
      "Outra vez D. Fortunata apareceu à\n",
      "porta da casa; não sei para que, se nem me deixou tempo de puxar o braço;\n",
      "desapareceu logo. Capitu deu-me igual conselho,\n",
      "quando minha mãe lhe anunciou a minha ida definitiva para o seminário:\n",
      "\n",
      " Minha filha, você vai perder o\n",
      "seu companheiro de criança...\n",
      "\n",
      "Fez-lhe tão bem este tratamento de\n",
      "filha (era a primeira vez que minha mãe lho dava), que nem teve tempo de\n",
      "ficar triste; beijou-lhe a mão, e disse-lhe que já sabia disso por mim mesmo. Tenha paciência, vá estudando, não se perde nada\n",
      "em ir sabendo já daqui alguma coisa; e, demais, ainda não acabando padre, a\n",
      "vida do seminário é útil, e vale sempre entrar no mundo ungido com os santos\n",
      "óleos da teologia...\n",
      "\n",
      "Neste ponto,  lembra-me como se\n",
      "fosse hoje,  os olhos de José Dias fulguraram tão intensamente que me encheram\n",
      "de espanto. Minha mãe,\n",
      "depois que lhe respondi as mil perguntas que me fez sobre o tratamento que me\n",
      "davam, os estudos, as relações, a disciplina, e se me doía alguma coisa, e se\n",
      "dormia bem, tudo o que a ternura das mães inventa para cansar a paciência de um\n",
      "filho, concluiu voltando-se para José Dias:\n",
      "\n",
      " Sr. José Dias, ainda duvida que\n",
      "saia daqui um bom padre? Mas o exemplo\n",
      "completa-se com o que ouvi no dia seguinte, ao almoço; minha mãe, dizendo tio\n",
      "Cosme que ainda queria ver com que mão havia eu de abençoar o povo à missa,\n",
      "contou que, dias antes, estando a falar de moças que se casam cedo, Capitu lhe\n",
      "dissera: 'Pois a mim quem me há de casar há de ser o Padre Bentinho; eu\n",
      "espero que ele se ordene!' Eu, impaciente, queria ir à casa ao pé, imaginava que Capitu saísse da\n",
      "janela assustada e não tardasse a aparecer, para indagar e explicar... E os\n",
      "dois falavam, até que tio Cosme ergueu-se para ir ver a doente, e José Dias\n",
      "veio ter comigo, ao vão da outra janela. Descido o cadáver à cova, trouxeram a cal e a pá; sabes disto, terás\n",
      "ido a mais de um enterro, mas o que não sabes nem pode saber nenhum dos teus\n",
      "amigos, leitor, ou qualquer outro estranho, é a crise que me tomou quando vi\n",
      "todos os olhos em mim, os pés quietos, as orelhas atentas, e, ao cabo de alguns\n",
      "instantes de total silêncio, um sussurro vago, algumas vozes interrogativas,\n",
      "sinais, e alguém, José Dias, que me dizia ao ouvido:\n",
      "\n",
      " Então, fale. Capitu, alheia a ambos, fitava\n",
      "agora a outra borda da mesa; mas, dizendo-lhe eu que, na beleza, os olhos de\n",
      "Ezequiel saíam aos da mãe, Capitu sorriu, abanando a cabeça com um ar que nunca\n",
      "achei em mulher alguma, provavelmente porque não gostei tanto das outras. Correspondia-se com Capitu, a que pedia que\n",
      "lhe mandasse o retrato de Ezequiel; mas Capitu ia adiando a remessa de correio\n",
      "a correio, até que ele não pediu mais nada, a não ser o coração do jovem\n",
      "estudante; pedia-lhe também que não deixasse de falar a Ezequiel no velho amigo\n",
      "do pai e do avô, 'destinado pelo Céu a amar o mesmo sangue.Era assim que\n",
      "ele preparava os cuidados da terceira geração; mas a morte veio antes de\n",
      "Ezequiel.\n"
     ]
    }
   ],
   "source": [
    "from heapq import nlargest\n",
    "\n",
    "indexes = nlargest(10, sentencas_importantes, key=sentencas_importantes.get)\n",
    "sentencas_finais = [tk_sent[j] for j in sorted(indexes)]\n",
    "print(' '.join(sentencas_finais))"
   ]
  },
  {
   "cell_type": "markdown",
   "metadata": {},
   "source": [
    "## Stemmer\n",
    "\n",
    "Primeiro vamos testar o Stemmer que faz parte da biblioteca NLTK para Português.\n",
    "\n",
    "``` python\n",
    "from nltk.stem import RSLPStemmer\n",
    "```\n",
    "\n",
    "_Tokenizar_ e passar o _Stemmer_ no texto e então ver se a frequência das palavras principais muda:"
   ]
  },
  {
   "cell_type": "code",
   "execution_count": 93,
   "metadata": {},
   "outputs": [
    {
     "data": {
      "image/png": "[encoded data removed]",
      "text/plain": [
       "<Figure size 432x288 with 1 Axes>"
      ]
     },
     "metadata": {},
     "output_type": "display_data"
    }
   ],
   "source": [
    "from nltk.stem import RSLPStemmer\n",
    "stemmer = RSLPStemmer()\n",
    "\n",
    "i = 0\n",
    "while i < len(tk_words):\n",
    "    tk_words[i] = stemmer.stem(tk_words[i])\n",
    "    i+=1\n",
    "\n",
    "fd_words = FreqDist(tk_words)\n",
    "fd_words.plot(20)\n"
   ]
  },
  {
   "cell_type": "markdown",
   "metadata": {},
   "source": [
    "### Lemmatização\n",
    "\n",
    "Não há uma biblioteca oficial para português. Vamos testar a biblioteca __WordNetLemmatizer__ que é para inglês. \n",
    "A título de comparação utilizaremos um livro em inglês da biblioteca Gutenberg e o _stemmer_ __PorterStemmer__"
   ]
  },
  {
   "cell_type": "code",
   "execution_count": 107,
   "metadata": {},
   "outputs": [
    {
     "data": {
      "image/png": "[encoded data removed]",
      "text/plain": [
       "<Figure size 432x288 with 1 Axes>"
      ]
     },
     "metadata": {},
     "output_type": "display_data"
    }
   ],
   "source": [
    "from nltk.stem import WordNetLemmatizer\n",
    "from nltk.stem import PorterStemmer\n",
    "from nltk.corpus import gutenberg\n",
    "\n",
    "alice_raw = gutenberg.raw('carroll-alice.txt')\n",
    "stopwords = nltk.corpus.stopwords.words('english')\n",
    "preprocess = alice_raw.lower().translate(str.maketrans('','',\"\\\"\\'-,.!:?;\\n*()\"))\n",
    "clean_alice_raw = ' '.join([word for word in preprocess.split() if word not in stopwords])\n",
    "alice_words = word_tokenize(clean_alice_raw)\n",
    "stemmed_tokens = alice_words.copy()\n",
    "lemmatizer_tokens = alice_words.copy()\n",
    "\n",
    "stemmer = PorterStemmer()\n",
    "lemmatizer = WordNetLemmatizer()\n",
    "\n",
    "i = 0\n",
    "while i < len(alice_words):\n",
    "    stemmed_tokens[i] = stemmer.stem(alice_words[i])\n",
    "    lemmatizer_tokens[i] = lemmatizer.lemmatize(alice_words[i])\n",
    "    i+=1\n",
    "    \n",
    "fd_stem_words = FreqDist(stemmed_tokens)\n",
    "fd_stem_words.plot(20)"
   ]
  },
  {
   "cell_type": "code",
   "execution_count": 108,
   "metadata": {},
   "outputs": [
    {
     "data": {
      "image/png": "[encoded data removed]",
      "text/plain": [
       "<Figure size 432x288 with 1 Axes>"
      ]
     },
     "metadata": {},
     "output_type": "display_data"
    }
   ],
   "source": [
    "fd_lem_words = FreqDist(lemmatizer_tokens)\n",
    "fd_lem_words.plot(20)"
   ]
  }
 ],
 "metadata": {
  "kernelspec": {
   "display_name": "Python 3",
   "language": "python",
   "name": "python3"
  },
  "language_info": {
   "codemirror_mode": {
    "name": "ipython",
    "version": 3
   },
   "file_extension": ".py",
   "mimetype": "text/x-python",
   "name": "python",
   "nbconvert_exporter": "python",
   "pygments_lexer": "ipython3",
   "version": "3.6.5"
  }
 },
 "nbformat": 4,
 "nbformat_minor": 2
}
