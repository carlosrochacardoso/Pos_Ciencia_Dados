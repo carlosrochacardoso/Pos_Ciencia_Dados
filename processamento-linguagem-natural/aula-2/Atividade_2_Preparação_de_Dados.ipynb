{
  "nbformat": 4,
  "nbformat_minor": 0,
  "metadata": {
    "colab": {
      "name": "Atividade 2 - Preparação de Dados.ipynb",
      "version": "0.3.2",
      "provenance": []
    },
    "kernelspec": {
      "name": "python3",
      "display_name": "Python 3"
    }
  },
  "cells": [
    {
      "cell_type": "markdown",
      "metadata": {
        "id": "AE2h6hkk7ZJS",
        "colab_type": "text"
      },
      "source": [
        "# Atividade 2 - Preparação de Dados\n",
        "Código em Python para análise e preparação de dados, conforme proposta da atividade 2 da disciplina de Machine Learning do curso de Ciência de Dados e Big Data da PUC-MG.\n",
        "\n",
        "**Professor:** Hugo de Paula \n",
        "\n",
        "**Aluno:** Carlos Alberto Rocha Cardoso\n",
        "\n",
        "Agosto de 2019 \n",
        "\n"
      ]
    },
    {
      "cell_type": "markdown",
      "metadata": {
        "id": "9zB9qWeh-av6",
        "colab_type": "text"
      },
      "source": [
        "##Bibliotecas e parametrização do ambiente"
      ]
    },
    {
      "cell_type": "code",
      "metadata": {
        "id": "p-mtC7LV-Wcg",
        "colab_type": "code",
        "colab": {}
      },
      "source": [
        "import pandas as pd\n",
        "import numpy as np\n",
        "\n",
        "pd.set_option('display.max_columns', 500)\n",
        "pd.set_option('display.max_rows', 500)\n",
        "pd.set_option('precision', 2)"
      ],
      "execution_count": 0,
      "outputs": []
    },
    {
      "cell_type": "markdown",
      "metadata": {
        "id": "ID-e3Xaz_Kjj",
        "colab_type": "text"
      },
      "source": [
        "##Importação dos dados\n",
        "O arquivo original para a atividade foi fornecido no formato **xlsx** e convertido para **csv** ao realizar o download da origem."
      ]
    },
    {
      "cell_type": "code",
      "metadata": {
        "id": "Bg7JOFXk_JoZ",
        "colab_type": "code",
        "outputId": "2dd78d13-160d-417f-8354-a9d7ea5bd2d2",
        "colab": {
          "resources": {
            "http://localhost:8080/nbextensions/google.colab/files.js": {
              "data": "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",
              "ok": true,
              "headers": [
                [
                  "content-type",
                  "application/javascript"
                ]
              ],
              "status": 200,
              "status_text": "OK"
            }
          },
          "base_uri": "https://localhost:8080/",
          "height": 83
        }
      },
      "source": [
        "from google.colab import files\n",
        "\n",
        "uploaded = files.upload()"
      ],
      "execution_count": 5,
      "outputs": [
        {
          "output_type": "display_data",
          "data": {
            "text/html": [
              "\n",
              "     <input type=\"file\" id=\"files-a987c53c-8ca0-4ded-ab63-2493edb2c360\" name=\"files[]\" multiple disabled />\n",
              "     <output id=\"result-a987c53c-8ca0-4ded-ab63-2493edb2c360\">\n",
              "      Upload widget is only available when the cell has been executed in the\n",
              "      current browser session. Please rerun this cell to enable.\n",
              "      </output>\n",
              "      <script src=\"/nbextensions/google.colab/files.js\"></script> "
            ],
            "text/plain": [
              "<IPython.core.display.HTML object>"
            ]
          },
          "metadata": {
            "tags": []
          }
        },
        {
          "output_type": "stream",
          "text": [
            "Saving automoveis.csv to automoveis.csv\n"
          ],
          "name": "stdout"
        }
      ]
    },
    {
      "cell_type": "markdown",
      "metadata": {
        "id": "-4ZEluPxOYdM",
        "colab_type": "text"
      },
      "source": [
        "No método do pandas **read_csv** foi utilizado o parâmetro **decimal=' , '** para correta identificação do caracter decimal e dos tipos numéricos das colunas.\n"
      ]
    },
    {
      "cell_type": "code",
      "metadata": {
        "id": "WQSc8YdtAndz",
        "colab_type": "code",
        "colab": {}
      },
      "source": [
        "automoveis = pd.read_csv(next(iter(uploaded.keys())), decimal=',')"
      ],
      "execution_count": 0,
      "outputs": []
    },
    {
      "cell_type": "code",
      "metadata": {
        "id": "YeRvRvLdAvNu",
        "colab_type": "code",
        "outputId": "199e3eda-a0dc-4186-fc92-dba62a5c9b72",
        "colab": {
          "base_uri": "https://localhost:8080/",
          "height": 905
        }
      },
      "source": [
        "print(\"\\nDimensões:\\n{0}\\n\".format(automoveis.shape))\n",
        "print(\"\\nCampos:\\n{0}\\n\".format(list(automoveis.keys())))\n",
        "print(\"\\nTipos dos dados:\\n{0}\\n\".format(automoveis.dtypes))\n",
        "print(\"\\nAmostra:\\n{0}\\n\".format(automoveis.head()))"
      ],
      "execution_count": 36,
      "outputs": [
        {
          "output_type": "stream",
          "text": [
            "\n",
            "Dimensões:\n",
            "(205, 15)\n",
            "\n",
            "\n",
            "Campos:\n",
            "['Fabricante', 'Combustível', 'Portas', 'Estilo Chassis', 'Tração', 'Comprimento', 'Largura', 'Altura', 'Tipo de motor', 'Número de cilindros', 'Tamanho do motor', 'Tipo de injeção', 'Potência (HP)', 'Pico RPM', 'Preço']\n",
            "\n",
            "\n",
            "Tipos dos dados:\n",
            "Fabricante              object\n",
            "Combustível             object\n",
            "Portas                 float64\n",
            "Estilo Chassis          object\n",
            "Tração                  object\n",
            "Comprimento            float64\n",
            "Largura                float64\n",
            "Altura                 float64\n",
            "Tipo de motor           object\n",
            "Número de cilindros     object\n",
            "Tamanho do motor       float64\n",
            "Tipo de injeção         object\n",
            "Potência (HP)          float64\n",
            "Pico RPM               float64\n",
            "Preço                  float64\n",
            "dtype: object\n",
            "\n",
            "\n",
            "Amostra:\n",
            "   Fabricante Combustível  Portas Estilo Chassis     Tração  Comprimento  \\\n",
            "0  alfa-romeo         gas     2.0    conversível   traseira        168.8   \n",
            "1  alfa-romeo         gas     2.0    conversível   traseira        168.8   \n",
            "2  alfa-romeo         gas     2.0          hatch   traseira        171.2   \n",
            "3        audi         gas     4.0          sedan  dianteira        176.6   \n",
            "4        audi         gas     4.0          sedan        4x4        176.6   \n",
            "\n",
            "   Largura  Altura Tipo de motor Número de cilindros  Tamanho do motor  \\\n",
            "0     64.1    48.8          dohc                   4             130.0   \n",
            "1     64.1    48.8          dohc                   4             130.0   \n",
            "2     65.5    52.4          ohcv                   6             152.0   \n",
            "3     66.2    54.3           ohc                   4             109.0   \n",
            "4     66.4    54.3           ohc                   5             136.0   \n",
            "\n",
            "  Tipo de injeção  Potência (HP)  Pico RPM    Preço  \n",
            "0            mpfi          111.0    5000.0  13495.0  \n",
            "1            mpfi          111.0    5000.0  16500.0  \n",
            "2            mpfi          154.0    5000.0  16500.0  \n",
            "3            mpfi          102.0    5500.0  13950.0  \n",
            "4            mpfi          115.0    5500.0  17450.0  \n",
            "\n"
          ],
          "name": "stdout"
        }
      ]
    },
    {
      "cell_type": "markdown",
      "metadata": {
        "id": "_2Hk-tGOCnEq",
        "colab_type": "text"
      },
      "source": [
        "##Análise Descritiva"
      ]
    },
    {
      "cell_type": "code",
      "metadata": {
        "id": "yfMF4vTNBvz-",
        "colab_type": "code",
        "outputId": "f11a0578-d2fa-4574-d5ff-013a93388976",
        "colab": {
          "base_uri": "https://localhost:8080/",
          "height": 590
        }
      },
      "source": [
        "print(\"Atributos Numéricos:\\n\",automoveis.describe())\n",
        "\n",
        "categ = automoveis.dtypes[automoveis.dtypes == 'object'].index\n",
        "print('\\nAtributos Categóricos:\\n', automoveis[categ].describe())"
      ],
      "execution_count": 37,
      "outputs": [
        {
          "output_type": "stream",
          "text": [
            "Atributos Numéricos:\n",
            "        Portas  Comprimento  Largura  Altura  Tamanho do motor  Potência (HP)  \\\n",
            "count  203.00       205.00   205.00  205.00            205.00         205.00   \n",
            "mean     3.12       174.05    65.91   53.72            126.91         104.26   \n",
            "std      0.99        12.34     2.15    2.44             41.64          39.52   \n",
            "min      2.00       141.10    60.30   47.80             61.00          48.00   \n",
            "25%      2.00       166.30    64.10   52.00             97.00          70.00   \n",
            "50%      4.00       173.20    65.50   54.10            120.00          95.00   \n",
            "75%      4.00       183.10    66.90   55.50            141.00         116.00   \n",
            "max      4.00       208.10    72.30   59.80            326.00         288.00   \n",
            "\n",
            "        Pico RPM     Preço  \n",
            "count     205.00    205.00  \n",
            "mean    10727.32  13207.13  \n",
            "std     56645.35   7868.77  \n",
            "min      4150.00   5118.00  \n",
            "25%      4800.00   7788.00  \n",
            "50%      5200.00  10595.00  \n",
            "75%      5500.00  16500.00  \n",
            "max    580000.00  45400.00  \n",
            "\n",
            "Atributos Categóricos:\n",
            "        Fabricante Combustível Estilo Chassis     Tração Tipo de motor  \\\n",
            "count         203         200            205        205           205   \n",
            "unique         22           2              5          3             7   \n",
            "top        toyota         gas          sedan  dianteira           ohc   \n",
            "freq           32         180             96        120           148   \n",
            "\n",
            "       Número de cilindros Tipo de injeção  \n",
            "count                  205             205  \n",
            "unique                   7               8  \n",
            "top                      4            mpfi  \n",
            "freq                   159              94  \n"
          ],
          "name": "stdout"
        }
      ]
    },
    {
      "cell_type": "markdown",
      "metadata": {
        "id": "yO-YsHUtZN-7",
        "colab_type": "text"
      },
      "source": [
        "###Observações:\n",
        "\n",
        "*   Os atributos **Portas, Fabricante e Combustível** possuem dados faltantes\n",
        "*   O atributo **Pico RPM** possui um valor máximo que foge ao padrão dos demais.\n",
        "*   O atributo **Número de cilindros** apesar de ser apresentado como do tipo object armazena valores númericos, a moda por exemplo é o valor 4.\n",
        "* O atributo **Portas** pode ser convertido para categoria\n",
        "\n"
      ]
    },
    {
      "cell_type": "markdown",
      "metadata": {
        "id": "jue_ZMd29RKD",
        "colab_type": "text"
      },
      "source": [
        "##TRANSFORMAÇÃO DE ATRIBUTOS"
      ]
    },
    {
      "cell_type": "markdown",
      "metadata": {
        "id": "PSBMyksSKh9T",
        "colab_type": "text"
      },
      "source": [
        "Optou-se por transofrmar o atributo **Portas** em categorico dada sua distribuição de valores."
      ]
    },
    {
      "cell_type": "code",
      "metadata": {
        "id": "NOmJvPE4914O",
        "colab_type": "code",
        "outputId": "9b3b3f03-a05c-43aa-d307-f96053a24c63",
        "colab": {
          "base_uri": "https://localhost:8080/",
          "height": 69
        }
      },
      "source": [
        "novo_portas = pd.Categorical(automoveis['Portas'])\n",
        "print(\"Valores únicos para a categoria Portas:\\n\",novo_portas.unique())\n"
      ],
      "execution_count": 38,
      "outputs": [
        {
          "output_type": "stream",
          "text": [
            "Valores únicos para a categoria Portas:\n",
            " [2.0, 4.0, NaN]\n",
            "Categories (2, float64): [2.0, 4.0]\n"
          ],
          "name": "stdout"
        }
      ]
    },
    {
      "cell_type": "code",
      "metadata": {
        "id": "BXapwi36-EaW",
        "colab_type": "code",
        "outputId": "24eb48a5-f238-4e30-9b68-fabd013a4ffe",
        "colab": {
          "base_uri": "https://localhost:8080/",
          "height": 121
        }
      },
      "source": [
        "novo_portas = novo_portas.rename_categories(['2 portas', '4 portas'])\n",
        "automoveis['Portas'] = novo_portas\n",
        "print(\"Análise do atributo Portas:\\n\",automoveis['Portas'].describe())"
      ],
      "execution_count": 39,
      "outputs": [
        {
          "output_type": "stream",
          "text": [
            "Análise do atributo Portas:\n",
            " count          203\n",
            "unique           2\n",
            "top       4 portas\n",
            "freq           114\n",
            "Name: Portas, dtype: object\n"
          ],
          "name": "stdout"
        }
      ]
    },
    {
      "cell_type": "markdown",
      "metadata": {
        "id": "l6UjTUYN37Xt",
        "colab_type": "text"
      },
      "source": [
        "##Valores Inconsistentes"
      ]
    },
    {
      "cell_type": "markdown",
      "metadata": {
        "id": "iJRKZ6WvTHbd",
        "colab_type": "text"
      },
      "source": [
        "Avaliando possíveis iconsistências para os atributos categóricos"
      ]
    },
    {
      "cell_type": "code",
      "metadata": {
        "id": "8dMbotQVOT6l",
        "colab_type": "code",
        "outputId": "e63230a6-69d3-49f8-d609-0091b84ea95a",
        "colab": {
          "base_uri": "https://localhost:8080/",
          "height": 503
        }
      },
      "source": [
        "# Listando valores únicos para os atributos categóricos\n",
        "categ_q1 = (automoveis.dtypes == 'category') | (automoveis.dtypes == 'object')\n",
        "categ = automoveis.dtypes[categ_q1].index\n",
        "\n",
        "for c in categ:\n",
        "  print('\\nValores únicos de %s:\\n%s'%(c, automoveis[c].unique()))"
      ],
      "execution_count": 40,
      "outputs": [
        {
          "output_type": "stream",
          "text": [
            "\n",
            "Valores únicos de Fabricante:\n",
            "['alfa-romeo' 'audi' 'bmw' 'chevrolet' 'dodge' 'honda' 'isuzu' 'jaguar'\n",
            " 'mazda' 'mercedes-benz' 'mercury' 'mitsubishi' 'nissan' 'peugot'\n",
            " 'plymouth' 'porsche' 'renault' 'saab' 'subaru' 'toyota' 'volkswagen'\n",
            " 'volvo' nan]\n",
            "\n",
            "Valores únicos de Combustível:\n",
            "['gas' 'diesel' nan]\n",
            "\n",
            "Valores únicos de Portas:\n",
            "[2 portas, 4 portas, NaN]\n",
            "Categories (2, object): [2 portas, 4 portas]\n",
            "\n",
            "Valores únicos de Estilo Chassis:\n",
            "['conversível' 'hatch' 'sedan' 'suv' 'hardtop']\n",
            "\n",
            "Valores únicos de Tração:\n",
            "['traseira' 'dianteira' '4x4']\n",
            "\n",
            "Valores únicos de Tipo de motor:\n",
            "['dohc' 'ohcv' 'ohc' 'l' 'rotor' 'ohcf' 'dohcv']\n",
            "\n",
            "Valores únicos de Número de cilindros:\n",
            "['4' '6' '5' '3' 'doze' '2' 'oito']\n",
            "\n",
            "Valores únicos de Tipo de injeção:\n",
            "['mpfi' '2bbl' 'mfi' '1bbl' 'spfi' '4bbl' 'idi' 'spdi']\n"
          ],
          "name": "stdout"
        }
      ]
    },
    {
      "cell_type": "markdown",
      "metadata": {
        "id": "GNXuEJ_EQgjW",
        "colab_type": "text"
      },
      "source": [
        "Ao imprimir os valores únicos, foi identificada uma inconsistência no atributo **Número de cilindros**. Alguns valores numéros estavam armazenados por extenso. \n",
        "\n",
        "\n",
        "Esses valores foram então convertidos."
      ]
    },
    {
      "cell_type": "code",
      "metadata": {
        "id": "zwBtGyLbRUoS",
        "colab_type": "code",
        "colab": {}
      },
      "source": [
        "#Convertendo valores para Número de cilindros\n",
        "replace_vals = {'doze':'12','oito':'8'}\n",
        "automoveis['Número de cilindros'] = automoveis['Número de cilindros'].replace(replace_vals)\n"
      ],
      "execution_count": 0,
      "outputs": []
    },
    {
      "cell_type": "code",
      "metadata": {
        "id": "jW2WEhlDMAJE",
        "colab_type": "code",
        "colab": {
          "base_uri": "https://localhost:8080/",
          "height": 52
        },
        "outputId": "993da40b-56f5-4e39-e6a8-00c7fcab2bd9"
      },
      "source": [
        "print(\"Valores após conversão:\\n\",automoveis['Número de cilindros'].unique())"
      ],
      "execution_count": 42,
      "outputs": [
        {
          "output_type": "stream",
          "text": [
            "Valores após conversão:\n",
            " ['4' '6' '5' '3' '12' '2' '8']\n"
          ],
          "name": "stdout"
        }
      ]
    },
    {
      "cell_type": "code",
      "metadata": {
        "id": "J7FagYPaW_nG",
        "colab_type": "code",
        "outputId": "26373f6b-9c00-4b70-b440-4620c135a3eb",
        "colab": {
          "base_uri": "https://localhost:8080/",
          "height": 34
        }
      },
      "source": [
        "#Alterando tipo do atributo Número de cilindros\n",
        "automoveis['Número de cilindros'] = automoveis['Número de cilindros'].astype(float)\n",
        "print(\"Tipo do atributo Número de cilindros:\",automoveis['Número de cilindros'].dtype)"
      ],
      "execution_count": 13,
      "outputs": [
        {
          "output_type": "stream",
          "text": [
            "Tipo do atributo Número de cilindros: float64\n"
          ],
          "name": "stdout"
        }
      ]
    },
    {
      "cell_type": "code",
      "metadata": {
        "id": "2w8wqy33DvF2",
        "colab_type": "code",
        "outputId": "76e91c54-a152-4d00-8b36-3ad8a029ba68",
        "colab": {
          "base_uri": "https://localhost:8080/",
          "height": 347
        }
      },
      "source": [
        "print(\"\\nTipos dos dados:\\n{0}\\n\".format(automoveis.dtypes))"
      ],
      "execution_count": 14,
      "outputs": [
        {
          "output_type": "stream",
          "text": [
            "\n",
            "Tipos dos dados:\n",
            "Fabricante               object\n",
            "Combustível              object\n",
            "Portas                 category\n",
            "Estilo Chassis           object\n",
            "Tração                   object\n",
            "Comprimento             float64\n",
            "Largura                 float64\n",
            "Altura                  float64\n",
            "Tipo de motor            object\n",
            "Número de cilindros     float64\n",
            "Tamanho do motor        float64\n",
            "Tipo de injeção          object\n",
            "Potência (HP)           float64\n",
            "Pico RPM                float64\n",
            "Preço                   float64\n",
            "dtype: object\n",
            "\n"
          ],
          "name": "stdout"
        }
      ]
    },
    {
      "cell_type": "markdown",
      "metadata": {
        "id": "fU7AG2GnUNhU",
        "colab_type": "text"
      },
      "source": [
        "##Valores Faltantes"
      ]
    },
    {
      "cell_type": "markdown",
      "metadata": {
        "id": "r2605dvI4TMG",
        "colab_type": "text"
      },
      "source": [
        "###Análise do atributo Portas"
      ]
    },
    {
      "cell_type": "code",
      "metadata": {
        "id": "ZKcxcnR_Yp93",
        "colab_type": "code",
        "outputId": "0894c07e-dee5-4970-a501-ec1063957ea2",
        "colab": {
          "base_uri": "https://localhost:8080/",
          "height": 243
        }
      },
      "source": [
        "print(\"Registros com valor nulo para o atributo Portas:\\n\\n\",automoveis[automoveis['Portas'].isnull()])"
      ],
      "execution_count": 43,
      "outputs": [
        {
          "output_type": "stream",
          "text": [
            "Registros com valor nulo para o atributo Portas:\n",
            "\n",
            "    Fabricante Combustível Portas Estilo Chassis     Tração  Comprimento  \\\n",
            "26      dodge         gas    NaN          sedan  dianteira        157.3   \n",
            "61      mazda      diesel    NaN          sedan  dianteira        177.8   \n",
            "\n",
            "    Largura  Altura Tipo de motor Número de cilindros  Tamanho do motor  \\\n",
            "26     63.8    50.6           ohc                   4              98.0   \n",
            "61     66.5    55.5           ohc                   4             122.0   \n",
            "\n",
            "   Tipo de injeção  Potência (HP)  Pico RPM    Preço  \n",
            "26            mpfi          102.0    5500.0   8558.0  \n",
            "61             idi           64.0    4650.0  10795.0  \n"
          ],
          "name": "stdout"
        }
      ]
    },
    {
      "cell_type": "markdown",
      "metadata": {
        "id": "Imr2V74JU50n",
        "colab_type": "text"
      },
      "source": [
        "Com base nos registros com valores nulos para o atributo **Portas**, foi verificada a quantidade de portas para os carros sedan dos fabricantes dodge e mazda"
      ]
    },
    {
      "cell_type": "code",
      "metadata": {
        "id": "l11w3sykxV-I",
        "colab_type": "code",
        "outputId": "1c8437ef-4e60-4d60-d79f-4e42dd0b3211",
        "colab": {
          "base_uri": "https://localhost:8080/",
          "height": 729
        }
      },
      "source": [
        "#Filtro para consulta dos valores para o atributo Portas\n",
        "portas_q1 = (automoveis['Estilo Chassis'] == 'sedan') & \\\n",
        "            ((automoveis['Fabricante'] == 'dodge') | (automoveis['Fabricante'] == 'mazda'))\n",
        "\n",
        "print(\"\\nQuantidade de portas para carros sedan dos fabricantes dodge e mazda:\\n\", automoveis[portas_q1]['Portas'].unique())\n",
        "\n",
        "print('\\nRegistros:\\n', automoveis[portas_q1])\n"
      ],
      "execution_count": 44,
      "outputs": [
        {
          "output_type": "stream",
          "text": [
            "\n",
            "Quantidade de portas para carros sedan dos fabricantes dodge e mazda:\n",
            " [4 portas, NaN]\n",
            "Categories (1, object): [4 portas]\n",
            "\n",
            "Registros:\n",
            "    Fabricante Combustível    Portas Estilo Chassis     Tração  Comprimento  \\\n",
            "24      dodge         gas  4 portas          sedan  dianteira        157.3   \n",
            "25      dodge         gas  4 portas          sedan  dianteira        157.3   \n",
            "26      dodge         gas       NaN          sedan  dianteira        157.3   \n",
            "52      mazda         gas  4 portas          sedan  dianteira        166.8   \n",
            "53      mazda         gas  4 portas          sedan  dianteira        166.8   \n",
            "58      mazda         gas  4 portas          sedan  dianteira        177.8   \n",
            "60      mazda         gas  4 portas          sedan  dianteira        177.8   \n",
            "61      mazda      diesel       NaN          sedan  dianteira        177.8   \n",
            "63      mazda         gas  4 portas          sedan   traseira        175.0   \n",
            "64      mazda      diesel  4 portas          sedan   traseira        175.0   \n",
            "\n",
            "    Largura  Altura Tipo de motor Número de cilindros  Tamanho do motor  \\\n",
            "24     63.8    50.6           ohc                   4              90.0   \n",
            "25     63.8    50.6           ohc                   4              90.0   \n",
            "26     63.8    50.6           ohc                   4              98.0   \n",
            "52     64.2    54.1           ohc                   4              91.0   \n",
            "53     64.2    54.1           ohc                   4              91.0   \n",
            "58     66.5    55.5           ohc                   4             122.0   \n",
            "60     66.5    55.5           ohc                   4             122.0   \n",
            "61     66.5    55.5           ohc                   4             122.0   \n",
            "63     66.1    54.4           ohc                   4             140.0   \n",
            "64     66.1    54.4           ohc                   4             134.0   \n",
            "\n",
            "   Tipo de injeção  Potência (HP)  Pico RPM    Preço  \n",
            "24            2bbl           68.0    5500.0   6692.0  \n",
            "25            2bbl           68.0    5500.0   7609.0  \n",
            "26            mpfi          102.0    5500.0   8558.0  \n",
            "52            2bbl           68.0    5000.0   6695.0  \n",
            "53            2bbl           68.0    5000.0   7395.0  \n",
            "58            2bbl           84.0    4800.0   8495.0  \n",
            "60            2bbl           84.0    4800.0  10245.0  \n",
            "61             idi           64.0    4650.0  10795.0  \n",
            "63            mpfi          120.0    5000.0  18280.0  \n",
            "64             idi           72.0    4200.0  18344.0  \n"
          ],
          "name": "stdout"
        }
      ]
    },
    {
      "cell_type": "markdown",
      "metadata": {
        "id": "MFfa7XKa5cPW",
        "colab_type": "text"
      },
      "source": [
        "Para o atributo **Portas**, foram substituído os valores nulos pelo valor **4 portas**,\n",
        "considerando que para a categoria sedan dos fabricantes mazda e dodge, todos os registros não nulos possuem 4 portas."
      ]
    },
    {
      "cell_type": "code",
      "metadata": {
        "id": "N5rMQDHq7em9",
        "colab_type": "code",
        "outputId": "929cbde0-2da0-4a06-a923-410f3600bfc0",
        "colab": {
          "base_uri": "https://localhost:8080/",
          "height": 191
        }
      },
      "source": [
        "automoveis.loc[automoveis['Portas'].isnull(),['Portas']] = '4 portas'\n",
        "\n",
        "print('Análise do atributo Portas:\\n', automoveis['Portas'].describe())\n",
        "print(\"\\nQuantidade de portas para carros sedan dos fabricantes dodge e mazda:\\n\", automoveis[portas_q1]['Portas'].unique())"
      ],
      "execution_count": 45,
      "outputs": [
        {
          "output_type": "stream",
          "text": [
            "Análise do atributo Portas:\n",
            " count          205\n",
            "unique           2\n",
            "top       4 portas\n",
            "freq           116\n",
            "Name: Portas, dtype: object\n",
            "\n",
            "Quantidade de portas para carros sedan dos fabricantes dodge e mazda:\n",
            " [4 portas]\n",
            "Categories (1, object): [4 portas]\n"
          ],
          "name": "stdout"
        }
      ]
    },
    {
      "cell_type": "markdown",
      "metadata": {
        "id": "Nb0LS9ELAlUz",
        "colab_type": "text"
      },
      "source": [
        "###Análise do atributo Fabricante"
      ]
    },
    {
      "cell_type": "code",
      "metadata": {
        "id": "TpSkWOCHAuC6",
        "colab_type": "code",
        "outputId": "a3a0687a-dd74-4e14-af2a-53f700875bab",
        "colab": {
          "base_uri": "https://localhost:8080/",
          "height": 208
        }
      },
      "source": [
        "\n",
        "print(\"Registros com valor nulo para o atributo Fabricante:\\n\\n\",automoveis[automoveis['Fabricante'].isnull()])"
      ],
      "execution_count": 46,
      "outputs": [
        {
          "output_type": "stream",
          "text": [
            "    Fabricante Combustível    Portas Estilo Chassis    Tração  Comprimento  \\\n",
            "203        NaN         gas  4 portas          sedan  traseira        176.8   \n",
            "204        NaN         gas  2 portas          hatch  traseira        169.0   \n",
            "\n",
            "     Largura  Altura Tipo de motor Número de cilindros  Tamanho do motor  \\\n",
            "203     64.8    54.3           ohc                   6             164.0   \n",
            "204     65.7    49.6         rotor                   2              70.0   \n",
            "\n",
            "    Tipo de injeção  Potência (HP)  Pico RPM    Preço  \n",
            "203            mpfi          121.0    4250.0  21105.0  \n",
            "204            4bbl          101.0    6000.0  10945.0  \n"
          ],
          "name": "stdout"
        }
      ]
    },
    {
      "cell_type": "markdown",
      "metadata": {
        "id": "8W1I-Nb6BbI1",
        "colab_type": "text"
      },
      "source": [
        "Após analisar os registros, optou-se por substiruir os valores nulos da varíavel **Fabricante** pelo valor **\"Não Informado\"** "
      ]
    },
    {
      "cell_type": "code",
      "metadata": {
        "id": "l9DDlpVkByYP",
        "colab_type": "code",
        "outputId": "bb5387fd-ab91-4f60-c19d-afa2b9f10a98",
        "colab": {
          "base_uri": "https://localhost:8080/",
          "height": 121
        }
      },
      "source": [
        "automoveis.loc[automoveis['Fabricante'].isnull(),['Fabricante']] = 'Não Informado'\n",
        "\n",
        "print('Análise da variável Fabricante:\\n', automoveis['Fabricante'].describe())"
      ],
      "execution_count": 47,
      "outputs": [
        {
          "output_type": "stream",
          "text": [
            "Análise da variável Fabricante:\n",
            " count        205\n",
            "unique        23\n",
            "top       toyota\n",
            "freq          32\n",
            "Name: Fabricante, dtype: object\n"
          ],
          "name": "stdout"
        }
      ]
    },
    {
      "cell_type": "markdown",
      "metadata": {
        "id": "9-bPTPk5CdNa",
        "colab_type": "text"
      },
      "source": [
        "###Análise do atributo Combustível"
      ]
    },
    {
      "cell_type": "code",
      "metadata": {
        "id": "_9hLH2pKCf8u",
        "colab_type": "code",
        "outputId": "67628d01-2c28-4489-b019-a69bc82497e5",
        "colab": {
          "base_uri": "https://localhost:8080/",
          "height": 364
        }
      },
      "source": [
        "print(\"Registros com valor nulo para o atributo Combustível:\\n\\n\",automoveis[automoveis['Combustível'].isnull()])"
      ],
      "execution_count": 49,
      "outputs": [
        {
          "output_type": "stream",
          "text": [
            "    Fabricante Combustível    Portas Estilo Chassis     Tração  Comprimento  \\\n",
            "117   plymouth         NaN  2 portas          hatch  dianteira        157.3   \n",
            "118   plymouth         NaN  4 portas          hatch  dianteira        157.3   \n",
            "119   plymouth         NaN  4 portas          sedan  dianteira        167.3   \n",
            "125    porsche         NaN  2 portas        hardtop   traseira        168.9   \n",
            "139     subaru         NaN  4 portas          sedan  dianteira        172.0   \n",
            "\n",
            "     Largura  Altura Tipo de motor Número de cilindros  Tamanho do motor  \\\n",
            "117     63.8    50.8           ohc                   4              98.0   \n",
            "118     63.8    50.6           ohc                   4              90.0   \n",
            "119     63.8    50.8           ohc                   4              90.0   \n",
            "125     65.0    51.6          ohcf                   6             194.0   \n",
            "139     65.4    52.5          ohcf                   4             108.0   \n",
            "\n",
            "    Tipo de injeção  Potência (HP)  Pico RPM    Preço  \n",
            "117            spdi          102.0    5500.0   7957.0  \n",
            "118            2bbl           68.0    5500.0   6229.0  \n",
            "119            2bbl           68.0    5500.0   6692.0  \n",
            "125            mpfi          207.0    5900.0  34028.0  \n",
            "139            2bbl           82.0    4800.0   7126.0  \n"
          ],
          "name": "stdout"
        }
      ]
    },
    {
      "cell_type": "markdown",
      "metadata": {
        "id": "_VYenYBxFW2F",
        "colab_type": "text"
      },
      "source": [
        "Com base nos registros com valores nulos para o atributo **Combustível**, foi verificado o tipo de combsutível para os fabricantes plymouth, porsche e subaru"
      ]
    },
    {
      "cell_type": "code",
      "metadata": {
        "id": "Hq-4p902FvzS",
        "colab_type": "code",
        "outputId": "10805dbc-0ee7-450b-b7dc-92f81f730b1c",
        "colab": {
          "base_uri": "https://localhost:8080/",
          "height": 1000
        }
      },
      "source": [
        "#Filtro para consulta dos valores de Combustível\n",
        "combustivel_q1 = (automoveis['Fabricante'] == 'plymouth') | \\\n",
        "                (automoveis['Fabricante'] == 'porsche') | \\\n",
        "                (automoveis['Fabricante'] == 'subaru')\n",
        "\n",
        "print('Combustível para carros dos fabricantes plymouth, porsche, subaru:\\n', automoveis[combustivel_q1]['Combustível'].unique())\n",
        "\n",
        "print('\\nRegistros:\\n',automoveis[combustivel_q1])\n"
      ],
      "execution_count": 50,
      "outputs": [
        {
          "output_type": "stream",
          "text": [
            "Combustível para carros dos fabricantes plymouth, porsche, subaru:\n",
            " ['gas' nan]\n",
            "\n",
            "Registros:\n",
            "     Fabricante Combustível    Portas Estilo Chassis     Tração  Comprimento  \\\n",
            "116   plymouth         gas  2 portas          hatch  dianteira        157.3   \n",
            "117   plymouth         NaN  2 portas          hatch  dianteira        157.3   \n",
            "118   plymouth         NaN  4 portas          hatch  dianteira        157.3   \n",
            "119   plymouth         NaN  4 portas          sedan  dianteira        167.3   \n",
            "120   plymouth         gas  4 portas          sedan  dianteira        167.3   \n",
            "121   plymouth         gas  4 portas            suv  dianteira        174.6   \n",
            "122   plymouth         gas  2 portas          hatch   traseira        173.2   \n",
            "123    porsche         gas  2 portas          hatch   traseira        168.9   \n",
            "124    porsche         gas  2 portas        hardtop   traseira        168.9   \n",
            "125    porsche         NaN  2 portas        hardtop   traseira        168.9   \n",
            "126    porsche         gas  2 portas    conversível   traseira        168.9   \n",
            "127    porsche         gas  2 portas          hatch   traseira        175.7   \n",
            "136     subaru         gas  2 portas          hatch  dianteira        156.9   \n",
            "137     subaru         gas  2 portas          hatch  dianteira        157.9   \n",
            "138     subaru         gas  2 portas          hatch        4x4        157.3   \n",
            "139     subaru         NaN  4 portas          sedan  dianteira        172.0   \n",
            "140     subaru         gas  4 portas          sedan  dianteira        172.0   \n",
            "141     subaru         gas  4 portas          sedan  dianteira        172.0   \n",
            "142     subaru         gas  4 portas          sedan        4x4        172.0   \n",
            "143     subaru         gas  4 portas          sedan        4x4        172.0   \n",
            "144     subaru         gas  4 portas            suv  dianteira        173.5   \n",
            "145     subaru         gas  4 portas            suv  dianteira        173.5   \n",
            "146     subaru         gas  4 portas            suv        4x4        173.6   \n",
            "147     subaru         gas  4 portas            suv        4x4        173.6   \n",
            "\n",
            "     Largura  Altura Tipo de motor Número de cilindros  Tamanho do motor  \\\n",
            "116     63.8    50.8           ohc                   4              90.0   \n",
            "117     63.8    50.8           ohc                   4              98.0   \n",
            "118     63.8    50.6           ohc                   4              90.0   \n",
            "119     63.8    50.8           ohc                   4              90.0   \n",
            "120     63.8    50.8           ohc                   4              98.0   \n",
            "121     64.6    59.8           ohc                   4             122.0   \n",
            "122     66.3    50.2           ohc                   4             156.0   \n",
            "123     68.3    50.2           ohc                   4             151.0   \n",
            "124     65.0    51.6          ohcf                   6             194.0   \n",
            "125     65.0    51.6          ohcf                   6             194.0   \n",
            "126     65.0    51.6          ohcf                   6             194.0   \n",
            "127     72.3    50.5         dohcv                   8             203.0   \n",
            "136     63.4    53.7          ohcf                   4              97.0   \n",
            "137     63.6    53.7          ohcf                   4             108.0   \n",
            "138     63.8    55.7          ohcf                   4             108.0   \n",
            "139     65.4    52.5          ohcf                   4             108.0   \n",
            "140     65.4    52.5          ohcf                   4             108.0   \n",
            "141     65.4    52.5          ohcf                   4             108.0   \n",
            "142     65.4    54.3          ohcf                   4             108.0   \n",
            "143     65.4    54.3          ohcf                   4             108.0   \n",
            "144     65.4    53.0          ohcf                   4             108.0   \n",
            "145     65.4    53.0          ohcf                   4             108.0   \n",
            "146     65.4    54.9          ohcf                   4             108.0   \n",
            "147     65.4    54.9          ohcf                   4             108.0   \n",
            "\n",
            "    Tipo de injeção  Potência (HP)  Pico RPM     Preço  \n",
            "116            2bbl           68.0    5500.0   5572.00  \n",
            "117            spdi          102.0    5500.0   7957.00  \n",
            "118            2bbl           68.0    5500.0   6229.00  \n",
            "119            2bbl           68.0    5500.0   6692.00  \n",
            "120            2bbl           68.0    5500.0   7609.00  \n",
            "121            2bbl           88.0    5000.0   8921.00  \n",
            "122            spdi          145.0    5000.0  12764.00  \n",
            "123            mpfi          143.0    5500.0  22018.00  \n",
            "124            mpfi          207.0    5900.0  32528.00  \n",
            "125            mpfi          207.0    5900.0  34028.00  \n",
            "126            mpfi          207.0    5900.0  37028.00  \n",
            "127            mpfi          288.0    5750.0  13207.13  \n",
            "136            2bbl           69.0    4900.0   5118.00  \n",
            "137            2bbl           73.0    4400.0   7053.00  \n",
            "138            2bbl           73.0    4400.0   7603.00  \n",
            "139            2bbl           82.0    4800.0   7126.00  \n",
            "140            2bbl           82.0    4400.0   7775.00  \n",
            "141            mpfi           94.0    5200.0   9960.00  \n",
            "142            2bbl           82.0    4800.0   9233.00  \n",
            "143            mpfi          111.0    4800.0  11259.00  \n",
            "144            2bbl           82.0    4800.0   7463.00  \n",
            "145            mpfi           94.0    5200.0  10198.00  \n",
            "146            2bbl           82.0    4800.0   8013.00  \n",
            "147            mpfi          111.0    4800.0  11694.00  \n"
          ],
          "name": "stdout"
        }
      ]
    },
    {
      "cell_type": "markdown",
      "metadata": {
        "id": "4MyNTtpgDp__",
        "colab_type": "text"
      },
      "source": [
        "Para a variável **Combustível**, foram substituídos os valores nulos pelo valor **\"gas\"**, considerando que para os fabricantes plymouth, porsche, subaru, todos os registros não nulos possuem esse valor."
      ]
    },
    {
      "cell_type": "code",
      "metadata": {
        "id": "OsiseJFQGceZ",
        "colab_type": "code",
        "outputId": "d641e797-a2d8-4016-8ed2-858e1649a617",
        "colab": {
          "base_uri": "https://localhost:8080/",
          "height": 121
        }
      },
      "source": [
        "automoveis.loc[automoveis['Combustível'].isnull(), ['Combustível']] = \"gas\"\n",
        "print('Análise da variável Combustível:\\n', automoveis['Combustível'].describe())"
      ],
      "execution_count": 51,
      "outputs": [
        {
          "output_type": "stream",
          "text": [
            "Análise da variável Combustível:\n",
            " count     205\n",
            "unique      2\n",
            "top       gas\n",
            "freq      185\n",
            "Name: Combustível, dtype: object\n"
          ],
          "name": "stdout"
        }
      ]
    },
    {
      "cell_type": "markdown",
      "metadata": {
        "id": "dqkhUsmsaKxs",
        "colab_type": "text"
      },
      "source": [
        "##Outliers"
      ]
    },
    {
      "cell_type": "markdown",
      "metadata": {
        "id": "Eu7xTrNrNkZ_",
        "colab_type": "text"
      },
      "source": [
        "Análise da distribuição de valores para o atributo **Pico RPM**"
      ]
    },
    {
      "cell_type": "code",
      "metadata": {
        "id": "DNeHyHAaaTJa",
        "colab_type": "code",
        "outputId": "a6252b92-4726-4645-a47c-b72cbf7516ec",
        "colab": {
          "base_uri": "https://localhost:8080/",
          "height": 503
        }
      },
      "source": [
        "\n",
        "automoveis[\"Pico RPM\"].plot(kind=\"box\", figsize=(8,8))"
      ],
      "execution_count": 52,
      "outputs": [
        {
          "output_type": "execute_result",
          "data": {
            "text/plain": [
              "<matplotlib.axes._subplots.AxesSubplot at 0x7ff6a3e1df98>"
            ]
          },
          "metadata": {
            "tags": []
          },
          "execution_count": 52
        },
        {
          "output_type": "display_data",
          "data": {
            "image/png": "[encoded data removed]",
            "text/plain": [
              "<Figure size 576x576 with 1 Axes>"
            ]
          },
          "metadata": {
            "tags": []
          }
        }
      ]
    },
    {
      "cell_type": "markdown",
      "metadata": {
        "id": "-FkRqtTwd-A_",
        "colab_type": "text"
      },
      "source": [
        "Conforme já havia sido verificado na análise estatística dos atributos, o atributo **Pico RPM** possuia o valor máximo muito acima dos demais valores do atributo (580000). O mesmo comportamento foi observado no boxplot acima."
      ]
    },
    {
      "cell_type": "code",
      "metadata": {
        "id": "bVscmkywbuG6",
        "colab_type": "code",
        "outputId": "99690293-4364-462e-f74e-3c35176d36f6",
        "colab": {
          "base_uri": "https://localhost:8080/",
          "height": 225
        }
      },
      "source": [
        "picoRPM_q1 = (automoveis['Pico RPM'] == max(automoveis['Pico RPM']))\n",
        "print(\"Registros com outlier para Pico RPM:\\n\", automoveis[picoRPM_q1])"
      ],
      "execution_count": 53,
      "outputs": [
        {
          "output_type": "stream",
          "text": [
            "Registros com outlier para Pico RPM:\n",
            "    Fabricante Combustível    Portas Estilo Chassis    Tração  Comprimento  \\\n",
            "10        bmw         gas  2 portas          sedan  traseira        176.8   \n",
            "11        bmw         gas  4 portas          sedan  traseira        176.8   \n",
            "\n",
            "    Largura  Altura Tipo de motor Número de cilindros  Tamanho do motor  \\\n",
            "10     64.8    54.3           ohc                   4             108.0   \n",
            "11     64.8    54.3           ohc                   4             108.0   \n",
            "\n",
            "   Tipo de injeção  Potência (HP)  Pico RPM    Preço  \n",
            "10            mpfi          101.0  580000.0  16430.0  \n",
            "11            mpfi          101.0  580000.0  16925.0  \n"
          ],
          "name": "stdout"
        }
      ]
    },
    {
      "cell_type": "markdown",
      "metadata": {
        "id": "urF9fEOJeosH",
        "colab_type": "text"
      },
      "source": [
        "A partir dos registros, buscou-se verificar valores razoáveis para o atributo **Pico RPM** em outros registros com faixa de potência semelhante."
      ]
    },
    {
      "cell_type": "code",
      "metadata": {
        "id": "86t4t3TXcQfX",
        "colab_type": "code",
        "outputId": "891d95d3-45b1-4cc7-a1df-0252abdce219",
        "colab": {
          "base_uri": "https://localhost:8080/",
          "height": 34
        }
      },
      "source": [
        "#Filtro para consulta de valores do atributo Pico RPM\n",
        "picoRPM_q2 = (automoveis['Potência (HP)'] >= 100) & (automoveis['Potência (HP)'] < 110)\n",
        "automoveis[picoRPM_q2]['Pico RPM'].unique()"
      ],
      "execution_count": 54,
      "outputs": [
        {
          "output_type": "execute_result",
          "data": {
            "text/plain": [
              "array([  5500.  , 580000.  ,   5800.  ,   6000.  ,   5125.37,   4800.  ])"
            ]
          },
          "metadata": {
            "tags": []
          },
          "execution_count": 54
        }
      ]
    },
    {
      "cell_type": "markdown",
      "metadata": {
        "id": "ne5IaS9xfA5W",
        "colab_type": "text"
      },
      "source": [
        "Com base nos valores pesquisados, foi considerada a possibilidade do valor armazenado ter sido registrado em uma escala 100x maior que a original. Dessa forma optou-se por converter o registro para a escala dos demais, dividindo o valor 580000 por 100. "
      ]
    },
    {
      "cell_type": "code",
      "metadata": {
        "id": "7Iul63uEgKsp",
        "colab_type": "code",
        "colab": {}
      },
      "source": [
        "automoveis.loc[picoRPM_q1,['Pico RPM']] = automoveis.loc[picoRPM_q1,['Pico RPM']]/100"
      ],
      "execution_count": 0,
      "outputs": []
    },
    {
      "cell_type": "code",
      "metadata": {
        "id": "tDoWRUrqgXKG",
        "colab_type": "code",
        "outputId": "dc40bc42-9d37-4f90-fb20-d6f41ebc99ae",
        "colab": {
          "base_uri": "https://localhost:8080/",
          "height": 903
        }
      },
      "source": [
        "print(\"Registros com outlier para Pico RPM:\\n\", automoveis[picoRPM_q1])\n",
        "\n",
        "print('\\nAnálise da variável Pico RPM:\\n', automoveis['Pico RPM'].describe())\n",
        "automoveis['Pico RPM'].plot(kind=\"box\", figsize=(8,8))"
      ],
      "execution_count": 56,
      "outputs": [
        {
          "output_type": "stream",
          "text": [
            "Registros com outlier para Pico RPM:\n",
            "    Fabricante Combustível    Portas Estilo Chassis    Tração  Comprimento  \\\n",
            "10        bmw         gas  2 portas          sedan  traseira        176.8   \n",
            "11        bmw         gas  4 portas          sedan  traseira        176.8   \n",
            "\n",
            "    Largura  Altura Tipo de motor Número de cilindros  Tamanho do motor  \\\n",
            "10     64.8    54.3           ohc                   4             108.0   \n",
            "11     64.8    54.3           ohc                   4             108.0   \n",
            "\n",
            "   Tipo de injeção  Potência (HP)  Pico RPM    Preço  \n",
            "10            mpfi          101.0    5800.0  16430.0  \n",
            "11            mpfi          101.0    5800.0  16925.0  \n",
            "\n",
            "Análise da variável Pico RPM:\n",
            " count     205.00\n",
            "mean     5125.37\n",
            "std       476.98\n",
            "min      4150.00\n",
            "25%      4800.00\n",
            "50%      5200.00\n",
            "75%      5500.00\n",
            "max      6600.00\n",
            "Name: Pico RPM, dtype: float64\n"
          ],
          "name": "stdout"
        },
        {
          "output_type": "execute_result",
          "data": {
            "text/plain": [
              "<matplotlib.axes._subplots.AxesSubplot at 0x7ff6a3de2ac8>"
            ]
          },
          "metadata": {
            "tags": []
          },
          "execution_count": 56
        },
        {
          "output_type": "display_data",
          "data": {
            "image/png": "[encoded data removed]",
            "text/plain": [
              "<Figure size 576x576 with 1 Axes>"
            ]
          },
          "metadata": {
            "tags": []
          }
        }
      ]
    },
    {
      "cell_type": "markdown",
      "metadata": {
        "id": "U-XsnUuEBSpH",
        "colab_type": "text"
      },
      "source": [
        "##CRIAÇÃO DE NOVOS ATRIBUTOS"
      ]
    },
    {
      "cell_type": "markdown",
      "metadata": {
        "id": "4QsgH04qBYFf",
        "colab_type": "text"
      },
      "source": [
        "###Atributo volume a partir da altura, largura e comprimento"
      ]
    },
    {
      "cell_type": "code",
      "metadata": {
        "id": "t3EZJSmpBpNX",
        "colab_type": "code",
        "colab": {}
      },
      "source": [
        "automoveis[\"Volume\"] = automoveis[\"Altura\"] * automoveis[\"Largura\"] * automoveis[\"Comprimento\"]"
      ],
      "execution_count": 0,
      "outputs": []
    },
    {
      "cell_type": "markdown",
      "metadata": {
        "id": "qq_orTaVOqIG",
        "colab_type": "text"
      },
      "source": [
        "###Atributo área a partir da largura e comprimento"
      ]
    },
    {
      "cell_type": "code",
      "metadata": {
        "id": "tv2ZnallOupI",
        "colab_type": "code",
        "colab": {}
      },
      "source": [
        "automoveis[\"Area\"] = automoveis[\"Largura\"] * automoveis[\"Comprimento\"]"
      ],
      "execution_count": 0,
      "outputs": []
    },
    {
      "cell_type": "markdown",
      "metadata": {
        "id": "Bv_qUX6DunF7",
        "colab_type": "text"
      },
      "source": [
        "##Seleção dos atributos"
      ]
    },
    {
      "cell_type": "markdown",
      "metadata": {
        "id": "10DtL_26u6m4",
        "colab_type": "text"
      },
      "source": [
        "###Análise de correlação"
      ]
    },
    {
      "cell_type": "code",
      "metadata": {
        "id": "uTYeUdqSol1H",
        "colab_type": "code",
        "outputId": "71b5fa08-30ea-4577-db51-eecc537ecd40",
        "colab": {
          "base_uri": "https://localhost:8080/",
          "height": 416
        }
      },
      "source": [
        "campos = automoveis.dtypes[automoveis.dtypes == \"float64\"].index\n",
        "corr = np.corrcoef(automoveis[campos].transpose())\n",
        "correlacao = pd.DataFrame(data=corr, index=campos, columns=campos)\n",
        "\n",
        "print(\"\\nMatriz de correlação dos atributos inteiros:\\n{0}\".format(correlacao))"
      ],
      "execution_count": 59,
      "outputs": [
        {
          "output_type": "stream",
          "text": [
            "\n",
            "Matriz de correlação dos atributos inteiros:\n",
            "                  Comprimento  Largura  Altura  Tamanho do motor  \\\n",
            "Comprimento              1.00     0.84    0.49              0.68   \n",
            "Largura                  0.84     1.00    0.28              0.74   \n",
            "Altura                   0.49     0.28    1.00              0.07   \n",
            "Tamanho do motor         0.68     0.74    0.07              1.00   \n",
            "Potência (HP)            0.55     0.64   -0.11              0.81   \n",
            "Pico RPM                -0.29    -0.22   -0.32             -0.24   \n",
            "Preço                    0.68     0.73    0.13              0.86   \n",
            "Volume                   0.95     0.83    0.70              0.59   \n",
            "Area                     0.98     0.93    0.44              0.73   \n",
            "\n",
            "                  Potência (HP)  Pico RPM  Preço  Volume  Area  \n",
            "Comprimento                0.55     -0.29   0.68    0.95  0.98  \n",
            "Largura                    0.64     -0.22   0.73    0.83  0.93  \n",
            "Altura                    -0.11     -0.32   0.13    0.70  0.44  \n",
            "Tamanho do motor           0.81     -0.24   0.86    0.59  0.73  \n",
            "Potência (HP)              1.00      0.13   0.76    0.43  0.60  \n",
            "Pico RPM                   0.13      1.00  -0.10   -0.33 -0.28  \n",
            "Preço                      0.76     -0.10   1.00    0.62  0.73  \n",
            "Volume                     0.43     -0.33   0.62    1.00  0.95  \n",
            "Area                       0.60     -0.28   0.73    0.95  1.00  \n"
          ],
          "name": "stdout"
        }
      ]
    },
    {
      "cell_type": "markdown",
      "metadata": {
        "id": "dvXtwnnFqD82",
        "colab_type": "text"
      },
      "source": [
        "Com base na matriz, verificou-se forte correlação entre os atributos Volume, Largura, Comprimento e Área.\n",
        "\n",
        "O atributo Tamanho do motor também apresenta forte correlação com os atributos Número de cilindros, Potência (HP) e Preço.\n",
        "\n",
        "A partir dessa análise, optou-se por descartar os atributos Volume, Largura, Comprimento e Tamanho do motor."
      ]
    },
    {
      "cell_type": "markdown",
      "metadata": {
        "id": "S_MJJanbugD0",
        "colab_type": "text"
      },
      "source": [
        "###Descarte de atributos"
      ]
    },
    {
      "cell_type": "code",
      "metadata": {
        "id": "47YAyPuhuclJ",
        "colab_type": "code",
        "colab": {}
      },
      "source": [
        "del automoveis[\"Volume\"]\n",
        "del automoveis[\"Largura\"]\n",
        "del automoveis[\"Comprimento\"]\n",
        "del automoveis[\"Tamanho do motor\"]"
      ],
      "execution_count": 0,
      "outputs": []
    },
    {
      "cell_type": "markdown",
      "metadata": {
        "id": "hWboMg21PCsy",
        "colab_type": "text"
      },
      "source": [
        "###Análise do correlação após descarte"
      ]
    },
    {
      "cell_type": "code",
      "metadata": {
        "id": "ttd6gh2jPHj-",
        "colab_type": "code",
        "colab": {
          "base_uri": "https://localhost:8080/",
          "height": 156
        },
        "outputId": "52604414-5c9b-4471-b751-56dbd263b68f"
      },
      "source": [
        "campos = automoveis.dtypes[automoveis.dtypes == \"float64\"].index\n",
        "corr = np.corrcoef(automoveis[campos].transpose())\n",
        "correlacao = pd.DataFrame(data=corr, index=campos, columns=campos)\n",
        "\n",
        "print(\"\\nMatriz de correlação dos atributos inteiros:\\n{0}\".format(correlacao))"
      ],
      "execution_count": 61,
      "outputs": [
        {
          "output_type": "stream",
          "text": [
            "\n",
            "Matriz de correlação dos atributos inteiros:\n",
            "               Altura  Potência (HP)  Pico RPM  Preço  Area\n",
            "Altura           1.00          -0.11     -0.32   0.13  0.44\n",
            "Potência (HP)   -0.11           1.00      0.13   0.76  0.60\n",
            "Pico RPM        -0.32           0.13      1.00  -0.10 -0.28\n",
            "Preço            0.13           0.76     -0.10   1.00  0.73\n",
            "Area             0.44           0.60     -0.28   0.73  1.00\n"
          ],
          "name": "stdout"
        }
      ]
    },
    {
      "cell_type": "markdown",
      "metadata": {
        "id": "m5m4R3SjGTTy",
        "colab_type": "text"
      },
      "source": [
        "## DATASET FINAL"
      ]
    },
    {
      "cell_type": "code",
      "metadata": {
        "id": "ydaQh-dSu-4A",
        "colab_type": "code",
        "outputId": "dc44a477-1da9-4457-e9d3-8711f6154aa0",
        "colab": {
          "base_uri": "https://localhost:8080/",
          "height": 694
        }
      },
      "source": [
        "categ_q1 = (automoveis.dtypes == 'category') | (automoveis.dtypes == 'object')\n",
        "categ = automoveis.dtypes[categ_q1].index\n",
        "\n",
        "print(\"Tipos de Dados:\\n\",automoveis.dtypes)\n",
        "print(\"\\nAtributos Numéricos:\\n\", automoveis.describe())\n",
        "print('\\nAtributos Categóricos:\\n', automoveis[categ].describe())"
      ],
      "execution_count": 62,
      "outputs": [
        {
          "output_type": "stream",
          "text": [
            "Tipos de Dados:\n",
            " Fabricante               object\n",
            "Combustível              object\n",
            "Portas                 category\n",
            "Estilo Chassis           object\n",
            "Tração                   object\n",
            "Altura                  float64\n",
            "Tipo de motor            object\n",
            "Número de cilindros      object\n",
            "Tipo de injeção          object\n",
            "Potência (HP)           float64\n",
            "Pico RPM                float64\n",
            "Preço                   float64\n",
            "Area                    float64\n",
            "dtype: object\n",
            "\n",
            "Atributos Numéricos:\n",
            "        Altura  Potência (HP)  Pico RPM     Preço      Area\n",
            "count  205.00         205.00    205.00    205.00    205.00\n",
            "mean    53.72         104.26   5125.37  13207.13  11493.36\n",
            "std      2.44          39.52    476.98   7868.77   1156.44\n",
            "min     47.80          48.00   4150.00   5118.00   8508.33\n",
            "25%     52.00          70.00   4800.00   7788.00  10709.72\n",
            "50%     54.10          95.00   5200.00  10595.00  11314.20\n",
            "75%     55.50         116.00   5500.00  16500.00  12275.90\n",
            "max     59.80         288.00   6600.00  45400.00  14920.77\n",
            "\n",
            "Atributos Categóricos:\n",
            "        Fabricante Combustível    Portas Estilo Chassis     Tração  \\\n",
            "count         205         205       205            205        205   \n",
            "unique         23           2         2              5          3   \n",
            "top        toyota         gas  4 portas          sedan  dianteira   \n",
            "freq           32         185       116             96        120   \n",
            "\n",
            "       Tipo de motor Número de cilindros Tipo de injeção  \n",
            "count            205                 205             205  \n",
            "unique             7                   7               8  \n",
            "top              ohc                   4            mpfi  \n",
            "freq             148                 159              94  \n"
          ],
          "name": "stdout"
        }
      ]
    }
  ]
}