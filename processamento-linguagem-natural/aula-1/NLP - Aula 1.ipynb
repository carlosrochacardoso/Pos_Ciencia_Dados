{
 "cells": [
  {
   "cell_type": "markdown",
   "metadata": {},
   "source": [
    "NLP - Aula 1 - Expressões Regulares \n",
    "====================\n",
    "\n",
    "\n",
    "#Regular Expressions\n",
    "\n",
    "Expressões regulares são padrões textuais descritos em uma sintaxe formal. Com frequência as expressões regulares são referenciadas como *regex* ou *regexp*.\n",
    "\n",
    "Expressões regulares podem incluir uma variedade de regras, desde busca de repetições à procura de padrões de texto.\n",
    "\n",
    "Com a prática em Python você conseguirá resolver muitos problemas de parsing utilizando expressões regulares. No nosso exercício estaremos utilizando o módulo **re** ."
   ]
  },
  {
   "cell_type": "markdown",
   "metadata": {},
   "source": [
    "### Qual padrão?\n",
    "\n",
    "Qual padrão de expressão regular abaixo resulta no texto abaixo?\n",
    "\n",
    "* PATTERN = r\"\\s+\"\n",
    "* PATTERN = r\"\\w+\"\n",
    "* PATTERN = r\"[a-z]\"\n",
    "* PATTERN = r\"\\w\"\n",
    "\n",
    "```python\n",
    "\n",
    ">>> my_string = \"Let's write RegEx!\"\n",
    ">>> re.findall(PATTERN, my_string)\n",
    "['Let', 's', 'write', 'RegEx']\n",
    "\n",
    "```"
   ]
  },
  {
   "cell_type": "code",
   "execution_count": null,
   "metadata": {},
   "outputs": [],
   "source": []
  },
  {
   "cell_type": "markdown",
   "metadata": {},
   "source": [
    "### Procurando Padrões em Textos: re.search()\n",
    "\n",
    "Um dos usos mais comuns do modulo **re** é encontrar padrões em textos. Vamos fazer um exemplo rápido de como usar o método *search* do módulo **re** para encontrar alguns textos.\n",
    "\n",
    "Busque os termos __term1__ , __term2__ e __term__ no texto __This is a string with term1, but it does not have the other term.__ e imprima em um loop se o termo foi encontrado ou não."
   ]
  },
  {
   "cell_type": "code",
   "execution_count": null,
   "metadata": {},
   "outputs": [],
   "source": []
  },
  {
   "cell_type": "markdown",
   "metadata": {},
   "source": [
    "### Objeto Match\n",
    "\n",
    "No exemplo acima verificamos que a função *re.search()* vai utilizar o padrão passado, realizar uma busca no texto e retornar um objeto **Match**. Se o padrão não é encontrado no texto, um **None** é retornado. Vamos executar os exemplos abaixo para conhecer melhor as possibilidade de retono do objeto.\n",
    "\n",
    "Utilize o código abaixo e a função _type()_ para retornar o objeto _Match_\n",
    "\n",
    "```python\n",
    "# List of patterns to search for\n",
    "pattern = 'term1'\n",
    "\n",
    "# Text to parse\n",
    "text = 'This is a string with term1, but it does not have the other term.'\n",
    "```"
   ]
  },
  {
   "cell_type": "code",
   "execution_count": null,
   "metadata": {},
   "outputs": [],
   "source": []
  },
  {
   "cell_type": "markdown",
   "metadata": {},
   "source": [
    "O objeto **Match** retornado pelo método *search()* contém mais informações sobre o match, incluindo a string original, a expressão regular que foi utilizada, e a localização do padrão encontrado:\n",
    "\n",
    "Imprima o começo dos padrões e o final dos padrões com a função _start()_ e _end()_"
   ]
  },
  {
   "cell_type": "code",
   "execution_count": null,
   "metadata": {},
   "outputs": [],
   "source": [
    "\n"
   ]
  },
  {
   "cell_type": "markdown",
   "metadata": {},
   "source": [
    "### Praticando Expressões Regulares: re.split() and re.findall()\n",
    "\n",
    "Agora vamos ter a chance de escrever expressões regulares para encontrar números, textos e caracteres que não são alfa-numéricos.\n",
    "\n",
    "Com base na string **my_string** determine como encontrar os padrões do código que está parcialmente escrito.\n",
    "\n",
    "É importante utilizar o prefixo __r__ antes de seus padrões regex para garantir que eles sejam interpretados da forma que você deseja. Você também pode encontrar problemas de quebras em suas strings. Por exemplo, **\\n** é utilizado para indicar uma nova linha no Python, mas se você incluir o prefisso __r__ ele será interpretado como uma string _crua_ , um caractere __\\\\__ seguido da letra __n__, e não será interpretado como uma nova linha.\n",
    "\n",
    "```python\n",
    "\n",
    "# Import the regex module\n",
    "____\n",
    "\n",
    "my_string = \"Let's write RegEx!  Won't that be fun?  I sure think so.  Can you find 4 sentences?  Or perhaps, all 19 words?\"\n",
    "\n",
    "# Write a pattern to match sentence endings: sentence_endings\n",
    "sentence_endings = r\"[___]\"\n",
    "\n",
    "# Split my_string on sentence endings and print the result\n",
    "print(re.____(____, ____))\n",
    "\n",
    "# Find all capitalized words in my_string and print the result\n",
    "capitalized_words = r\"[___]\\w+\"\n",
    "print(re.____(____, ____))\n",
    "```"
   ]
  },
  {
   "cell_type": "code",
   "execution_count": null,
   "metadata": {},
   "outputs": [],
   "source": []
  },
  {
   "cell_type": "markdown",
   "metadata": {},
   "source": [
    "### Limpando um IP digitado incorreto\n",
    "\n",
    "Escreva um código para remover os zeros iniciais do IP 216.08.094.196"
   ]
  },
  {
   "cell_type": "code",
   "execution_count": null,
   "metadata": {},
   "outputs": [],
   "source": []
  },
  {
   "cell_type": "markdown",
   "metadata": {},
   "source": [
    "### Buscar palavras em um texto\n",
    "\n",
    "Escreva código em Python para encontrar algumas strings dentro de uma frase/texto.\n",
    "\n",
    "Texto: 'The quick brown fox jumps over the lazy dog.'\n",
    "Palavras a serem encontradas: 'fox', 'dog', 'horse'"
   ]
  },
  {
   "cell_type": "code",
   "execution_count": null,
   "metadata": {},
   "outputs": [],
   "source": []
  },
  {
   "cell_type": "markdown",
   "metadata": {},
   "source": [
    "### Vamos encontrar dados na prática?\n",
    "\n",
    "No arquivo http://humanstxt.org/humans.txt vamos recuperar alguns dados?\n",
    "\n",
    "Abaixo tem um exemplo de como recuperar o texto desse arquivo na web, mas você pode usar qualquer biblioteca que goste mais.\n",
    "\n",
    "```python\n",
    "import requests\n",
    "response = requests.get('http://humanstxt.org/humans.txt')\n",
    "print(response.text)\n",
    "```\n"
   ]
  },
  {
   "cell_type": "markdown",
   "metadata": {},
   "source": [
    "Liste todos os twitters que estão listados nesse arquivo:"
   ]
  },
  {
   "cell_type": "code",
   "execution_count": null,
   "metadata": {},
   "outputs": [],
   "source": [
    "\n"
   ]
  },
  {
   "cell_type": "markdown",
   "metadata": {},
   "source": [
    "### ELIZA EM PORTUGUÊS\n",
    "\n",
    "Temos o desafio de criar uma pequena Eliza em português que responda pelo menos 4 coisas básicas:\n",
    "* Qual é o nome dela\n",
    "* Como ela está se sentindo\n",
    "* Onde ela nasceu\n",
    "* Quantos anos ela tem"
   ]
  },
  {
   "cell_type": "code",
   "execution_count": null,
   "metadata": {},
   "outputs": [],
   "source": []
  }
 ],
 "metadata": {
  "kernelspec": {
   "display_name": "Python 3",
   "language": "python",
   "name": "python3"
  },
  "language_info": {
   "codemirror_mode": {
    "name": "ipython",
    "version": 3
   },
   "file_extension": ".py",
   "mimetype": "text/x-python",
   "name": "python",
   "nbconvert_exporter": "python",
   "pygments_lexer": "ipython3",
   "version": "3.7.0"
  }
 },
 "nbformat": 4,
 "nbformat_minor": 2
}
