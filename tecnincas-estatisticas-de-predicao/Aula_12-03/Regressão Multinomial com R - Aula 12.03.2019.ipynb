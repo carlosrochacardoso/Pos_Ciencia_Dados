{
 "cells": [
  {
   "cell_type": "markdown",
   "metadata": {},
   "source": [
    "# Regressão Multinomial com R\n",
    "\n",
    "Para esta aula, estaremos trabalhando com o conjunto de dados obtidos a partir do nosso livro texto. Os dados fazem referência a um estudo que tem o objetivo de identificar os fatores que influenciam a escolha alimentar dos jacarés. \n",
    "\n",
    "Para tanto no estudo foram capturados 219 jacarés em quatro Lagos da Flórida.\n",
    "\n",
    "A resposta para esse levantamento é nominal, retorna o tipo de alimento primário, em volume, encontrado no estômago do  jacaré observado. Desta maneira temos cinco categorias: \n",
    " - Peixe; \n",
    " - Invertebrado; \n",
    " - Réptil; \n",
    " - Pássaro; \n",
    " - Outro.\n",
    "\n",
    "Outras classificações foram estabelecidas no estudo quanto aos jacarés, de acordo com: \n",
    " - **Lago de captura:** Hancock, Oklawaha, Trafford, George; \n",
    " - **Gênero:** macho, fêmea;\n",
    " - **Tamanho:** \n",
    "   - $\\leq$ 2,3 metros de comprimento;\n",
    "   - $>$ 2,3 metros de comprimento.\n",
    "\n",
    "\n",
    "\n",
    "## Carregar pacotes\n",
    "Vamos carregar alguns pacotes para começar!"
   ]
  },
  {
   "cell_type": "code",
   "execution_count": null,
   "metadata": {},
   "outputs": [],
   "source": [
    "#Instalando os pacotes necessários\n",
    "install.packages(\"foreign\")\n",
    "install.packages(\"nnet\")\n",
    "install.packages(\"ggplot2\")\n",
    "install.packages(\"reshape2\")\n",
    "install.packages(\"VGAM\")\n",
    "install.packages(\"knitr\")\n",
    "install.packages(\"Metrics\")"
   ]
  },
  {
   "cell_type": "code",
   "execution_count": null,
   "metadata": {},
   "outputs": [],
   "source": [
    "#carregando os pacotes\n",
    "require(foreign)\n",
    "require(nnet)\n",
    "require(ggplot2)\n",
    "require(reshape2)\n",
    "require(VGAM)\n",
    "require(knitr)\n",
    "require(Metrics)"
   ]
  },
  {
   "cell_type": "markdown",
   "metadata": {},
   "source": [
    "## Os dados\n",
    "\n",
    "Vamos começar lendo o arquivo train.csv em um read R."
   ]
  },
  {
   "cell_type": "code",
   "execution_count": 3,
   "metadata": {},
   "outputs": [],
   "source": [
    "ml <- read.csv(\"dados.csv\", sep = \";\")"
   ]
  },
  {
   "cell_type": "code",
   "execution_count": 4,
   "metadata": {},
   "outputs": [
    {
     "data": {
      "text/html": [
       "<table>\n",
       "<thead><tr><th scope=col>id</th><th scope=col>lake</th><th scope=col>gender</th><th scope=col>size</th><th scope=col>food</th></tr></thead>\n",
       "<tbody>\n",
       "\t<tr><td> 45                                                 </td><td>Hancock                                             </td><td>Female                                              </td><td>&gt; 2.3                                            </td><td><span style=white-space:pre-wrap>Fish        </span></td></tr>\n",
       "\t<tr><td> 80                                                 </td><td>Trafford                                            </td><td><span style=white-space:pre-wrap>Male  </span>      </td><td>&lt;= 2.3                                           </td><td><span style=white-space:pre-wrap>Fish        </span></td></tr>\n",
       "\t<tr><td> 64                                                 </td><td>Oklawaha                                            </td><td>Female                                              </td><td>&gt; 2.3                                            </td><td><span style=white-space:pre-wrap>Reptile     </span></td></tr>\n",
       "\t<tr><td> 19                                                 </td><td>Trafford                                            </td><td>Female                                              </td><td>&gt; 2.3                                            </td><td><span style=white-space:pre-wrap>Reptile     </span></td></tr>\n",
       "\t<tr><td>120         </td><td>Trafford    </td><td>Female      </td><td>&lt;= 2.3   </td><td>Invertebrate</td></tr>\n",
       "\t<tr><td>200                                                 </td><td>Trafford                                            </td><td>Female                                              </td><td>&gt; 2.3                                            </td><td><span style=white-space:pre-wrap>Fish        </span></td></tr>\n",
       "</tbody>\n",
       "</table>\n"
      ],
      "text/latex": [
       "\\begin{tabular}{r|lllll}\n",
       " id & lake & gender & size & food\\\\\n",
       "\\hline\n",
       "\t  45          & Hancock      & Female       & > 2.3        & Fish        \\\\\n",
       "\t  80          & Trafford     & Male         & <= 2.3       & Fish        \\\\\n",
       "\t  64          & Oklawaha     & Female       & > 2.3        & Reptile     \\\\\n",
       "\t  19          & Trafford     & Female       & > 2.3        & Reptile     \\\\\n",
       "\t 120          & Trafford     & Female       & <= 2.3       & Invertebrate\\\\\n",
       "\t 200          & Trafford     & Female       & > 2.3        & Fish        \\\\\n",
       "\\end{tabular}\n"
      ],
      "text/markdown": [
       "\n",
       "id | lake | gender | size | food | \n",
       "|---|---|---|---|---|---|\n",
       "|  45          | Hancock      | Female       | > 2.3        | Fish         | \n",
       "|  80          | Trafford     | Male         | <= 2.3       | Fish         | \n",
       "|  64          | Oklawaha     | Female       | > 2.3        | Reptile      | \n",
       "|  19          | Trafford     | Female       | > 2.3        | Reptile      | \n",
       "| 120          | Trafford     | Female       | <= 2.3       | Invertebrate | \n",
       "| 200          | Trafford     | Female       | > 2.3        | Fish         | \n",
       "\n",
       "\n"
      ],
      "text/plain": [
       "  id  lake     gender size   food        \n",
       "1  45 Hancock  Female > 2.3  Fish        \n",
       "2  80 Trafford Male   <= 2.3 Fish        \n",
       "3  64 Oklawaha Female > 2.3  Reptile     \n",
       "4  19 Trafford Female > 2.3  Reptile     \n",
       "5 120 Trafford Female <= 2.3 Invertebrate\n",
       "6 200 Trafford Female > 2.3  Fish        "
      ]
     },
     "metadata": {},
     "output_type": "display_data"
    }
   ],
   "source": [
    "head(ml)"
   ]
  },
  {
   "cell_type": "code",
   "execution_count": 5,
   "metadata": {},
   "outputs": [
    {
     "data": {
      "text/plain": [
       "       id              lake       gender        size               food   \n",
       " Min.   :  1.0   George  :63   Female:130   <= 2.3:124   Bird        :13  \n",
       " 1st Qu.: 56.5   Hancock :55   Male  : 89   > 2.3 : 95   Fish        :94  \n",
       " Median :111.0   Oklawaha:48                             Invertebrate:61  \n",
       " Mean   :108.0   Trafford:53                             Other       :32  \n",
       " 3rd Qu.:161.0                                           Reptile     :19  \n",
       " Max.   :219.0                                                            "
      ]
     },
     "metadata": {},
     "output_type": "display_data"
    }
   ],
   "source": [
    "# Aplicando a função 'summary()' ao dataframe train.\n",
    "s <- summary(ml)\n",
    "s"
   ]
  },
  {
   "cell_type": "code",
   "execution_count": 6,
   "metadata": {},
   "outputs": [
    {
     "data": {
      "text/plain": [
       "\n",
       "\n",
       "|   |      lake  |   gender  |    size   |          food  |\n",
       "|:--|:-----------|:----------|:----------|:---------------|\n",
       "|   |George  :63 |Female:130 |<= 2.3:124 |Bird        :13 |\n",
       "|   |Hancock :55 |Male  : 89 |> 2.3 : 95 |Fish        :94 |\n",
       "|   |Oklawaha:48 |NA         |NA         |Invertebrate:61 |\n",
       "|   |Trafford:53 |NA         |NA         |Other       :32 |\n",
       "|   |NA          |NA         |NA         |Reptile     :19 |\n",
       "|   |NA          |NA         |NA         |NA              |"
      ]
     },
     "metadata": {},
     "output_type": "display_data"
    }
   ],
   "source": [
    "# Convertendo o formato da saída das tabelas\n",
    "kable(s[, c(2:5)], caption = \"Tabela 1: Resumo estatístico dos dados.\")"
   ]
  },
  {
   "cell_type": "code",
   "execution_count": 7,
   "metadata": {},
   "outputs": [
    {
     "data": {
      "text/plain": [
       "              lake\n",
       "food           George Hancock Oklawaha Trafford\n",
       "  Bird              3       5        1        4\n",
       "  Fish             33      30       18       13\n",
       "  Invertebrate     20       4       19       18\n",
       "  Other             6      13        3       10\n",
       "  Reptile           1       3        7        8"
      ]
     },
     "metadata": {},
     "output_type": "display_data"
    }
   ],
   "source": [
    "with(ml, table(food, lake))"
   ]
  },
  {
   "cell_type": "code",
   "execution_count": 8,
   "metadata": {},
   "outputs": [
    {
     "data": {
      "text/plain": [
       "              gender\n",
       "food           Female Male\n",
       "  Bird              7    6\n",
       "  Fish             59   35\n",
       "  Invertebrate     33   28\n",
       "  Other            18   14\n",
       "  Reptile          13    6"
      ]
     },
     "metadata": {},
     "output_type": "display_data"
    }
   ],
   "source": [
    "with(ml, table(food, gender))"
   ]
  },
  {
   "cell_type": "code",
   "execution_count": 9,
   "metadata": {},
   "outputs": [
    {
     "data": {
      "text/plain": [
       "              size\n",
       "food           <= 2.3 > 2.3\n",
       "  Bird              5     8\n",
       "  Fish             49    45\n",
       "  Invertebrate     45    16\n",
       "  Other            19    13\n",
       "  Reptile           6    13"
      ]
     },
     "metadata": {},
     "output_type": "display_data"
    }
   ],
   "source": [
    "with(ml, table(food, size))"
   ]
  },
  {
   "cell_type": "markdown",
   "metadata": {},
   "source": [
    "## Modelo de Regressão Multinomial"
   ]
  },
  {
   "cell_type": "code",
   "execution_count": 10,
   "metadata": {},
   "outputs": [],
   "source": [
    "ml$food2 <- relevel(ml$food, ref = \"Fish\")"
   ]
  },
  {
   "cell_type": "code",
   "execution_count": 11,
   "metadata": {},
   "outputs": [
    {
     "name": "stdout",
     "output_type": "stream",
     "text": [
      "# weights:  35 (24 variable)\n",
      "initial  value 352.466903 \n",
      "iter  10 value 270.650933\n",
      "iter  20 value 268.935634\n",
      "final  value 268.932740 \n",
      "converged\n"
     ]
    }
   ],
   "source": [
    "ml.ajust <- multinom(food2 ~ lake + gender + size, data = ml)"
   ]
  },
  {
   "cell_type": "code",
   "execution_count": 12,
   "metadata": {},
   "outputs": [
    {
     "data": {
      "text/plain": [
       "Call:\n",
       "multinom(formula = food2 ~ lake + gender + size, data = ml)\n",
       "\n",
       "Coefficients:\n",
       "             (Intercept) lakeHancock lakeOklawaha lakeTrafford genderMale\n",
       "Bird          -3.0386187   0.5753859  -0.55029893     1.237111  0.6064079\n",
       "Invertebrate  -0.2939452  -1.7804428   0.91320520     1.155850  0.4629561\n",
       "Other         -1.6833164   0.7665839   0.02605831     1.557776  0.2525889\n",
       "Reptile       -4.0435542   1.1294399   2.53020293     3.061016  0.6275746\n",
       "              size> 2.3\n",
       "Bird          0.7302265\n",
       "Invertebrate -1.3362685\n",
       "Other        -0.2905753\n",
       "Reptile       0.5570452\n",
       "\n",
       "Residual Deviance: 537.8655 \n",
       "AIC: 585.8655 "
      ]
     },
     "metadata": {},
     "output_type": "display_data"
    }
   ],
   "source": [
    "ml.ajust"
   ]
  },
  {
   "cell_type": "code",
   "execution_count": 13,
   "metadata": {},
   "outputs": [
    {
     "data": {
      "text/plain": [
       "Call:\n",
       "multinom(formula = food2 ~ lake + gender + size, data = ml)\n",
       "\n",
       "Coefficients:\n",
       "             (Intercept) lakeHancock lakeOklawaha lakeTrafford genderMale\n",
       "Bird          -3.0386187   0.5753859  -0.55029893     1.237111  0.6064079\n",
       "Invertebrate  -0.2939452  -1.7804428   0.91320520     1.155850  0.4629561\n",
       "Other         -1.6833164   0.7665839   0.02605831     1.557776  0.2525889\n",
       "Reptile       -4.0435542   1.1294399   2.53020293     3.061016  0.6275746\n",
       "              size> 2.3\n",
       "Bird          0.7302265\n",
       "Invertebrate -1.3362685\n",
       "Other        -0.2905753\n",
       "Reptile       0.5570452\n",
       "\n",
       "Std. Errors:\n",
       "             (Intercept) lakeHancock lakeOklawaha lakeTrafford genderMale\n",
       "Bird           0.8319419   0.7952339    1.2098974    0.8661140  0.6888548\n",
       "Invertebrate   0.3552706   0.6232018    0.4761174    0.4927870  0.3955221\n",
       "Other          0.5209746   0.5685509    0.7777721    0.6256744  0.4663471\n",
       "Reptile        1.1839215   1.1927674    1.1220866    1.1296991  0.6852699\n",
       "             size> 2.3\n",
       "Bird         0.6522862\n",
       "Invertebrate 0.4111931\n",
       "Other        0.4599260\n",
       "Reptile      0.6466028\n",
       "\n",
       "Residual Deviance: 537.8655 \n",
       "AIC: 585.8655 "
      ]
     },
     "metadata": {},
     "output_type": "display_data"
    }
   ],
   "source": [
    "summary(ml.ajust)"
   ]
  },
  {
   "cell_type": "code",
   "execution_count": 14,
   "metadata": {},
   "outputs": [],
   "source": [
    "z <- summary(ml.ajust)$coefficients/summary(ml.ajust)$standard.errors"
   ]
  },
  {
   "cell_type": "code",
   "execution_count": 15,
   "metadata": {},
   "outputs": [],
   "source": [
    "p <- (1 - pnorm(abs(z), 0, 1)) * 2"
   ]
  },
  {
   "cell_type": "code",
   "execution_count": 16,
   "metadata": {},
   "outputs": [
    {
     "data": {
      "text/html": [
       "<table>\n",
       "<thead><tr><th></th><th scope=col>(Intercept)</th><th scope=col>lakeHancock</th><th scope=col>lakeOklawaha</th><th scope=col>lakeTrafford</th><th scope=col>genderMale</th><th scope=col>size&gt; 2.3</th></tr></thead>\n",
       "<tbody>\n",
       "\t<tr><th scope=row>Bird</th><td>0.0002597596</td><td>0.469346389 </td><td>0.64923077  </td><td>0.153192223 </td><td>0.3786897   </td><td>0.262932046 </td></tr>\n",
       "\t<tr><th scope=row>Invertebrate</th><td>0.4080194681</td><td>0.004277626 </td><td>0.05510781  </td><td>0.018999740 </td><td>0.2418023   </td><td>0.001155127 </td></tr>\n",
       "\t<tr><th scope=row>Other</th><td>0.0012331869</td><td>0.177558082 </td><td>0.97327284  </td><td>0.012783087 </td><td>0.5880714   </td><td>0.527525975 </td></tr>\n",
       "\t<tr><th scope=row>Reptile</th><td>0.0006369062</td><td>0.343686137 </td><td>0.02413906  </td><td>0.006736743 </td><td>0.3597684   </td><td>0.388965428 </td></tr>\n",
       "</tbody>\n",
       "</table>\n"
      ],
      "text/latex": [
       "\\begin{tabular}{r|llllll}\n",
       "  & (Intercept) & lakeHancock & lakeOklawaha & lakeTrafford & genderMale & size> 2.3\\\\\n",
       "\\hline\n",
       "\tBird & 0.0002597596 & 0.469346389  & 0.64923077   & 0.153192223  & 0.3786897    & 0.262932046 \\\\\n",
       "\tInvertebrate & 0.4080194681 & 0.004277626  & 0.05510781   & 0.018999740  & 0.2418023    & 0.001155127 \\\\\n",
       "\tOther & 0.0012331869 & 0.177558082  & 0.97327284   & 0.012783087  & 0.5880714    & 0.527525975 \\\\\n",
       "\tReptile & 0.0006369062 & 0.343686137  & 0.02413906   & 0.006736743  & 0.3597684    & 0.388965428 \\\\\n",
       "\\end{tabular}\n"
      ],
      "text/markdown": [
       "\n",
       "| <!--/--> | (Intercept) | lakeHancock | lakeOklawaha | lakeTrafford | genderMale | size> 2.3 | \n",
       "|---|---|---|---|\n",
       "| Bird | 0.0002597596 | 0.469346389  | 0.64923077   | 0.153192223  | 0.3786897    | 0.262932046  | \n",
       "| Invertebrate | 0.4080194681 | 0.004277626  | 0.05510781   | 0.018999740  | 0.2418023    | 0.001155127  | \n",
       "| Other | 0.0012331869 | 0.177558082  | 0.97327284   | 0.012783087  | 0.5880714    | 0.527525975  | \n",
       "| Reptile | 0.0006369062 | 0.343686137  | 0.02413906   | 0.006736743  | 0.3597684    | 0.388965428  | \n",
       "\n",
       "\n"
      ],
      "text/plain": [
       "             (Intercept)  lakeHancock lakeOklawaha lakeTrafford genderMale\n",
       "Bird         0.0002597596 0.469346389 0.64923077   0.153192223  0.3786897 \n",
       "Invertebrate 0.4080194681 0.004277626 0.05510781   0.018999740  0.2418023 \n",
       "Other        0.0012331869 0.177558082 0.97327284   0.012783087  0.5880714 \n",
       "Reptile      0.0006369062 0.343686137 0.02413906   0.006736743  0.3597684 \n",
       "             size> 2.3  \n",
       "Bird         0.262932046\n",
       "Invertebrate 0.001155127\n",
       "Other        0.527525975\n",
       "Reptile      0.388965428"
      ]
     },
     "metadata": {},
     "output_type": "display_data"
    }
   ],
   "source": [
    "p"
   ]
  },
  {
   "cell_type": "code",
   "execution_count": 17,
   "metadata": {},
   "outputs": [
    {
     "data": {
      "text/html": [
       "<table>\n",
       "<thead><tr><th></th><th scope=col>(Intercept)</th><th scope=col>lakeHancock</th><th scope=col>lakeOklawaha</th><th scope=col>lakeTrafford</th><th scope=col>genderMale</th><th scope=col>size&gt; 2.3</th></tr></thead>\n",
       "<tbody>\n",
       "\t<tr><th scope=row>Bird</th><td>0.04790101</td><td>1.7778164 </td><td> 0.5767774</td><td> 3.445644 </td><td>1.833832  </td><td>2.0755507 </td></tr>\n",
       "\t<tr><th scope=row>Invertebrate</th><td>0.74531732</td><td>0.1685635 </td><td> 2.4922981</td><td> 3.176721 </td><td>1.588764  </td><td>0.2628246 </td></tr>\n",
       "\t<tr><th scope=row>Other</th><td>0.18575691</td><td>2.1524009 </td><td> 1.0264008</td><td> 4.748251 </td><td>1.287354  </td><td>0.7478332 </td></tr>\n",
       "\t<tr><th scope=row>Reptile</th><td>0.01753504</td><td>3.0939230 </td><td>12.5560539</td><td>21.349232 </td><td>1.873062  </td><td>1.7455072 </td></tr>\n",
       "</tbody>\n",
       "</table>\n"
      ],
      "text/latex": [
       "\\begin{tabular}{r|llllll}\n",
       "  & (Intercept) & lakeHancock & lakeOklawaha & lakeTrafford & genderMale & size> 2.3\\\\\n",
       "\\hline\n",
       "\tBird & 0.04790101 & 1.7778164  &  0.5767774 &  3.445644  & 1.833832   & 2.0755507 \\\\\n",
       "\tInvertebrate & 0.74531732 & 0.1685635  &  2.4922981 &  3.176721  & 1.588764   & 0.2628246 \\\\\n",
       "\tOther & 0.18575691 & 2.1524009  &  1.0264008 &  4.748251  & 1.287354   & 0.7478332 \\\\\n",
       "\tReptile & 0.01753504 & 3.0939230  & 12.5560539 & 21.349232  & 1.873062   & 1.7455072 \\\\\n",
       "\\end{tabular}\n"
      ],
      "text/markdown": [
       "\n",
       "| <!--/--> | (Intercept) | lakeHancock | lakeOklawaha | lakeTrafford | genderMale | size> 2.3 | \n",
       "|---|---|---|---|\n",
       "| Bird | 0.04790101 | 1.7778164  |  0.5767774 |  3.445644  | 1.833832   | 2.0755507  | \n",
       "| Invertebrate | 0.74531732 | 0.1685635  |  2.4922981 |  3.176721  | 1.588764   | 0.2628246  | \n",
       "| Other | 0.18575691 | 2.1524009  |  1.0264008 |  4.748251  | 1.287354   | 0.7478332  | \n",
       "| Reptile | 0.01753504 | 3.0939230  | 12.5560539 | 21.349232  | 1.873062   | 1.7455072  | \n",
       "\n",
       "\n"
      ],
      "text/plain": [
       "             (Intercept) lakeHancock lakeOklawaha lakeTrafford genderMale\n",
       "Bird         0.04790101  1.7778164    0.5767774    3.445644    1.833832  \n",
       "Invertebrate 0.74531732  0.1685635    2.4922981    3.176721    1.588764  \n",
       "Other        0.18575691  2.1524009    1.0264008    4.748251    1.287354  \n",
       "Reptile      0.01753504  3.0939230   12.5560539   21.349232    1.873062  \n",
       "             size> 2.3\n",
       "Bird         2.0755507\n",
       "Invertebrate 0.2628246\n",
       "Other        0.7478332\n",
       "Reptile      1.7455072"
      ]
     },
     "metadata": {},
     "output_type": "display_data"
    }
   ],
   "source": [
    "exp(coef(ml.ajust))"
   ]
  },
  {
   "cell_type": "code",
   "execution_count": 18,
   "metadata": {},
   "outputs": [
    {
     "data": {
      "text/html": [
       "<table>\n",
       "<thead><tr><th></th><th scope=col>Fish</th><th scope=col>Bird</th><th scope=col>Invertebrate</th><th scope=col>Other</th><th scope=col>Reptile</th></tr></thead>\n",
       "<tbody>\n",
       "\t<tr><th scope=row>1</th><td>0.6236473 </td><td>0.11023107</td><td>0.02059253</td><td>0.18647129</td><td>0.05905776</td></tr>\n",
       "\t<tr><th scope=row>2</th><td>0.1449064 </td><td>0.04385936</td><td>0.54508877</td><td>0.16453726</td><td>0.10160821</td></tr>\n",
       "\t<tr><th scope=row>3</th><td>0.4825214 </td><td>0.02766960</td><td>0.23557205</td><td>0.06879919</td><td>0.18543775</td></tr>\n",
       "\t<tr><th scope=row>4</th><td>0.3050732 </td><td>0.10450871</td><td>0.18984118</td><td>0.20122758</td><td>0.19934930</td></tr>\n",
       "\t<tr><th scope=row>5</th><td>0.2088077 </td><td>0.03446367</td><td>0.49438679</td><td>0.18417267</td><td>0.07816917</td></tr>\n",
       "\t<tr><th scope=row>6</th><td>0.3050732 </td><td>0.10450871</td><td>0.18984118</td><td>0.20122758</td><td>0.19934930</td></tr>\n",
       "\t<tr><th scope=row>7</th><td>0.4825214 </td><td>0.02766960</td><td>0.23557205</td><td>0.06879919</td><td>0.18543775</td></tr>\n",
       "\t<tr><th scope=row>8</th><td>0.1449064 </td><td>0.04385936</td><td>0.54508877</td><td>0.16453726</td><td>0.10160821</td></tr>\n",
       "\t<tr><th scope=row>9</th><td>0.2088077 </td><td>0.03446367</td><td>0.49438679</td><td>0.18417267</td><td>0.07816917</td></tr>\n",
       "\t<tr><th scope=row>10</th><td>0.5070734 </td><td>0.07918849</td><td>0.10121267</td><td>0.26099788</td><td>0.05152752</td></tr>\n",
       "\t<tr><th scope=row>11</th><td>0.6826724 </td><td>0.06787196</td><td>0.13372714</td><td>0.09483357</td><td>0.02089492</td></tr>\n",
       "\t<tr><th scope=row>12</th><td>0.3930888 </td><td>0.03452987</td><td>0.46546941</td><td>0.09400124</td><td>0.01291069</td></tr>\n",
       "\t<tr><th scope=row>13</th><td>0.2088077 </td><td>0.03446367</td><td>0.49438679</td><td>0.18417267</td><td>0.07816917</td></tr>\n",
       "\t<tr><th scope=row>14</th><td>0.3050732 </td><td>0.10450871</td><td>0.18984118</td><td>0.20122758</td><td>0.19934930</td></tr>\n",
       "\t<tr><th scope=row>15</th><td>0.6006483 </td><td>0.05115073</td><td>0.07546142</td><td>0.24015320</td><td>0.03258641</td></tr>\n",
       "\t<tr><th scope=row>16</th><td>0.6006483 </td><td>0.05115073</td><td>0.07546142</td><td>0.24015320</td><td>0.03258641</td></tr>\n",
       "\t<tr><th scope=row>17</th><td>0.6006483 </td><td>0.05115073</td><td>0.07546142</td><td>0.24015320</td><td>0.03258641</td></tr>\n",
       "\t<tr><th scope=row>18</th><td>0.4825214 </td><td>0.02766960</td><td>0.23557205</td><td>0.06879919</td><td>0.18543775</td></tr>\n",
       "\t<tr><th scope=row>19</th><td>0.6006483 </td><td>0.05115073</td><td>0.07546142</td><td>0.24015320</td><td>0.03258641</td></tr>\n",
       "\t<tr><th scope=row>20</th><td>0.3050732 </td><td>0.10450871</td><td>0.18984118</td><td>0.20122758</td><td>0.19934930</td></tr>\n",
       "\t<tr><th scope=row>21</th><td>0.5157594 </td><td>0.16717514</td><td>0.02705685</td><td>0.19852629</td><td>0.09148233</td></tr>\n",
       "\t<tr><th scope=row>22</th><td>0.6006483 </td><td>0.05115073</td><td>0.07546142</td><td>0.24015320</td><td>0.03258641</td></tr>\n",
       "\t<tr><th scope=row>23</th><td>0.4825214 </td><td>0.02766960</td><td>0.23557205</td><td>0.06879919</td><td>0.18543775</td></tr>\n",
       "\t<tr><th scope=row>24</th><td>0.6826724 </td><td>0.06787196</td><td>0.13372714</td><td>0.09483357</td><td>0.02089492</td></tr>\n",
       "\t<tr><th scope=row>25</th><td>0.6236473 </td><td>0.11023107</td><td>0.02059253</td><td>0.18647129</td><td>0.05905776</td></tr>\n",
       "\t<tr><th scope=row>26</th><td>0.2088077 </td><td>0.03446367</td><td>0.49438679</td><td>0.18417267</td><td>0.07816917</td></tr>\n",
       "\t<tr><th scope=row>27</th><td>0.5781338 </td><td>0.10540615</td><td>0.17992637</td><td>0.10338940</td><td>0.03314430</td></tr>\n",
       "\t<tr><th scope=row>28</th><td>0.6006483 </td><td>0.05115073</td><td>0.07546142</td><td>0.24015320</td><td>0.03258641</td></tr>\n",
       "\t<tr><th scope=row>29</th><td>0.2088077 </td><td>0.03446367</td><td>0.49438679</td><td>0.18417267</td><td>0.07816917</td></tr>\n",
       "\t<tr><th scope=row>30</th><td>0.5157594 </td><td>0.16717514</td><td>0.02705685</td><td>0.19852629</td><td>0.09148233</td></tr>\n",
       "\t<tr><th scope=row>...</th><td>...</td><td>...</td><td>...</td><td>...</td><td>...</td></tr>\n",
       "\t<tr><th scope=row>190</th><td>0.1449064  </td><td>0.043859355</td><td>0.54508877 </td><td>0.16453726 </td><td>0.101608206</td></tr>\n",
       "\t<tr><th scope=row>191</th><td>0.5157594  </td><td>0.167175138</td><td>0.02705685 </td><td>0.19852629 </td><td>0.091482331</td></tr>\n",
       "\t<tr><th scope=row>192</th><td>0.4825214  </td><td>0.027669597</td><td>0.23557205 </td><td>0.06879919 </td><td>0.185437746</td></tr>\n",
       "\t<tr><th scope=row>193</th><td>0.5008740  </td><td>0.023992369</td><td>0.37331003 </td><td>0.09304080 </td><td>0.008782844</td></tr>\n",
       "\t<tr><th scope=row>194</th><td>0.5008740  </td><td>0.023992369</td><td>0.37331003 </td><td>0.09304080 </td><td>0.008782844</td></tr>\n",
       "\t<tr><th scope=row>195</th><td>0.5070734  </td><td>0.079188488</td><td>0.10121267 </td><td>0.26099788 </td><td>0.051527525</td></tr>\n",
       "\t<tr><th scope=row>196</th><td>0.3050732  </td><td>0.104508708</td><td>0.18984118 </td><td>0.20122758 </td><td>0.199349304</td></tr>\n",
       "\t<tr><th scope=row>197</th><td>0.6826724  </td><td>0.067871960</td><td>0.13372714 </td><td>0.09483357 </td><td>0.020894921</td></tr>\n",
       "\t<tr><th scope=row>198</th><td>0.5781338  </td><td>0.105406155</td><td>0.17992637 </td><td>0.10338940 </td><td>0.033144304</td></tr>\n",
       "\t<tr><th scope=row>199</th><td>0.2088077  </td><td>0.034463672</td><td>0.49438679 </td><td>0.18417267 </td><td>0.078169169</td></tr>\n",
       "\t<tr><th scope=row>200</th><td>0.4825214  </td><td>0.027669597</td><td>0.23557205 </td><td>0.06879919 </td><td>0.185437746</td></tr>\n",
       "\t<tr><th scope=row>201</th><td>0.3050732  </td><td>0.104508708</td><td>0.18984118 </td><td>0.20122758 </td><td>0.199349304</td></tr>\n",
       "\t<tr><th scope=row>202</th><td>0.4825214  </td><td>0.027669597</td><td>0.23557205 </td><td>0.06879919 </td><td>0.185437746</td></tr>\n",
       "\t<tr><th scope=row>203</th><td>0.4825214  </td><td>0.027669597</td><td>0.23557205 </td><td>0.06879919 </td><td>0.185437746</td></tr>\n",
       "\t<tr><th scope=row>204</th><td>0.5070734  </td><td>0.079188488</td><td>0.10121267 </td><td>0.26099788 </td><td>0.051527525</td></tr>\n",
       "\t<tr><th scope=row>205</th><td>0.5008740  </td><td>0.023992369</td><td>0.37331003 </td><td>0.09304080 </td><td>0.008782844</td></tr>\n",
       "\t<tr><th scope=row>206</th><td>0.3050732  </td><td>0.104508708</td><td>0.18984118 </td><td>0.20122758 </td><td>0.199349304</td></tr>\n",
       "\t<tr><th scope=row>207</th><td>0.5008740  </td><td>0.023992369</td><td>0.37331003 </td><td>0.09304080 </td><td>0.008782844</td></tr>\n",
       "\t<tr><th scope=row>208</th><td>0.3033969  </td><td>0.008382315</td><td>0.56357571 </td><td>0.05784596 </td><td>0.066799156</td></tr>\n",
       "\t<tr><th scope=row>209</th><td>0.3050732  </td><td>0.104508708</td><td>0.18984118 </td><td>0.20122758 </td><td>0.199349304</td></tr>\n",
       "\t<tr><th scope=row>210</th><td>0.5157594  </td><td>0.167175138</td><td>0.02705685 </td><td>0.19852629 </td><td>0.091482331</td></tr>\n",
       "\t<tr><th scope=row>211</th><td>0.2146052  </td><td>0.010873082</td><td>0.63334545 </td><td>0.05267446 </td><td>0.088501834</td></tr>\n",
       "\t<tr><th scope=row>212</th><td>0.3930888  </td><td>0.034529869</td><td>0.46546941 </td><td>0.09400124 </td><td>0.012910693</td></tr>\n",
       "\t<tr><th scope=row>213</th><td>0.6826724  </td><td>0.067871960</td><td>0.13372714 </td><td>0.09483357 </td><td>0.020894921</td></tr>\n",
       "\t<tr><th scope=row>214</th><td>0.3050732  </td><td>0.104508708</td><td>0.18984118 </td><td>0.20122758 </td><td>0.199349304</td></tr>\n",
       "\t<tr><th scope=row>215</th><td>0.5070734  </td><td>0.079188488</td><td>0.10121267 </td><td>0.26099788 </td><td>0.051527525</td></tr>\n",
       "\t<tr><th scope=row>216</th><td>0.2088077  </td><td>0.034463672</td><td>0.49438679 </td><td>0.18417267 </td><td>0.078169169</td></tr>\n",
       "\t<tr><th scope=row>217</th><td>0.3930888  </td><td>0.034529869</td><td>0.46546941 </td><td>0.09400124 </td><td>0.012910693</td></tr>\n",
       "\t<tr><th scope=row>218</th><td>0.6826724  </td><td>0.067871960</td><td>0.13372714 </td><td>0.09483357 </td><td>0.020894921</td></tr>\n",
       "\t<tr><th scope=row>219</th><td>0.2146052  </td><td>0.010873082</td><td>0.63334545 </td><td>0.05267446 </td><td>0.088501834</td></tr>\n",
       "</tbody>\n",
       "</table>\n"
      ],
      "text/latex": [
       "\\begin{tabular}{r|lllll}\n",
       "  & Fish & Bird & Invertebrate & Other & Reptile\\\\\n",
       "\\hline\n",
       "\t1 & 0.6236473  & 0.11023107 & 0.02059253 & 0.18647129 & 0.05905776\\\\\n",
       "\t2 & 0.1449064  & 0.04385936 & 0.54508877 & 0.16453726 & 0.10160821\\\\\n",
       "\t3 & 0.4825214  & 0.02766960 & 0.23557205 & 0.06879919 & 0.18543775\\\\\n",
       "\t4 & 0.3050732  & 0.10450871 & 0.18984118 & 0.20122758 & 0.19934930\\\\\n",
       "\t5 & 0.2088077  & 0.03446367 & 0.49438679 & 0.18417267 & 0.07816917\\\\\n",
       "\t6 & 0.3050732  & 0.10450871 & 0.18984118 & 0.20122758 & 0.19934930\\\\\n",
       "\t7 & 0.4825214  & 0.02766960 & 0.23557205 & 0.06879919 & 0.18543775\\\\\n",
       "\t8 & 0.1449064  & 0.04385936 & 0.54508877 & 0.16453726 & 0.10160821\\\\\n",
       "\t9 & 0.2088077  & 0.03446367 & 0.49438679 & 0.18417267 & 0.07816917\\\\\n",
       "\t10 & 0.5070734  & 0.07918849 & 0.10121267 & 0.26099788 & 0.05152752\\\\\n",
       "\t11 & 0.6826724  & 0.06787196 & 0.13372714 & 0.09483357 & 0.02089492\\\\\n",
       "\t12 & 0.3930888  & 0.03452987 & 0.46546941 & 0.09400124 & 0.01291069\\\\\n",
       "\t13 & 0.2088077  & 0.03446367 & 0.49438679 & 0.18417267 & 0.07816917\\\\\n",
       "\t14 & 0.3050732  & 0.10450871 & 0.18984118 & 0.20122758 & 0.19934930\\\\\n",
       "\t15 & 0.6006483  & 0.05115073 & 0.07546142 & 0.24015320 & 0.03258641\\\\\n",
       "\t16 & 0.6006483  & 0.05115073 & 0.07546142 & 0.24015320 & 0.03258641\\\\\n",
       "\t17 & 0.6006483  & 0.05115073 & 0.07546142 & 0.24015320 & 0.03258641\\\\\n",
       "\t18 & 0.4825214  & 0.02766960 & 0.23557205 & 0.06879919 & 0.18543775\\\\\n",
       "\t19 & 0.6006483  & 0.05115073 & 0.07546142 & 0.24015320 & 0.03258641\\\\\n",
       "\t20 & 0.3050732  & 0.10450871 & 0.18984118 & 0.20122758 & 0.19934930\\\\\n",
       "\t21 & 0.5157594  & 0.16717514 & 0.02705685 & 0.19852629 & 0.09148233\\\\\n",
       "\t22 & 0.6006483  & 0.05115073 & 0.07546142 & 0.24015320 & 0.03258641\\\\\n",
       "\t23 & 0.4825214  & 0.02766960 & 0.23557205 & 0.06879919 & 0.18543775\\\\\n",
       "\t24 & 0.6826724  & 0.06787196 & 0.13372714 & 0.09483357 & 0.02089492\\\\\n",
       "\t25 & 0.6236473  & 0.11023107 & 0.02059253 & 0.18647129 & 0.05905776\\\\\n",
       "\t26 & 0.2088077  & 0.03446367 & 0.49438679 & 0.18417267 & 0.07816917\\\\\n",
       "\t27 & 0.5781338  & 0.10540615 & 0.17992637 & 0.10338940 & 0.03314430\\\\\n",
       "\t28 & 0.6006483  & 0.05115073 & 0.07546142 & 0.24015320 & 0.03258641\\\\\n",
       "\t29 & 0.2088077  & 0.03446367 & 0.49438679 & 0.18417267 & 0.07816917\\\\\n",
       "\t30 & 0.5157594  & 0.16717514 & 0.02705685 & 0.19852629 & 0.09148233\\\\\n",
       "\t... & ... & ... & ... & ... & ...\\\\\n",
       "\t190 & 0.1449064   & 0.043859355 & 0.54508877  & 0.16453726  & 0.101608206\\\\\n",
       "\t191 & 0.5157594   & 0.167175138 & 0.02705685  & 0.19852629  & 0.091482331\\\\\n",
       "\t192 & 0.4825214   & 0.027669597 & 0.23557205  & 0.06879919  & 0.185437746\\\\\n",
       "\t193 & 0.5008740   & 0.023992369 & 0.37331003  & 0.09304080  & 0.008782844\\\\\n",
       "\t194 & 0.5008740   & 0.023992369 & 0.37331003  & 0.09304080  & 0.008782844\\\\\n",
       "\t195 & 0.5070734   & 0.079188488 & 0.10121267  & 0.26099788  & 0.051527525\\\\\n",
       "\t196 & 0.3050732   & 0.104508708 & 0.18984118  & 0.20122758  & 0.199349304\\\\\n",
       "\t197 & 0.6826724   & 0.067871960 & 0.13372714  & 0.09483357  & 0.020894921\\\\\n",
       "\t198 & 0.5781338   & 0.105406155 & 0.17992637  & 0.10338940  & 0.033144304\\\\\n",
       "\t199 & 0.2088077   & 0.034463672 & 0.49438679  & 0.18417267  & 0.078169169\\\\\n",
       "\t200 & 0.4825214   & 0.027669597 & 0.23557205  & 0.06879919  & 0.185437746\\\\\n",
       "\t201 & 0.3050732   & 0.104508708 & 0.18984118  & 0.20122758  & 0.199349304\\\\\n",
       "\t202 & 0.4825214   & 0.027669597 & 0.23557205  & 0.06879919  & 0.185437746\\\\\n",
       "\t203 & 0.4825214   & 0.027669597 & 0.23557205  & 0.06879919  & 0.185437746\\\\\n",
       "\t204 & 0.5070734   & 0.079188488 & 0.10121267  & 0.26099788  & 0.051527525\\\\\n",
       "\t205 & 0.5008740   & 0.023992369 & 0.37331003  & 0.09304080  & 0.008782844\\\\\n",
       "\t206 & 0.3050732   & 0.104508708 & 0.18984118  & 0.20122758  & 0.199349304\\\\\n",
       "\t207 & 0.5008740   & 0.023992369 & 0.37331003  & 0.09304080  & 0.008782844\\\\\n",
       "\t208 & 0.3033969   & 0.008382315 & 0.56357571  & 0.05784596  & 0.066799156\\\\\n",
       "\t209 & 0.3050732   & 0.104508708 & 0.18984118  & 0.20122758  & 0.199349304\\\\\n",
       "\t210 & 0.5157594   & 0.167175138 & 0.02705685  & 0.19852629  & 0.091482331\\\\\n",
       "\t211 & 0.2146052   & 0.010873082 & 0.63334545  & 0.05267446  & 0.088501834\\\\\n",
       "\t212 & 0.3930888   & 0.034529869 & 0.46546941  & 0.09400124  & 0.012910693\\\\\n",
       "\t213 & 0.6826724   & 0.067871960 & 0.13372714  & 0.09483357  & 0.020894921\\\\\n",
       "\t214 & 0.3050732   & 0.104508708 & 0.18984118  & 0.20122758  & 0.199349304\\\\\n",
       "\t215 & 0.5070734   & 0.079188488 & 0.10121267  & 0.26099788  & 0.051527525\\\\\n",
       "\t216 & 0.2088077   & 0.034463672 & 0.49438679  & 0.18417267  & 0.078169169\\\\\n",
       "\t217 & 0.3930888   & 0.034529869 & 0.46546941  & 0.09400124  & 0.012910693\\\\\n",
       "\t218 & 0.6826724   & 0.067871960 & 0.13372714  & 0.09483357  & 0.020894921\\\\\n",
       "\t219 & 0.2146052   & 0.010873082 & 0.63334545  & 0.05267446  & 0.088501834\\\\\n",
       "\\end{tabular}\n"
      ],
      "text/markdown": [
       "\n",
       "| <!--/--> | Fish | Bird | Invertebrate | Other | Reptile | \n",
       "|---|---|---|---|---|---|---|---|---|---|---|---|---|---|---|---|---|---|---|---|---|---|---|---|---|---|---|---|---|---|---|---|---|---|---|---|---|---|---|---|---|---|---|---|---|---|---|---|---|---|---|---|---|---|---|---|---|---|---|---|---|\n",
       "| 1 | 0.6236473  | 0.11023107 | 0.02059253 | 0.18647129 | 0.05905776 | \n",
       "| 2 | 0.1449064  | 0.04385936 | 0.54508877 | 0.16453726 | 0.10160821 | \n",
       "| 3 | 0.4825214  | 0.02766960 | 0.23557205 | 0.06879919 | 0.18543775 | \n",
       "| 4 | 0.3050732  | 0.10450871 | 0.18984118 | 0.20122758 | 0.19934930 | \n",
       "| 5 | 0.2088077  | 0.03446367 | 0.49438679 | 0.18417267 | 0.07816917 | \n",
       "| 6 | 0.3050732  | 0.10450871 | 0.18984118 | 0.20122758 | 0.19934930 | \n",
       "| 7 | 0.4825214  | 0.02766960 | 0.23557205 | 0.06879919 | 0.18543775 | \n",
       "| 8 | 0.1449064  | 0.04385936 | 0.54508877 | 0.16453726 | 0.10160821 | \n",
       "| 9 | 0.2088077  | 0.03446367 | 0.49438679 | 0.18417267 | 0.07816917 | \n",
       "| 10 | 0.5070734  | 0.07918849 | 0.10121267 | 0.26099788 | 0.05152752 | \n",
       "| 11 | 0.6826724  | 0.06787196 | 0.13372714 | 0.09483357 | 0.02089492 | \n",
       "| 12 | 0.3930888  | 0.03452987 | 0.46546941 | 0.09400124 | 0.01291069 | \n",
       "| 13 | 0.2088077  | 0.03446367 | 0.49438679 | 0.18417267 | 0.07816917 | \n",
       "| 14 | 0.3050732  | 0.10450871 | 0.18984118 | 0.20122758 | 0.19934930 | \n",
       "| 15 | 0.6006483  | 0.05115073 | 0.07546142 | 0.24015320 | 0.03258641 | \n",
       "| 16 | 0.6006483  | 0.05115073 | 0.07546142 | 0.24015320 | 0.03258641 | \n",
       "| 17 | 0.6006483  | 0.05115073 | 0.07546142 | 0.24015320 | 0.03258641 | \n",
       "| 18 | 0.4825214  | 0.02766960 | 0.23557205 | 0.06879919 | 0.18543775 | \n",
       "| 19 | 0.6006483  | 0.05115073 | 0.07546142 | 0.24015320 | 0.03258641 | \n",
       "| 20 | 0.3050732  | 0.10450871 | 0.18984118 | 0.20122758 | 0.19934930 | \n",
       "| 21 | 0.5157594  | 0.16717514 | 0.02705685 | 0.19852629 | 0.09148233 | \n",
       "| 22 | 0.6006483  | 0.05115073 | 0.07546142 | 0.24015320 | 0.03258641 | \n",
       "| 23 | 0.4825214  | 0.02766960 | 0.23557205 | 0.06879919 | 0.18543775 | \n",
       "| 24 | 0.6826724  | 0.06787196 | 0.13372714 | 0.09483357 | 0.02089492 | \n",
       "| 25 | 0.6236473  | 0.11023107 | 0.02059253 | 0.18647129 | 0.05905776 | \n",
       "| 26 | 0.2088077  | 0.03446367 | 0.49438679 | 0.18417267 | 0.07816917 | \n",
       "| 27 | 0.5781338  | 0.10540615 | 0.17992637 | 0.10338940 | 0.03314430 | \n",
       "| 28 | 0.6006483  | 0.05115073 | 0.07546142 | 0.24015320 | 0.03258641 | \n",
       "| 29 | 0.2088077  | 0.03446367 | 0.49438679 | 0.18417267 | 0.07816917 | \n",
       "| 30 | 0.5157594  | 0.16717514 | 0.02705685 | 0.19852629 | 0.09148233 | \n",
       "| ... | ... | ... | ... | ... | ... | \n",
       "| 190 | 0.1449064   | 0.043859355 | 0.54508877  | 0.16453726  | 0.101608206 | \n",
       "| 191 | 0.5157594   | 0.167175138 | 0.02705685  | 0.19852629  | 0.091482331 | \n",
       "| 192 | 0.4825214   | 0.027669597 | 0.23557205  | 0.06879919  | 0.185437746 | \n",
       "| 193 | 0.5008740   | 0.023992369 | 0.37331003  | 0.09304080  | 0.008782844 | \n",
       "| 194 | 0.5008740   | 0.023992369 | 0.37331003  | 0.09304080  | 0.008782844 | \n",
       "| 195 | 0.5070734   | 0.079188488 | 0.10121267  | 0.26099788  | 0.051527525 | \n",
       "| 196 | 0.3050732   | 0.104508708 | 0.18984118  | 0.20122758  | 0.199349304 | \n",
       "| 197 | 0.6826724   | 0.067871960 | 0.13372714  | 0.09483357  | 0.020894921 | \n",
       "| 198 | 0.5781338   | 0.105406155 | 0.17992637  | 0.10338940  | 0.033144304 | \n",
       "| 199 | 0.2088077   | 0.034463672 | 0.49438679  | 0.18417267  | 0.078169169 | \n",
       "| 200 | 0.4825214   | 0.027669597 | 0.23557205  | 0.06879919  | 0.185437746 | \n",
       "| 201 | 0.3050732   | 0.104508708 | 0.18984118  | 0.20122758  | 0.199349304 | \n",
       "| 202 | 0.4825214   | 0.027669597 | 0.23557205  | 0.06879919  | 0.185437746 | \n",
       "| 203 | 0.4825214   | 0.027669597 | 0.23557205  | 0.06879919  | 0.185437746 | \n",
       "| 204 | 0.5070734   | 0.079188488 | 0.10121267  | 0.26099788  | 0.051527525 | \n",
       "| 205 | 0.5008740   | 0.023992369 | 0.37331003  | 0.09304080  | 0.008782844 | \n",
       "| 206 | 0.3050732   | 0.104508708 | 0.18984118  | 0.20122758  | 0.199349304 | \n",
       "| 207 | 0.5008740   | 0.023992369 | 0.37331003  | 0.09304080  | 0.008782844 | \n",
       "| 208 | 0.3033969   | 0.008382315 | 0.56357571  | 0.05784596  | 0.066799156 | \n",
       "| 209 | 0.3050732   | 0.104508708 | 0.18984118  | 0.20122758  | 0.199349304 | \n",
       "| 210 | 0.5157594   | 0.167175138 | 0.02705685  | 0.19852629  | 0.091482331 | \n",
       "| 211 | 0.2146052   | 0.010873082 | 0.63334545  | 0.05267446  | 0.088501834 | \n",
       "| 212 | 0.3930888   | 0.034529869 | 0.46546941  | 0.09400124  | 0.012910693 | \n",
       "| 213 | 0.6826724   | 0.067871960 | 0.13372714  | 0.09483357  | 0.020894921 | \n",
       "| 214 | 0.3050732   | 0.104508708 | 0.18984118  | 0.20122758  | 0.199349304 | \n",
       "| 215 | 0.5070734   | 0.079188488 | 0.10121267  | 0.26099788  | 0.051527525 | \n",
       "| 216 | 0.2088077   | 0.034463672 | 0.49438679  | 0.18417267  | 0.078169169 | \n",
       "| 217 | 0.3930888   | 0.034529869 | 0.46546941  | 0.09400124  | 0.012910693 | \n",
       "| 218 | 0.6826724   | 0.067871960 | 0.13372714  | 0.09483357  | 0.020894921 | \n",
       "| 219 | 0.2146052   | 0.010873082 | 0.63334545  | 0.05267446  | 0.088501834 | \n",
       "\n",
       "\n"
      ],
      "text/plain": [
       "    Fish      Bird        Invertebrate Other      Reptile    \n",
       "1   0.6236473 0.11023107  0.02059253   0.18647129 0.05905776 \n",
       "2   0.1449064 0.04385936  0.54508877   0.16453726 0.10160821 \n",
       "3   0.4825214 0.02766960  0.23557205   0.06879919 0.18543775 \n",
       "4   0.3050732 0.10450871  0.18984118   0.20122758 0.19934930 \n",
       "5   0.2088077 0.03446367  0.49438679   0.18417267 0.07816917 \n",
       "6   0.3050732 0.10450871  0.18984118   0.20122758 0.19934930 \n",
       "7   0.4825214 0.02766960  0.23557205   0.06879919 0.18543775 \n",
       "8   0.1449064 0.04385936  0.54508877   0.16453726 0.10160821 \n",
       "9   0.2088077 0.03446367  0.49438679   0.18417267 0.07816917 \n",
       "10  0.5070734 0.07918849  0.10121267   0.26099788 0.05152752 \n",
       "11  0.6826724 0.06787196  0.13372714   0.09483357 0.02089492 \n",
       "12  0.3930888 0.03452987  0.46546941   0.09400124 0.01291069 \n",
       "13  0.2088077 0.03446367  0.49438679   0.18417267 0.07816917 \n",
       "14  0.3050732 0.10450871  0.18984118   0.20122758 0.19934930 \n",
       "15  0.6006483 0.05115073  0.07546142   0.24015320 0.03258641 \n",
       "16  0.6006483 0.05115073  0.07546142   0.24015320 0.03258641 \n",
       "17  0.6006483 0.05115073  0.07546142   0.24015320 0.03258641 \n",
       "18  0.4825214 0.02766960  0.23557205   0.06879919 0.18543775 \n",
       "19  0.6006483 0.05115073  0.07546142   0.24015320 0.03258641 \n",
       "20  0.3050732 0.10450871  0.18984118   0.20122758 0.19934930 \n",
       "21  0.5157594 0.16717514  0.02705685   0.19852629 0.09148233 \n",
       "22  0.6006483 0.05115073  0.07546142   0.24015320 0.03258641 \n",
       "23  0.4825214 0.02766960  0.23557205   0.06879919 0.18543775 \n",
       "24  0.6826724 0.06787196  0.13372714   0.09483357 0.02089492 \n",
       "25  0.6236473 0.11023107  0.02059253   0.18647129 0.05905776 \n",
       "26  0.2088077 0.03446367  0.49438679   0.18417267 0.07816917 \n",
       "27  0.5781338 0.10540615  0.17992637   0.10338940 0.03314430 \n",
       "28  0.6006483 0.05115073  0.07546142   0.24015320 0.03258641 \n",
       "29  0.2088077 0.03446367  0.49438679   0.18417267 0.07816917 \n",
       "30  0.5157594 0.16717514  0.02705685   0.19852629 0.09148233 \n",
       "... ...       ...         ...          ...        ...        \n",
       "190 0.1449064 0.043859355 0.54508877   0.16453726 0.101608206\n",
       "191 0.5157594 0.167175138 0.02705685   0.19852629 0.091482331\n",
       "192 0.4825214 0.027669597 0.23557205   0.06879919 0.185437746\n",
       "193 0.5008740 0.023992369 0.37331003   0.09304080 0.008782844\n",
       "194 0.5008740 0.023992369 0.37331003   0.09304080 0.008782844\n",
       "195 0.5070734 0.079188488 0.10121267   0.26099788 0.051527525\n",
       "196 0.3050732 0.104508708 0.18984118   0.20122758 0.199349304\n",
       "197 0.6826724 0.067871960 0.13372714   0.09483357 0.020894921\n",
       "198 0.5781338 0.105406155 0.17992637   0.10338940 0.033144304\n",
       "199 0.2088077 0.034463672 0.49438679   0.18417267 0.078169169\n",
       "200 0.4825214 0.027669597 0.23557205   0.06879919 0.185437746\n",
       "201 0.3050732 0.104508708 0.18984118   0.20122758 0.199349304\n",
       "202 0.4825214 0.027669597 0.23557205   0.06879919 0.185437746\n",
       "203 0.4825214 0.027669597 0.23557205   0.06879919 0.185437746\n",
       "204 0.5070734 0.079188488 0.10121267   0.26099788 0.051527525\n",
       "205 0.5008740 0.023992369 0.37331003   0.09304080 0.008782844\n",
       "206 0.3050732 0.104508708 0.18984118   0.20122758 0.199349304\n",
       "207 0.5008740 0.023992369 0.37331003   0.09304080 0.008782844\n",
       "208 0.3033969 0.008382315 0.56357571   0.05784596 0.066799156\n",
       "209 0.3050732 0.104508708 0.18984118   0.20122758 0.199349304\n",
       "210 0.5157594 0.167175138 0.02705685   0.19852629 0.091482331\n",
       "211 0.2146052 0.010873082 0.63334545   0.05267446 0.088501834\n",
       "212 0.3930888 0.034529869 0.46546941   0.09400124 0.012910693\n",
       "213 0.6826724 0.067871960 0.13372714   0.09483357 0.020894921\n",
       "214 0.3050732 0.104508708 0.18984118   0.20122758 0.199349304\n",
       "215 0.5070734 0.079188488 0.10121267   0.26099788 0.051527525\n",
       "216 0.2088077 0.034463672 0.49438679   0.18417267 0.078169169\n",
       "217 0.3930888 0.034529869 0.46546941   0.09400124 0.012910693\n",
       "218 0.6826724 0.067871960 0.13372714   0.09483357 0.020894921\n",
       "219 0.2146052 0.010873082 0.63334545   0.05267446 0.088501834"
      ]
     },
     "metadata": {},
     "output_type": "display_data"
    }
   ],
   "source": [
    "pp <- fitted(ml.ajust)\n",
    "pp"
   ]
  },
  {
   "cell_type": "markdown",
   "metadata": {},
   "source": [
    "## Desafio\n",
    "\n",
    "   - Crie uma nova coluna e adicione ao dataset. Nesta coluna deverá conter o indice do cabeçalho que aoresenta maior probabilidade. "
   ]
  }
 ],
 "metadata": {
  "kernelspec": {
   "display_name": "R",
   "language": "R",
   "name": "ir"
  },
  "language_info": {
   "codemirror_mode": "r",
   "file_extension": ".r",
   "mimetype": "text/x-r-source",
   "name": "R",
   "pygments_lexer": "r",
   "version": "3.5.1"
  }
 },
 "nbformat": 4,
 "nbformat_minor": 2
}
