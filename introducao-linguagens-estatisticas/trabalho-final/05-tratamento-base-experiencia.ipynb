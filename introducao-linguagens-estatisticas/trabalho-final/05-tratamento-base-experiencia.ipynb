{
 "cells": [
  {
   "cell_type": "markdown",
   "metadata": {},
   "source": [
    "# Trabalho Final\n",
    "\n",
    "**Aluno**:\n",
    "\n",
    "**Matrícula**:\n",
    "\n",
    "\n",
    "\n",
    "## 05 - Tratamento da base *experiencia_trabalho.csv*\n",
    "\n",
    "Descreva a base com suas palavras."
   ]
  },
  {
   "cell_type": "code",
   "execution_count": null,
   "metadata": {},
   "outputs": [],
   "source": [
    "import numpy as np\n",
    "import pandas as pd\n",
    "\n",
    "pd.set_option('display.max_columns', None)\n",
    "pd.set_option('display.max_rows', None)\n",
    "\n",
    "experiencia = pd.read_csv(\"bases/experiencia_trabalho.csv\")\n",
    "\n",
    "# Análise inicial\n",
    "print(\"Nº de registros:\", len(experiencia))\n",
    "print(\"Nº de valores únicos de perfil_id:\", experiencia.perfil_id.nunique())\n",
    "print(\"Nº de valores únicos de company:\", experiencia.company.nunique())\n",
    "print(\"Nº de valores únicos de location:\", experiencia.location.nunique())\n",
    "print(\"Nº de valores únicos de position:\", experiencia.position.nunique())\n",
    "print(\"Nº de valores vazios de company:\", experiencia.company.isnull().sum())\n",
    "print(\"Nº de valores vazios de date:\", experiencia.date.isnull().sum())\n",
    "print(\"Nº de valores vazios de location:\", experiencia.location.isnull().sum())\n",
    "print(\"Nº de valores vazios de position:\", experiencia.position.isnull().sum())\n",
    "\n",
    "experiencia.describe(include=\"all\")"
   ]
  },
  {
   "cell_type": "code",
   "execution_count": null,
   "metadata": {},
   "outputs": [],
   "source": [
    "experiencia = experiencia[(experiencia.company.notnull()) & (experiencia.position.notnull()) & (experiencia.date.notnull())]\n",
    "print(\"Nº de valores únicos de perfil_id:\", experiencia.perfil_id.nunique())\n",
    "print(\"Nº de registros restantes após remoção dos vazios:\", len(experiencia))\n",
    "print(\"Nº de valores vazios de company:\", experiencia.company.isnull().sum())\n",
    "print(\"Nº de valores vazios de date:\", experiencia.date.isnull().sum())\n",
    "print(\"Nº de valores vazios de location:\", experiencia.location.isnull().sum())\n",
    "print(\"Nº de valores vazios de position:\", experiencia.position.isnull().sum())"
   ]
  },
  {
   "cell_type": "markdown",
   "metadata": {},
   "source": [
    "## 05.1 - Tratamento das data\n",
    "\n",
    "A coluna **date** pode ser quebrada no ano de início (**inicio**) e no ano de fim (**fim**) da experiência. As experiências em aberto, possuem o texto \"o momento\" que será interpretado como o mês/ano da extração dos dados (09/2017). As experiências em aberto serão marcadas na coluna booleana **atual**, que indicando que o funcionário ainda trabalha na trojan."
   ]
  },
  {
   "cell_type": "code",
   "execution_count": null,
   "metadata": {},
   "outputs": [],
   "source": []
  },
  {
   "cell_type": "markdown",
   "metadata": {},
   "source": [
    "A informação de duração da experiência (**duracao**) é derivada calculando a diferença do fim ao início em meses."
   ]
  },
  {
   "cell_type": "code",
   "execution_count": null,
   "metadata": {},
   "outputs": [],
   "source": [
    "# calcula a duração estimada de cada experiência em meses"
   ]
  },
  {
   "cell_type": "markdown",
   "metadata": {},
   "source": [
    "Algumas informações consolidadas por funcionários podem ser extraídas dessa base. É possível extrair o tempo de carreira na empresa em meses (**tempo_empresa_meses**), o tempo de carreira no mercado em geral em meses (**tempo_mercado_meses**), e também a quantidade de empregos que o funcionário já teve (**qtd_empregos**), o que pode auxiliar em algo na análise. Portanto, obtenha essas informações."
   ]
  },
  {
   "cell_type": "code",
   "execution_count": null,
   "metadata": {},
   "outputs": [],
   "source": []
  },
  {
   "cell_type": "markdown",
   "metadata": {},
   "source": [
    "## 05.2 - Cargo atual na empresa\n"
   ]
  },
  {
   "cell_type": "code",
   "execution_count": null,
   "metadata": {},
   "outputs": [],
   "source": []
  },
  {
   "cell_type": "markdown",
   "metadata": {},
   "source": [
    "## 05.3 - Setor do Funcionário na empresa\n",
    "\n",
    "A partir da posicao dos funcionários, é possível descobrir (ou inferir) o setor que eles trabalham."
   ]
  },
  {
   "cell_type": "code",
   "execution_count": null,
   "metadata": {},
   "outputs": [],
   "source": []
  },
  {
   "cell_type": "markdown",
   "metadata": {},
   "source": [
    "## 05.4 Salvando Base Tratada\n",
    "\n",
    "A base tratada será gravada no arquivo **experiencia_trabalho-tratado.csv**.\n",
    "\n",
    "As informações consolidadas por perfil serão gravadas na base **perfil-experiencia,csv** contendo as colunas: **perfil_id**, **posicao_atual**, **data_admissao**, **departamento**, **tempo_empresa_meses**, **tempo_mercado_meses**, **qtd_empregos**."
   ]
  },
  {
   "cell_type": "code",
   "execution_count": null,
   "metadata": {},
   "outputs": [],
   "source": [
    "# Grava um csv tratado"
   ]
  },
  {
   "cell_type": "markdown",
   "metadata": {},
   "source": [
    "### Navegação:\n",
    "* [Voltar para a análise](00-analise-dos-dados.ipynb)"
   ]
  }
 ],
 "metadata": {
  "kernelspec": {
   "display_name": "Python 3",
   "language": "python",
   "name": "python3"
  },
  "language_info": {
   "codemirror_mode": {
    "name": "ipython",
    "version": 3
   },
   "file_extension": ".py",
   "mimetype": "text/x-python",
   "name": "python",
   "nbconvert_exporter": "python",
   "pygments_lexer": "ipython3",
   "version": "3.5.2"
  }
 },
 "nbformat": 4,
 "nbformat_minor": 2
}
