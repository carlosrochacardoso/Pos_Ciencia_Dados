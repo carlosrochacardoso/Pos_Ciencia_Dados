{
 "cells": [
  {
   "cell_type": "markdown",
   "metadata": {},
   "source": [
    "# Trabalho Final\n",
    "\n",
    "**Aluno**:\n",
    "\n",
    "**Matrícula**:\n",
    "\n",
    "\n",
    "## 03 - Tratamento da base *formacao.csv*\n",
    "\n",
    "Descreve a base aqui com suas palavras."
   ]
  },
  {
   "cell_type": "code",
   "execution_count": null,
   "metadata": {},
   "outputs": [],
   "source": [
    "import numpy as np\n",
    "import pandas as pd\n",
    "\n",
    "pd.set_option('display.max_columns', None)\n",
    "pd.set_option('display.max_rows', None)\n",
    "\n",
    "formacao = pd.read_csv(\"bases/formacao.csv\")\n",
    "\n",
    "# Análise inicial da qualidade dessa base\n",
    "print(\"Quantidade de registros: \", len(formacao))\n",
    "print(\"Quantidade de valores distintos de perfil_id: \", formacao.perfil_id.nunique())\n",
    "print(\"Dados faltantes em degree: \", len(formacao.loc[formacao.degree.isnull()]))\n",
    "print(\"Dados faltantes em date: \", len(formacao.loc[formacao.date.isnull()]))\n",
    "print(\"Dados faltantes em major: \", len(formacao.loc[formacao.major.isnull()]))\n",
    "print(\"Dados faltantes em school: \", len(formacao.loc[formacao.school.isnull()]))\n",
    "print(\"Dados faltantes em degree + major: \", len(formacao.loc[(formacao.degree.isnull()) & (formacao.major.isnull())]))\n",
    "print(\"Dados faltantes em degree + major + school: \", len(formacao.loc[(formacao.degree.isnull()) & (formacao.major.isnull()) & (formacao.school.isnull())]))\n",
    "print(\"Valores distintos em degree: \", len(formacao.groupby('degree').nunique()))\n",
    "print(\"Valores distintos em major: \", len(formacao.groupby('major').nunique()))\n",
    "print(\"Valores distintos em school: \", len(formacao.groupby('school').nunique()))"
   ]
  },
  {
   "cell_type": "code",
   "execution_count": null,
   "metadata": {},
   "outputs": [],
   "source": [
    "formacao.head(5)"
   ]
  },
  {
   "cell_type": "markdown",
   "metadata": {},
   "source": [
    "## 03.1 - Tratamento das data\n",
    "\n",
    "Um primeiro tratamento feito será o de data. A coluna **date** que indica o íncio e o fim do curso e será quebrada em duas colunas numéricas (**inicio** e **fim**), e ainda numa terceira coluna indicando a duração estimada do curso em anos baseado na informação obtida (**duracao**)."
   ]
  },
  {
   "cell_type": "code",
   "execution_count": null,
   "metadata": {},
   "outputs": [],
   "source": []
  },
  {
   "cell_type": "markdown",
   "metadata": {},
   "source": [
    "## 03.2 - Tratamento da coluna de grau de escolaridade\n",
    "\n",
    "Uma vez que a coluna **degree** não é muito precisa, uma coluna **grau** será criada. Ela começará vazia e será armazenado a inferência do grau de formação baseado na análise das demais colunas.\n",
    "\n",
    "Uma primeira estratégia será avaliar o nome do **degree** para inferir se ele contém algum fragmento que possa indicar algum dos seguintes graus de escolaridade, representados por números: **Ensino Médio**=1, **Técnico**=2, **Superior**=3 ou **Pós-Graduação**=4.\n",
    "\n",
    "Para isso, utilize a função [`contains`](https://pandas.pydata.org/pandas-docs/stable/generated/pandas.Series.str.contains.html)."
   ]
  },
  {
   "cell_type": "code",
   "execution_count": null,
   "metadata": {},
   "outputs": [],
   "source": []
  },
  {
   "cell_type": "markdown",
   "metadata": {},
   "source": [
    "Para os demais casos do grau de escolaridade não cobertos pela análise do texto, deverá ser feita uma análise mais profunda. Tente encontrar outros padrões para definir o grau de escolaridade, por exemplo, o nome da instituição de ensino (campo **school**) ou, então, o tempo de duração."
   ]
  },
  {
   "cell_type": "code",
   "execution_count": null,
   "metadata": {
    "scrolled": false
   },
   "outputs": [],
   "source": []
  },
  {
   "cell_type": "markdown",
   "metadata": {},
   "source": [
    "## 03.3 - Tratamento da coluna de grau de escolaridade\n",
    "\n",
    "A coluna **school** apresenta uma vasta de gama de categorias. Porém numa análise visual dos seus diferentes valores é possível ver que algumas instituições de ensino apresentam variações de nome. Foi feita uma substituição para agrupar esses casos num único nome. O resultao do tratamento é armazenado na nova coluna **instituicao**."
   ]
  },
  {
   "cell_type": "code",
   "execution_count": null,
   "metadata": {},
   "outputs": [],
   "source": []
  },
  {
   "cell_type": "markdown",
   "metadata": {},
   "source": [
    "## 03.4 - Área de Formação\n",
    "\n",
    "Agrupe as formações em grupos mais macros, por exemplo: Engenharia de Alimento, Engharia Elétrica estariam no grupo de engenharias, já Ciência da Computação, Sistemas de Informação poderiam estar no grupo de T.I. Crie áreas que façam sentido, agrupe os dados criando uma nova coluna no dataframe chamada area."
   ]
  },
  {
   "cell_type": "code",
   "execution_count": null,
   "metadata": {},
   "outputs": [],
   "source": []
  },
  {
   "cell_type": "markdown",
   "metadata": {},
   "source": [
    "## 03.5 - Escolaridade\n",
    "\n",
    "Uma informação consolidada de cada funcionário que pode ser derivada dessa base é a sua escolaridade (**escolaridade**), que é pode ser obtida pegando o maio grau daquele perfil. Gere uma base à parte contendo essa informação."
   ]
  },
  {
   "cell_type": "code",
   "execution_count": null,
   "metadata": {},
   "outputs": [],
   "source": []
  },
  {
   "cell_type": "markdown",
   "metadata": {},
   "source": [
    "## 03.6 Salvando Base Tratada\n",
    "\n",
    "A base tratada será gravada no arquivo **formacao-tratado.csv**.\n",
    "\n",
    "A base consolidadada com uma informação por registro será gravada no arquivo **perfil-formacao.csv** contendo as colunas: **perfil_id**, **escolaridade**, **escolaridade_numero**, **area**, **duracao**."
   ]
  },
  {
   "cell_type": "code",
   "execution_count": null,
   "metadata": {},
   "outputs": [],
   "source": [
    "# Grava a formação tratada em arquivo\n",
    "formacao_tratado.to_csv('bases/formacao-tratado.csv')\n",
    "\n",
    "# Grava o consolidade da formação por perfil em arquivo\n",
    "formacao_perfil = pd.concat([escolaridade, area], axis=1)\n",
    "formacao_perfil.to_csv('bases/perfil-formacao.csv')"
   ]
  },
  {
   "cell_type": "markdown",
   "metadata": {},
   "source": [
    "### Navegação:\n",
    "* [Voltar para a análise](00-analise-dos-dados.ipynb)\n",
    "* [Continuar para o próximo documento](04-tratamento-base-habilidades.ipynb)"
   ]
  }
 ],
 "metadata": {
  "kernelspec": {
   "display_name": "Python 3",
   "language": "python",
   "name": "python3"
  },
  "language_info": {
   "codemirror_mode": {
    "name": "ipython",
    "version": 3
   },
   "file_extension": ".py",
   "mimetype": "text/x-python",
   "name": "python",
   "nbconvert_exporter": "python",
   "pygments_lexer": "ipython3",
   "version": "3.5.2"
  }
 },
 "nbformat": 4,
 "nbformat_minor": 2
}
