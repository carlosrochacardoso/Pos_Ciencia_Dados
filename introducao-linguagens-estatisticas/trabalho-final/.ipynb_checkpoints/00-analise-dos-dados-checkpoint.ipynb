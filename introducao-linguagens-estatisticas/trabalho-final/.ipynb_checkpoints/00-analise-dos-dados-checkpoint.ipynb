{
 "cells": [
  {
   "cell_type": "markdown",
   "metadata": {},
   "source": [
    "# Trabalho Final\n",
    "\n",
    "**Aluno**: Carlos Alberto Rocha Cardoso\n",
    "\n",
    "**Matrícula**: 90079\n",
    "\n",
    "## 1. Introdução\n",
    "\n",
    "Nesse arquivo você fará a análise dos dados já tratados por você. Substitua o text por sua introdução."
   ]
  },
  {
   "cell_type": "markdown",
   "metadata": {},
   "source": [
    "## 2. Implementação\n",
    "\n",
    "Os dados encontram-se espalhados nas bases **perfil.csv**, **linguas.csv**, **formacao.csv**, **habilidades.csv** e **experiencia_profissional.csv**. A primeira etapa do trabalho é explorar esses dados para entendê-lo. Faça o tratamento dos dados para eliminar ruídos textuais, remover registros sem significado e tratar valore nulos.\n",
    "\n",
    "Essa exploração inicial e o tratamento das bases devem ser contemplados em relatórios separados conforme listado a seguir:\n",
    "\n",
    "* [Tratamento da base **perfil.csv**](01-tratamento-base-perfil.ipynb)\n",
    "* [Tratamento da base **linguas.csv**](02-tratamento-base-linguas.ipynb)\n",
    "* [Tratamento da base **formacao.csv**](03-tratamento-base-formacao.ipynb)\n",
    "* [Tratamento da base **habilidades.csv**](04-tratamento-base-habilidades.ipynb)\n",
    "* [Tratamento da base **experiencia.csv**](05-tratamento-base-experiencia.ipynb)\n",
    "\n",
    "A saída dessa etapa deve gerar um novo arquivo tratado de cada base.\n",
    "\n",
    "Note que para fazer análise, talvez seja interessante a junção das bases tratada. Essa junção pode ser feita no próprio arquivo da análise de dados de acordo com sua necessecidade."
   ]
  },
  {
   "cell_type": "code",
   "execution_count": 5,
   "metadata": {},
   "outputs": [],
   "source": [
    "# imports das bibliotecas\n",
    "import numpy as np\n",
    "import pandas as pd\n",
    "\n",
    "from plotnine import *\n",
    "\n",
    "\n",
    "pd.set_option('display.max_columns', None)\n",
    "pd.set_option('display.max_rows', None)\n",
    "\n",
    "# leitura das bases\n",
    "perfil = pd.read_csv(\"bases/perfil-tratado.csv\", index_col=\"perfil_id\")\n",
    "# perfil_linguas = pd.read_csv(\"bases/perfil-linguas.csv\", index_col=\"perfil_id\") \n",
    "#perfil_formacao = pd.read_csv(\"bases/perfil-formacao.csv\", index_col=\"perfil_id\")\n",
    "#perfil_habilidades = pd.read_csv(\"bases/perfil-habilidades.csv\", index_col=\"perfil_id\")\n",
    "#perfil_experiencia = pd.read_csv(\"bases/perfil-experiencia.csv\", index_col=\"perfil_id\")"
   ]
  },
  {
   "cell_type": "markdown",
   "metadata": {},
   "source": [
    "## 3. Resultados\n",
    "\n",
    "## 3.1 Distribuição de gênero na empresa\n",
    "\n",
    "Analise as frequências dos gêneros. Você pode utilizar o [gráfico de barras](https://plotnine.readthedocs.io/en/stable/generated/plotnine.geoms.geom_col.html#two-variable-bar-plot) para fazer essa visualizaação. Sempre escreva as conclusões e insights obtidos a partir das análises."
   ]
  },
  {
   "cell_type": "code",
   "execution_count": 143,
   "metadata": {},
   "outputs": [
    {
     "ename": "SyntaxError",
     "evalue": "invalid syntax (<ipython-input-143-62ca99f9ca1a>, line 8)",
     "output_type": "error",
     "traceback": [
      "\u001b[1;36m  File \u001b[1;32m\"<ipython-input-143-62ca99f9ca1a>\"\u001b[1;36m, line \u001b[1;32m8\u001b[0m\n\u001b[1;33m    + (stat='identity', position='dodge')\u001b[0m\n\u001b[1;37m           ^\u001b[0m\n\u001b[1;31mSyntaxError\u001b[0m\u001b[1;31m:\u001b[0m invalid syntax\n"
     ]
    }
   ],
   "source": [
    "#df = perfil.groupby('genero').size().to_frame('qtd')\n",
    "\n",
    "#df\n",
    "\n",
    "df = perfil.groupby(['genero']).size().reset_index(name='qtd')\n",
    "\n",
    "(ggplot(df, aes(x='genero', y='qtd', fill='genero'))\n",
    " + geom_bar(stat='identity', position='dodge')\n",
    ")\n",
    "\n",
    "#df = df.rename(index=object, columns={\"genero\":\"qtd\"})\n",
    "\n",
    "\n",
    "\n",
    "#qtd_perfil = qtd_perfil.rename(columns={qtd_perfil[]\"genero\":\"qtd_perfil\"})\n",
    "\n",
    "#qtd_genero.rename(columns={ qtd_genero.columns[0]: \"qtd_genero\" })\n",
    "\n",
    "#qtd_genero\n",
    "\n"
   ]
  },
  {
   "cell_type": "markdown",
   "metadata": {},
   "source": [
    "## 3.2 Distribuição de gênero por departamento\n",
    "\n",
    "Analise a distribuição de gênero por departamento. Mostre visualmente qual a proporção entre os gênero por departamento na empresa.\n",
    "\n",
    "Você pode utilizar o [gráfico de barras](https://plotnine.readthedocs.io/en/stable/generated/plotnine.geoms.geom_col.html#two-variable-bar-plot) para fazer essa visualizaação. Sempre escreva as conclusões e insights obtidos a partir das análises."
   ]
  },
  {
   "cell_type": "code",
   "execution_count": null,
   "metadata": {},
   "outputs": [],
   "source": []
  },
  {
   "cell_type": "markdown",
   "metadata": {},
   "source": [
    "## 3.3 Multidisciplinaridade do corpo funcional\n",
    "\n",
    "Analise a distribuição da formação dos funcionários da empresa."
   ]
  },
  {
   "cell_type": "code",
   "execution_count": null,
   "metadata": {},
   "outputs": [],
   "source": []
  },
  {
   "cell_type": "markdown",
   "metadata": {},
   "source": [
    "## 3.4 Diferenças na formação acadêmica por gênero\n",
    "\n",
    "Analise a diferenças na formação acadêmica por gênero."
   ]
  },
  {
   "cell_type": "code",
   "execution_count": null,
   "metadata": {},
   "outputs": [],
   "source": []
  },
  {
   "cell_type": "markdown",
   "metadata": {},
   "source": [
    "## 3.5 Multidisciplinaridade nos departamentos\n",
    "\n",
    "Mostre o perfil acadêmico nos diferentes setores/departamentos da empresa."
   ]
  },
  {
   "cell_type": "code",
   "execution_count": null,
   "metadata": {},
   "outputs": [],
   "source": []
  },
  {
   "cell_type": "markdown",
   "metadata": {},
   "source": [
    "## 3.6 Escolaridade na empresa e nos departamentos\n"
   ]
  },
  {
   "cell_type": "code",
   "execution_count": null,
   "metadata": {},
   "outputs": [],
   "source": []
  },
  {
   "cell_type": "markdown",
   "metadata": {},
   "source": [
    "## 3.7 Idiomas e Multinacionalidade\n",
    "\n",
    "Mostre a distribuição de línguas dominadas pelos funcionários.\n"
   ]
  },
  {
   "cell_type": "code",
   "execution_count": null,
   "metadata": {},
   "outputs": [],
   "source": []
  },
  {
   "cell_type": "markdown",
   "metadata": {},
   "source": [
    "Verifique como essa distribuição muda entre os generos, setores e tipo de cargos da empresa."
   ]
  },
  {
   "cell_type": "code",
   "execution_count": null,
   "metadata": {},
   "outputs": [],
   "source": []
  },
  {
   "cell_type": "markdown",
   "metadata": {},
   "source": [
    "## 3.8 Expertise dos funcionários\n",
    "\n",
    "Análises referentes as tempo de experiência e skills dos funcionários."
   ]
  },
  {
   "cell_type": "code",
   "execution_count": null,
   "metadata": {},
   "outputs": [],
   "source": []
  },
  {
   "cell_type": "markdown",
   "metadata": {},
   "source": [
    "## 3.10 Análises Adssionais\n",
    "\n",
    "Faça análises que julgar necessário para refutar ou corraborar a hipotése de Aquiles."
   ]
  },
  {
   "cell_type": "code",
   "execution_count": null,
   "metadata": {
    "scrolled": true
   },
   "outputs": [],
   "source": []
  },
  {
   "cell_type": "markdown",
   "metadata": {},
   "source": [
    "## 4. Conclusão\n",
    "\n"
   ]
  },
  {
   "cell_type": "markdown",
   "metadata": {},
   "source": [
    "## Referências"
   ]
  },
  {
   "cell_type": "code",
   "execution_count": null,
   "metadata": {},
   "outputs": [],
   "source": []
  }
 ],
 "metadata": {
  "kernelspec": {
   "display_name": "Python 3",
   "language": "python",
   "name": "python3"
  },
  "language_info": {
   "codemirror_mode": {
    "name": "ipython",
    "version": 3
   },
   "file_extension": ".py",
   "mimetype": "text/x-python",
   "name": "python",
   "nbconvert_exporter": "python",
   "pygments_lexer": "ipython3",
   "version": "3.7.0"
  }
 },
 "nbformat": 4,
 "nbformat_minor": 2
}
