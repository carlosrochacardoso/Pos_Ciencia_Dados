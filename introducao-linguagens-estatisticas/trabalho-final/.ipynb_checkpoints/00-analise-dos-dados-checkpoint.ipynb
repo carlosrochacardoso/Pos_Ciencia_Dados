{
 "cells": [
  {
   "cell_type": "markdown",
   "metadata": {},
   "source": [
    "# Trabalho Final\n",
    "\n",
    "**Aluno**: Carlos Alberto Rocha Cardoso\n",
    "\n",
    "**Matrícula**: 90079\n",
    "\n",
    "## 1. Introdução\n",
    "\n",
    "Nesse arquivo você fará a análise dos dados já tratados por você. Substitua o text por sua introdução."
   ]
  },
  {
   "cell_type": "markdown",
   "metadata": {},
   "source": [
    "## 2. Implementação\n",
    "\n",
    "Os dados encontram-se espalhados nas bases **perfil.csv**, **linguas.csv**, **formacao.csv**, **habilidades.csv** e **experiencia_profissional.csv**. A primeira etapa do trabalho é explorar esses dados para entendê-lo. Faça o tratamento dos dados para eliminar ruídos textuais, remover registros sem significado e tratar valore nulos.\n",
    "\n",
    "Essa exploração inicial e o tratamento das bases devem ser contemplados em relatórios separados conforme listado a seguir:\n",
    "\n",
    "* [Tratamento da base **perfil.csv**](01-tratamento-base-perfil.ipynb)\n",
    "* [Tratamento da base **linguas.csv**](02-tratamento-base-linguas.ipynb)\n",
    "* [Tratamento da base **formacao.csv**](03-tratamento-base-formacao.ipynb)\n",
    "* [Tratamento da base **habilidades.csv**](04-tratamento-base-habilidades.ipynb)\n",
    "* [Tratamento da base **experiencia.csv**](05-tratamento-base-experiencia.ipynb)\n",
    "\n",
    "A saída dessa etapa deve gerar um novo arquivo tratado de cada base.\n",
    "\n",
    "Note que para fazer análise, talvez seja interessante a junção das bases tratada. Essa junção pode ser feita no próprio arquivo da análise de dados de acordo com sua necessecidade."
   ]
  },
  {
   "cell_type": "code",
   "execution_count": 349,
   "metadata": {},
   "outputs": [],
   "source": [
    "# imports das bibliotecas\n",
    "import numpy as np\n",
    "import pandas as pd\n",
    "from pandas.api.types import CategoricalDtype\n",
    "from plotnine import *\n",
    "\n",
    "\n",
    "pd.set_option('display.max_columns', None)\n",
    "pd.set_option('display.max_rows', None)\n",
    "\n",
    "# leitura das bases\n",
    "perfil = pd.read_csv(\"bases/perfil-tratado.csv\", index_col=\"perfil_id\")\n",
    "perfil_linguas = pd.read_csv(\"bases/perfil-linguas.csv\", index_col=\"perfil_id\") \n",
    "perfil_formacao = pd.read_csv(\"bases/perfil-formacao.csv\", index_col=\"perfil_id\")\n",
    "#perfil_habilidades = pd.read_csv(\"bases/perfil-habilidades.csv\", index_col=\"perfil_id\")\n",
    "#perfil_experiencia = pd.read_csv(\"bases/perfil-experiencia.csv\", index_col=\"perfil_id\")"
   ]
  },
  {
   "cell_type": "markdown",
   "metadata": {},
   "source": [
    "## 3. Resultados\n",
    "\n",
    "## 3.1 Distribuição de gênero na empresa\n",
    "\n",
    "Analise as frequências dos gêneros. Você pode utilizar o [gráfico de barras](https://plotnine.readthedocs.io/en/stable/generated/plotnine.geoms.geom_col.html#two-variable-bar-plot) para fazer essa visualizaação. Sempre escreva as conclusões e insights obtidos a partir das análises."
   ]
  },
  {
   "cell_type": "code",
   "execution_count": 264,
   "metadata": {
    "scrolled": true
   },
   "outputs": [
    {
     "data": {
      "image/png": "[encoded data removed]",
      "text/plain": [
       "<Figure size 640x480 with 1 Axes>"
      ]
     },
     "metadata": {},
     "output_type": "display_data"
    },
    {
     "data": {
      "text/plain": [
       "<ggplot: (-9223371910584415628)>"
      ]
     },
     "execution_count": 264,
     "metadata": {},
     "output_type": "execute_result"
    }
   ],
   "source": [
    "qtd_genero = perfil.groupby(\"genero\").genero.count().to_frame()\n",
    "qtd_genero = qtd_genero.rename(index=str, columns={\"genero\":\"qtd\"})\n",
    "qtd_genero = qtd_genero.sort_values(by='qtd', ascending=False)\n",
    "qtd_genero = qtd_genero.reset_index()\n",
    "\n",
    "\n",
    "g_qtd_genero = qtd_genero\n",
    "g_qtd_genero['genero'] = pd.Categorical(g_qtd_genero['genero'], categories=qtd_genero.genero, ordered=True)\n",
    "\n",
    "dodge_text = position_dodge(width=0.9)\n",
    "\n",
    "(ggplot(g_qtd_genero, aes(x='genero', y='qtd', fill='genero'))\n",
    " + geom_bar(stat='identity', position='dodge', show_legend=False)    \n",
    " + geom_text(aes(label='qtd'),\n",
    "             position=dodge_text,\n",
    "             size=12, va='bottom', format_string='{}')\n",
    " + theme(panel_background=element_rect(fill='white'),               # new\n",
    "         axis_title_y=element_blank(),\n",
    "         axis_title_x=element_blank(),\n",
    "         axis_line_x=element_line(color='black'),\n",
    "         axis_line_y=element_blank(),\n",
    "         axis_text_y=element_blank(),\n",
    "         axis_text_x=element_text(color=ccolor),\n",
    "         axis_ticks_major_y=element_blank(),\n",
    "         panel_grid=element_blank(),\n",
    "         panel_border=element_blank())\n",
    ")\n",
    "\n",
    "#genero_list"
   ]
  },
  {
   "cell_type": "markdown",
   "metadata": {},
   "source": [
    "A partir do gráfico acima podemos observar que o quadro de funcionários da empresa Trojan é constituído em sua **maioria** por empregados do gênero **masculino**. São **65** do gênero masculino, **39** femininos e **7** não informados. "
   ]
  },
  {
   "cell_type": "code",
   "execution_count": 265,
   "metadata": {},
   "outputs": [
    {
     "data": {
      "image/png": "[encoded data removed]",
      "text/plain": [
       "<Figure size 640x480 with 1 Axes>"
      ]
     },
     "metadata": {},
     "output_type": "display_data"
    },
    {
     "data": {
      "text/plain": [
       "<ggplot: (126270006718)>"
      ]
     },
     "execution_count": 265,
     "metadata": {},
     "output_type": "execute_result"
    }
   ],
   "source": [
    "g_perc_genero = qtd_genero.copy()\n",
    "g_perc_genero = g_perc_genero[~(g_perc_genero.genero == 'Não informado')]\n",
    "g_perc_genero['perc'] = g_perc_genero['qtd']/g_perc_genero['qtd'].sum()*100\n",
    "\n",
    "g_perc_genero = g_perc_genero.round({'perc': 2})\n",
    "\n",
    "\n",
    "dodge_text = position_dodge(width=0.9)\n",
    "\n",
    "(ggplot(g_perc_genero, aes(x='genero', y='perc', fill='genero'))\n",
    " + geom_bar(stat='identity', position='dodge', show_legend=False)    \n",
    " + geom_text(aes(label='perc'),\n",
    "             position=dodge_text,\n",
    "             size=12, va='bottom', format_string='{}%')\n",
    " + theme(panel_background=element_rect(fill='white'),               # new\n",
    "         axis_title_y=element_blank(),\n",
    "         axis_title_x=element_blank(),\n",
    "         axis_line_x=element_line(color='black'),\n",
    "         axis_line_y=element_blank(),\n",
    "         axis_text_y=element_blank(),\n",
    "         axis_text_x=element_text(color=ccolor),\n",
    "         axis_ticks_major_y=element_blank(),\n",
    "         panel_grid=element_blank(),\n",
    "         panel_border=element_blank())\n",
    ")\n"
   ]
  },
  {
   "cell_type": "markdown",
   "metadata": {},
   "source": [
    "Comparando **percentualmente** apenas os gêneros **informados**, temos **62,5%** de funcionários do gênero masculino e **37,5** do gênero feminino. Podemos dizer que a cada **10 empregados**, aproxamadamente **6 são do gênero masculino** "
   ]
  },
  {
   "cell_type": "markdown",
   "metadata": {},
   "source": [
    "## 3.2 Distribuição de gênero por departamento\n",
    "\n",
    "Analise a distribuição de gênero por departamento. Mostre visualmente qual a proporção entre os gênero por departamento na empresa.\n",
    "\n",
    "Você pode utilizar o [gráfico de barras](https://plotnine.readthedocs.io/en/stable/generated/plotnine.geoms.geom_col.html#two-variable-bar-plot) para fazer essa visualizaação. Sempre escreva as conclusões e insights obtidos a partir das análises."
   ]
  },
  {
   "cell_type": "code",
   "execution_count": null,
   "metadata": {},
   "outputs": [],
   "source": []
  },
  {
   "cell_type": "markdown",
   "metadata": {},
   "source": [
    "## 3.3 Multidisciplinaridade do corpo funcional\n",
    "\n",
    "Analise a distribuição da formação dos funcionários da empresa."
   ]
  },
  {
   "cell_type": "code",
   "execution_count": 325,
   "metadata": {},
   "outputs": [
    {
     "data": {
      "image/png": "[encoded data removed]",
      "text/plain": [
       "<Figure size 640x480 with 1 Axes>"
      ]
     },
     "metadata": {},
     "output_type": "display_data"
    },
    {
     "data": {
      "text/plain": [
       "<ggplot: (126270522039)>"
      ]
     },
     "execution_count": 325,
     "metadata": {},
     "output_type": "execute_result"
    }
   ],
   "source": [
    "df = perfil_formacao.groupby(['escolaridade','area']).escolaridade.count().to_frame()\n",
    "df = df.rename(index=str, columns={\"escolaridade\":\"qtd\"})\n",
    "df = df.reset_index()\n",
    "df['pos'] = 0\n",
    "df.loc[(df.escolaridade == 'Ensino Médio'), 'pos'] = 1\n",
    "df.loc[(df.escolaridade == 'Superior'), 'pos'] = 2\n",
    "df.loc[(df.escolaridade == 'Pós Graduação'), 'pos'] = 3\n",
    "df = df.sort_values(by=['pos','qtd'], ascending=True)\n",
    "\n",
    "df['escolaridade'] = pd.Categorical(df['escolaridade'], categories=df.escolaridade.unique().tolist())\n",
    "#df['area'] = pd.Categorical(df['area'], categories=df.area.tolist())\n",
    "\n",
    "#(ggplot(df, aes(x='escolaridade', y='qtd', fill='area'))\n",
    "# + geom_bar(stat='identity', position='dodge'))  \n",
    "\n",
    "\n",
    "v\n"
   ]
  },
  {
   "cell_type": "markdown",
   "metadata": {},
   "source": [
    "## 3.4 Diferenças na formação acadêmica por gênero\n",
    "\n",
    "Analise a diferenças na formação acadêmica por gênero."
   ]
  },
  {
   "cell_type": "code",
   "execution_count": 343,
   "metadata": {
    "scrolled": true
   },
   "outputs": [
    {
     "data": {
      "image/png": "[encoded data removed]",
      "text/plain": [
       "<Figure size 640x480 with 1 Axes>"
      ]
     },
     "metadata": {},
     "output_type": "display_data"
    },
    {
     "data": {
      "text/plain": [
       "<ggplot: (-9223371910584230193)>"
      ]
     },
     "execution_count": 343,
     "metadata": {},
     "output_type": "execute_result"
    }
   ],
   "source": [
    "jGeneroForm = perfil.join(perfil_formacao)\n",
    "gen_form = jGeneroForm.groupby(['genero','escolaridade']).escolaridade.count().to_frame()\n",
    "gen_form = gen_form.rename(index=str, columns={\"escolaridade\":\"qtd\"})\n",
    "gen_form = gen_form.reset_index()\n",
    "\n",
    "(ggplot(gen_form, aes(x='genero', y='qtd', fill='escolaridade'))\n",
    " + geom_col()\n",
    ")\n"
   ]
  },
  {
   "cell_type": "code",
   "execution_count": 344,
   "metadata": {},
   "outputs": [
    {
     "data": {
      "image/png": "[encoded data removed]",
      "text/plain": [
       "<Figure size 640x480 with 1 Axes>"
      ]
     },
     "metadata": {},
     "output_type": "display_data"
    },
    {
     "data": {
      "text/plain": [
       "<ggplot: (-9223371910584721415)>"
      ]
     },
     "execution_count": 344,
     "metadata": {},
     "output_type": "execute_result"
    }
   ],
   "source": [
    "gen_area = jGeneroForm.groupby(['genero','area']).area.count().to_frame()\n",
    "gen_area = gen_area.rename(index=str, columns={\"area\":\"qtd\"})\n",
    "gen_area = gen_area.reset_index()\n",
    "\n",
    "(ggplot(gen_area, aes(x='genero', y='qtd', fill='area'))\n",
    " + geom_col()\n",
    ")"
   ]
  },
  {
   "cell_type": "markdown",
   "metadata": {},
   "source": [
    "## 3.5 Multidisciplinaridade nos departamentos\n",
    "\n",
    "Mostre o perfil acadêmico nos diferentes setores/departamentos da empresa."
   ]
  },
  {
   "cell_type": "code",
   "execution_count": null,
   "metadata": {},
   "outputs": [],
   "source": []
  },
  {
   "cell_type": "markdown",
   "metadata": {},
   "source": [
    "## 3.6 Escolaridade na empresa e nos departamentos\n"
   ]
  },
  {
   "cell_type": "code",
   "execution_count": null,
   "metadata": {},
   "outputs": [],
   "source": []
  },
  {
   "cell_type": "markdown",
   "metadata": {},
   "source": [
    "## 3.7 Idiomas e Multinacionalidade\n",
    "\n",
    "Mostre a distribuição de línguas dominadas pelos funcionários.\n"
   ]
  },
  {
   "cell_type": "code",
   "execution_count": 363,
   "metadata": {},
   "outputs": [
    {
     "data": {
      "image/png": "[encoded data removed]",
      "text/plain": [
       "<Figure size 640x480 with 1 Axes>"
      ]
     },
     "metadata": {},
     "output_type": "display_data"
    },
    {
     "data": {
      "text/plain": [
       "<ggplot: (126270657768)>"
      ]
     },
     "execution_count": 363,
     "metadata": {},
     "output_type": "execute_result"
    }
   ],
   "source": [
    "qtd_port = perfil_linguas.fala_portugues.loc[(perfil_linguas.fala_portugues == True)].count()\n",
    "qtd_ing = perfil_linguas.fala_ingles.loc[(perfil_linguas.fala_ingles == True)].count()\n",
    "qtd_esp = perfil_linguas.fala_espanhol.loc[(perfil_linguas.fala_espanhol == True)].count()\n",
    "\n",
    "qtd_idiomas = pd.DataFrame({\n",
    "    'idiomas': ['português', 'inglês', 'espanhol'],\n",
    "    'qtd':[qtd_port, qtd_ing, qtd_esp]\n",
    "})\n",
    "\n",
    "\n",
    "(ggplot(qtd_idiomas, aes(x='idiomas', y='qtd', fill='idiomas'))\n",
    " + geom_bar(stat='identity', position='dodge')) \n"
   ]
  },
  {
   "cell_type": "code",
   "execution_count": 420,
   "metadata": {},
   "outputs": [
    {
     "data": {
      "text/html": [
       "<div>\n",
       "<style scoped>\n",
       "    .dataframe tbody tr th:only-of-type {\n",
       "        vertical-align: middle;\n",
       "    }\n",
       "\n",
       "    .dataframe tbody tr th {\n",
       "        vertical-align: top;\n",
       "    }\n",
       "\n",
       "    .dataframe thead th {\n",
       "        text-align: right;\n",
       "    }\n",
       "</style>\n",
       "<table border=\"1\" class=\"dataframe\">\n",
       "  <thead>\n",
       "    <tr style=\"text-align: right;\">\n",
       "      <th></th>\n",
       "      <th>qtd_linguas</th>\n",
       "      <th>qtd</th>\n",
       "    </tr>\n",
       "  </thead>\n",
       "  <tbody>\n",
       "    <tr>\n",
       "      <th>0</th>\n",
       "      <td>1</td>\n",
       "      <td>21</td>\n",
       "    </tr>\n",
       "    <tr>\n",
       "      <th>1</th>\n",
       "      <td>2</td>\n",
       "      <td>29</td>\n",
       "    </tr>\n",
       "    <tr>\n",
       "      <th>2</th>\n",
       "      <td>3</td>\n",
       "      <td>30</td>\n",
       "    </tr>\n",
       "    <tr>\n",
       "      <th>3</th>\n",
       "      <td>4</td>\n",
       "      <td>8</td>\n",
       "    </tr>\n",
       "    <tr>\n",
       "      <th>4</th>\n",
       "      <td>5</td>\n",
       "      <td>2</td>\n",
       "    </tr>\n",
       "  </tbody>\n",
       "</table>\n",
       "</div>"
      ],
      "text/plain": [
       "  qtd_linguas  qtd\n",
       "0           1   21\n",
       "1           2   29\n",
       "2           3   30\n",
       "3           4    8\n",
       "4           5    2"
      ]
     },
     "execution_count": 420,
     "metadata": {},
     "output_type": "execute_result"
    }
   ],
   "source": [
    "qtd_linguas = perfil_linguas.groupby('qtd_linguas').qtd_linguas.count().to_frame()\n",
    "qtd_linguas = qtd_linguas.rename(index=str, columns={\"qtd_linguas\":\"qtd\"})\n",
    "qtd_linguas = qtd_linguas.reset_index()\n",
    "\n",
    "#qtd_lin_port = perfil_linguas.groupby(['qtd_linguas','fala_portugues']).fala_portugues.count().to_frame()\n",
    "#qtd_lin_port\n",
    "#(ggplot(qtd_linguas, aes(x='qtd_linguas', y='qtd', fill='qtd_linguas'))\n",
    "# + geom_bar(stat='identity', position='dodge'))\n",
    "\n",
    "qtd_linguas"
   ]
  },
  {
   "cell_type": "code",
   "execution_count": 418,
   "metadata": {},
   "outputs": [
    {
     "data": {
      "text/html": [
       "<div>\n",
       "<style scoped>\n",
       "    .dataframe tbody tr th:only-of-type {\n",
       "        vertical-align: middle;\n",
       "    }\n",
       "\n",
       "    .dataframe tbody tr th {\n",
       "        vertical-align: top;\n",
       "    }\n",
       "\n",
       "    .dataframe thead th {\n",
       "        text-align: right;\n",
       "    }\n",
       "</style>\n",
       "<table border=\"1\" class=\"dataframe\">\n",
       "  <thead>\n",
       "    <tr style=\"text-align: right;\">\n",
       "      <th></th>\n",
       "      <th>qtd_linguas</th>\n",
       "      <th>qtd_port</th>\n",
       "      <th>qtd_ing</th>\n",
       "      <th>qtd_esp</th>\n",
       "    </tr>\n",
       "  </thead>\n",
       "  <tbody>\n",
       "    <tr>\n",
       "      <th>0</th>\n",
       "      <td>1</td>\n",
       "      <td>2</td>\n",
       "      <td>17</td>\n",
       "      <td>2</td>\n",
       "    </tr>\n",
       "    <tr>\n",
       "      <th>1</th>\n",
       "      <td>2</td>\n",
       "      <td>25</td>\n",
       "      <td>29</td>\n",
       "      <td>2</td>\n",
       "    </tr>\n",
       "    <tr>\n",
       "      <th>2</th>\n",
       "      <td>3</td>\n",
       "      <td>30</td>\n",
       "      <td>29</td>\n",
       "      <td>26</td>\n",
       "    </tr>\n",
       "    <tr>\n",
       "      <th>3</th>\n",
       "      <td>4</td>\n",
       "      <td>8</td>\n",
       "      <td>8</td>\n",
       "      <td>8</td>\n",
       "    </tr>\n",
       "    <tr>\n",
       "      <th>4</th>\n",
       "      <td>5</td>\n",
       "      <td>2</td>\n",
       "      <td>2</td>\n",
       "      <td>1</td>\n",
       "    </tr>\n",
       "  </tbody>\n",
       "</table>\n",
       "</div>"
      ],
      "text/plain": [
       "  qtd_linguas  qtd_port  qtd_ing  qtd_esp\n",
       "0           1         2       17        2\n",
       "1           2        25       29        2\n",
       "2           3        30       29       26\n",
       "3           4         8        8        8\n",
       "4           5         2        2        1"
      ]
     },
     "execution_count": 418,
     "metadata": {},
     "output_type": "execute_result"
    }
   ],
   "source": [
    "qtd_lin_port = perfil_linguas.groupby(['qtd_linguas','fala_portugues']).qtd_linguas.count().to_frame()\n",
    "qtd_lin_port = qtd_lin_port.rename(index=str, columns={\"qtd_linguas\":\"qtd_port\"})\n",
    "qtd_lin_port = qtd_lin_port.reset_index()\n",
    "qtd_lin_port = qtd_lin_port[~(qtd_lin_port.fala_portugues == 'False')]\n",
    "qtd_lin_port = qtd_lin_port[['qtd_linguas','qtd_port']]\n",
    "qtd_lin_port = qtd_lin_port.reset_index()\n",
    "\n",
    "qtd_lin_ing = perfil_linguas.groupby(['qtd_linguas','fala_ingles']).qtd_linguas.count().to_frame()\n",
    "qtd_lin_ing = qtd_lin_ing.rename(index=str, columns={\"qtd_linguas\":\"qtd_ing\"})\n",
    "qtd_lin_ing = qtd_lin_ing.reset_index()\n",
    "qtd_lin_ing = qtd_lin_ing[~(qtd_lin_ing.fala_ingles == 'False')]\n",
    "qtd_lin_ing = qtd_lin_ing['qtd_ing']\n",
    "qtd_lin_ing = qtd_lin_ing.reset_index()\n",
    "\n",
    "qtd_lin_esp = perfil_linguas.groupby(['qtd_linguas','fala_espanhol']).qtd_linguas.count().to_frame()\n",
    "qtd_lin_esp = qtd_lin_esp.rename(index=str, columns={\"qtd_linguas\":\"qtd_esp\"})\n",
    "qtd_lin_esp = qtd_lin_esp.reset_index()\n",
    "qtd_lin_esp = qtd_lin_esp[~(qtd_lin_esp.fala_espanhol == 'False')]\n",
    "qtd_lin_esp = qtd_lin_esp['qtd_esp']\n",
    "qtd_lin_esp = qtd_lin_esp.reset_index()\n",
    "\n",
    "qtd_lin = pd.concat([qtd_lin_port,qtd_lin_ing,qtd_lin_esp],axis=1)\n",
    "qtd_lin = qtd_lin[['qtd_linguas','qtd_port','qtd_ing','qtd_esp']]\n",
    "\n",
    "qtd_lin"
   ]
  },
  {
   "cell_type": "markdown",
   "metadata": {},
   "source": [
    "Verifique como essa distribuição muda entre os generos, setores e tipo de cargos da empresa."
   ]
  },
  {
   "cell_type": "code",
   "execution_count": null,
   "metadata": {},
   "outputs": [],
   "source": []
  },
  {
   "cell_type": "markdown",
   "metadata": {},
   "source": [
    "## 3.8 Expertise dos funcionários\n",
    "\n",
    "Análises referentes as tempo de experiência e skills dos funcionários."
   ]
  },
  {
   "cell_type": "code",
   "execution_count": null,
   "metadata": {},
   "outputs": [],
   "source": []
  },
  {
   "cell_type": "markdown",
   "metadata": {},
   "source": [
    "## 3.10 Análises Adssionais\n",
    "\n",
    "Faça análises que julgar necessário para refutar ou corraborar a hipotése de Aquiles."
   ]
  },
  {
   "cell_type": "code",
   "execution_count": null,
   "metadata": {
    "scrolled": true
   },
   "outputs": [],
   "source": []
  },
  {
   "cell_type": "markdown",
   "metadata": {},
   "source": [
    "## 4. Conclusão\n",
    "\n"
   ]
  },
  {
   "cell_type": "markdown",
   "metadata": {},
   "source": [
    "## Referências"
   ]
  },
  {
   "cell_type": "code",
   "execution_count": null,
   "metadata": {},
   "outputs": [],
   "source": []
  }
 ],
 "metadata": {
  "kernelspec": {
   "display_name": "Python 3",
   "language": "python",
   "name": "python3"
  },
  "language_info": {
   "codemirror_mode": {
    "name": "ipython",
    "version": 3
   },
   "file_extension": ".py",
   "mimetype": "text/x-python",
   "name": "python",
   "nbconvert_exporter": "python",
   "pygments_lexer": "ipython3",
   "version": "3.7.0"
  }
 },
 "nbformat": 4,
 "nbformat_minor": 2
}
