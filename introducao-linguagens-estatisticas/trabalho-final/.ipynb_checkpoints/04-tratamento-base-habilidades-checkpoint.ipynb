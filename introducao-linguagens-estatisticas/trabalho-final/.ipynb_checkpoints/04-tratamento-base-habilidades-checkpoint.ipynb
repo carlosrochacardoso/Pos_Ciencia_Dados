{
 "cells": [
  {
   "cell_type": "markdown",
   "metadata": {},
   "source": [
    "# Trabalho Final\n",
    "\n",
    "**Aluno**: Carlos Alberto Rocha Cardoso\n",
    "\n",
    "**Matrícula**: 96983\n",
    "\n",
    "\n",
    "## 04 - Tratamento da base *habilidades.csv*\n",
    "\n",
    "Essa base descreve as habilidades profissionais dos funcionários, representados pela coluna chave **perfil_id**, apresentando o nome da habilidade (coluna **name**) e o número de endossos que o funcionário recebeu de outras pessoas para aquela habilidade (coluna **endorsement_count**). Podem existir mais de um registro por **perfil_id**, no caso do funcionário possuir habilidades profissionais diversas.\n",
    "\n",
    "Dos 111 funcionários, 110 constam nessa base. São 764 nomes únicos de habilidades. "
   ]
  },
  {
   "cell_type": "code",
   "execution_count": 68,
   "metadata": {},
   "outputs": [
    {
     "name": "stdout",
     "output_type": "stream",
     "text": [
      "Nº de registros: 2594\n",
      "Nº de valores únicos de perfil_id: 100\n",
      "Nº de valores únicos de name: 764\n",
      "Valores faltantes em name: 417\n",
      "Valores faltantes em endorsement_count: 618\n"
     ]
    },
    {
     "data": {
      "text/html": [
       "<div>\n",
       "<style scoped>\n",
       "    .dataframe tbody tr th:only-of-type {\n",
       "        vertical-align: middle;\n",
       "    }\n",
       "\n",
       "    .dataframe tbody tr th {\n",
       "        vertical-align: top;\n",
       "    }\n",
       "\n",
       "    .dataframe thead th {\n",
       "        text-align: right;\n",
       "    }\n",
       "</style>\n",
       "<table border=\"1\" class=\"dataframe\">\n",
       "  <thead>\n",
       "    <tr style=\"text-align: right;\">\n",
       "      <th></th>\n",
       "      <th>endorsement_count</th>\n",
       "      <th>name</th>\n",
       "      <th>perfil_id</th>\n",
       "    </tr>\n",
       "  </thead>\n",
       "  <tbody>\n",
       "    <tr>\n",
       "      <th>count</th>\n",
       "      <td>1976</td>\n",
       "      <td>2177</td>\n",
       "      <td>2594.000000</td>\n",
       "    </tr>\n",
       "    <tr>\n",
       "      <th>unique</th>\n",
       "      <td>69</td>\n",
       "      <td>764</td>\n",
       "      <td>NaN</td>\n",
       "    </tr>\n",
       "    <tr>\n",
       "      <th>top</th>\n",
       "      <td>2</td>\n",
       "      <td>Microsoft Office</td>\n",
       "      <td>NaN</td>\n",
       "    </tr>\n",
       "    <tr>\n",
       "      <th>freq</th>\n",
       "      <td>297</td>\n",
       "      <td>35</td>\n",
       "      <td>NaN</td>\n",
       "    </tr>\n",
       "    <tr>\n",
       "      <th>mean</th>\n",
       "      <td>NaN</td>\n",
       "      <td>NaN</td>\n",
       "      <td>55.196993</td>\n",
       "    </tr>\n",
       "    <tr>\n",
       "      <th>std</th>\n",
       "      <td>NaN</td>\n",
       "      <td>NaN</td>\n",
       "      <td>31.803147</td>\n",
       "    </tr>\n",
       "    <tr>\n",
       "      <th>min</th>\n",
       "      <td>NaN</td>\n",
       "      <td>NaN</td>\n",
       "      <td>0.000000</td>\n",
       "    </tr>\n",
       "    <tr>\n",
       "      <th>25%</th>\n",
       "      <td>NaN</td>\n",
       "      <td>NaN</td>\n",
       "      <td>31.000000</td>\n",
       "    </tr>\n",
       "    <tr>\n",
       "      <th>50%</th>\n",
       "      <td>NaN</td>\n",
       "      <td>NaN</td>\n",
       "      <td>56.000000</td>\n",
       "    </tr>\n",
       "    <tr>\n",
       "      <th>75%</th>\n",
       "      <td>NaN</td>\n",
       "      <td>NaN</td>\n",
       "      <td>82.000000</td>\n",
       "    </tr>\n",
       "    <tr>\n",
       "      <th>max</th>\n",
       "      <td>NaN</td>\n",
       "      <td>NaN</td>\n",
       "      <td>109.000000</td>\n",
       "    </tr>\n",
       "  </tbody>\n",
       "</table>\n",
       "</div>"
      ],
      "text/plain": [
       "       endorsement_count              name    perfil_id\n",
       "count               1976              2177  2594.000000\n",
       "unique                69               764          NaN\n",
       "top                    2  Microsoft Office          NaN\n",
       "freq                 297                35          NaN\n",
       "mean                 NaN               NaN    55.196993\n",
       "std                  NaN               NaN    31.803147\n",
       "min                  NaN               NaN     0.000000\n",
       "25%                  NaN               NaN    31.000000\n",
       "50%                  NaN               NaN    56.000000\n",
       "75%                  NaN               NaN    82.000000\n",
       "max                  NaN               NaN   109.000000"
      ]
     },
     "execution_count": 68,
     "metadata": {},
     "output_type": "execute_result"
    }
   ],
   "source": [
    "import numpy as np\n",
    "import pandas as pd\n",
    "from unicodedata import normalize\n",
    "\n",
    "pd.set_option('display.max_columns', None)\n",
    "pd.set_option('display.max_rows', None)\n",
    "\n",
    "habilidades = pd.read_csv(\"bases/habilidades.csv\")\n",
    "\n",
    "# Análise inicial\n",
    "print(\"Nº de registros:\", len(habilidades))\n",
    "print(\"Nº de valores únicos de perfil_id:\", habilidades.perfil_id.nunique())\n",
    "print(\"Nº de valores únicos de name:\", habilidades.name.nunique())\n",
    "print(\"Valores faltantes em name:\", habilidades.name.isnull().sum())\n",
    "print(\"Valores faltantes em endorsement_count:\", habilidades.endorsement_count.isnull().sum())\n",
    "\n",
    "habilidades.describe(include=\"all\")"
   ]
  },
  {
   "cell_type": "markdown",
   "metadata": {},
   "source": [
    "Apesar da grande quantidade de registros, os registros sem **name** podem ser desconsiderados pois não descrevem habilidade alguma."
   ]
  },
  {
   "cell_type": "code",
   "execution_count": 69,
   "metadata": {},
   "outputs": [
    {
     "name": "stdout",
     "output_type": "stream",
     "text": [
      "Nº de registros restantes (com nome): 2177\n"
     ]
    }
   ],
   "source": [
    "habilidades = habilidades.loc[habilidades.name.notnull()]\n",
    "print(\"Nº de registros restantes (com nome):\", len(habilidades))"
   ]
  },
  {
   "cell_type": "code",
   "execution_count": 70,
   "metadata": {},
   "outputs": [
    {
     "data": {
      "text/html": [
       "<div>\n",
       "<style scoped>\n",
       "    .dataframe tbody tr th:only-of-type {\n",
       "        vertical-align: middle;\n",
       "    }\n",
       "\n",
       "    .dataframe tbody tr th {\n",
       "        vertical-align: top;\n",
       "    }\n",
       "\n",
       "    .dataframe thead th {\n",
       "        text-align: right;\n",
       "    }\n",
       "</style>\n",
       "<table border=\"1\" class=\"dataframe\">\n",
       "  <thead>\n",
       "    <tr style=\"text-align: right;\">\n",
       "      <th></th>\n",
       "      <th>endorsement_count</th>\n",
       "      <th>name</th>\n",
       "      <th>perfil_id</th>\n",
       "    </tr>\n",
       "  </thead>\n",
       "  <tbody>\n",
       "    <tr>\n",
       "      <th>0</th>\n",
       "      <td>+ de 99</td>\n",
       "      <td>Empresas startups</td>\n",
       "      <td>0</td>\n",
       "    </tr>\n",
       "    <tr>\n",
       "      <th>3</th>\n",
       "      <td>+ de 99</td>\n",
       "      <td>Empreendedorismo</td>\n",
       "      <td>0</td>\n",
       "    </tr>\n",
       "    <tr>\n",
       "      <th>6</th>\n",
       "      <td>97</td>\n",
       "      <td>Start-ups</td>\n",
       "      <td>0</td>\n",
       "    </tr>\n",
       "    <tr>\n",
       "      <th>9</th>\n",
       "      <td>73</td>\n",
       "      <td>Entrepreneurship</td>\n",
       "      <td>0</td>\n",
       "    </tr>\n",
       "    <tr>\n",
       "      <th>10</th>\n",
       "      <td>75</td>\n",
       "      <td>New Business Development</td>\n",
       "      <td>0</td>\n",
       "    </tr>\n",
       "  </tbody>\n",
       "</table>\n",
       "</div>"
      ],
      "text/plain": [
       "   endorsement_count                      name  perfil_id\n",
       "0            + de 99         Empresas startups          0\n",
       "3            + de 99          Empreendedorismo          0\n",
       "6                 97                 Start-ups          0\n",
       "9                 73          Entrepreneurship          0\n",
       "10                75  New Business Development          0"
      ]
     },
     "execution_count": 70,
     "metadata": {},
     "output_type": "execute_result"
    }
   ],
   "source": [
    "habilidades.head(5)"
   ]
  },
  {
   "cell_type": "markdown",
   "metadata": {},
   "source": [
    "## 04.2 - Contagem de Endossos e Habilidades\n",
    "\n",
    "Afim de consolidar essa base em algum tipo de informação sintética por perfil, calcule a quantidade de habilidades (**qtd_habilidades**) e a quantidade total de endossos de cada perfil (**qtd_endossos**)."
   ]
  },
  {
   "cell_type": "code",
   "execution_count": 71,
   "metadata": {
    "scrolled": true
   },
   "outputs": [
    {
     "name": "stdout",
     "output_type": "stream",
     "text": [
      "Nº de valores únicos de name após tratamento: 754\n"
     ]
    }
   ],
   "source": [
    "#Antes que calcular a quantidade de habilidades por perfil, foi realizado um tratamento de texto na tentativa \n",
    "#de consolidar algumas habilidades que possuem mesma semântica\n",
    "\n",
    "#São 764 valores únicos de habilidades \n",
    "\n",
    "#Convertendo as habilidades para mesmo padrão: sem acentos, sem espaços, caixa alta\n",
    "\n",
    "#Função para remover acentos\n",
    "def remove_acentos(text):\n",
    "    return normalize('NFKD', text).encode('ASCII', 'ignore').decode('ASCII')\n",
    "\n",
    "#Copiando as habilidades para nova coluna, mantendo os valores orginais\n",
    "habilidades['nome'] = habilidades.name\n",
    "\n",
    "#Aplicando tratamento, sem acentos, sem espaços, caixa alta\n",
    "habilidades['nome'] = habilidades.nome.apply(remove_acentos)\n",
    "habilidades['nome'] = habilidades.nome.str.strip()\n",
    "habilidades['nome'] = habilidades.nome.str.upper()\n",
    "\n",
    "print(\"Nº de valores únicos de name após tratamento:\", habilidades.nome.nunique())"
   ]
  },
  {
   "cell_type": "code",
   "execution_count": 72,
   "metadata": {},
   "outputs": [
    {
     "name": "stdout",
     "output_type": "stream",
     "text": [
      "Quantidade de perfis únicos em qtd_habilidades: 100\n"
     ]
    },
    {
     "data": {
      "text/html": [
       "<div>\n",
       "<style scoped>\n",
       "    .dataframe tbody tr th:only-of-type {\n",
       "        vertical-align: middle;\n",
       "    }\n",
       "\n",
       "    .dataframe tbody tr th {\n",
       "        vertical-align: top;\n",
       "    }\n",
       "\n",
       "    .dataframe thead th {\n",
       "        text-align: right;\n",
       "    }\n",
       "</style>\n",
       "<table border=\"1\" class=\"dataframe\">\n",
       "  <thead>\n",
       "    <tr style=\"text-align: right;\">\n",
       "      <th></th>\n",
       "      <th>nome</th>\n",
       "    </tr>\n",
       "    <tr>\n",
       "      <th>perfil_id</th>\n",
       "      <th></th>\n",
       "    </tr>\n",
       "  </thead>\n",
       "  <tbody>\n",
       "    <tr>\n",
       "      <th>0</th>\n",
       "      <td>33</td>\n",
       "    </tr>\n",
       "    <tr>\n",
       "      <th>1</th>\n",
       "      <td>28</td>\n",
       "    </tr>\n",
       "    <tr>\n",
       "      <th>2</th>\n",
       "      <td>47</td>\n",
       "    </tr>\n",
       "    <tr>\n",
       "      <th>3</th>\n",
       "      <td>9</td>\n",
       "    </tr>\n",
       "    <tr>\n",
       "      <th>4</th>\n",
       "      <td>11</td>\n",
       "    </tr>\n",
       "  </tbody>\n",
       "</table>\n",
       "</div>"
      ],
      "text/plain": [
       "           nome\n",
       "perfil_id      \n",
       "0            33\n",
       "1            28\n",
       "2            47\n",
       "3             9\n",
       "4            11"
      ]
     },
     "execution_count": 72,
     "metadata": {},
     "output_type": "execute_result"
    }
   ],
   "source": [
    "#Calculando a quantidade de habilidades para cada perfil\n",
    "qtd_habilidades = habilidades.groupby('perfil_id').nome.count().to_frame()\n",
    "qtd_habilidades = qtd_habilidades.rename(index=int, columns={\"name\":\"qtd_habilidades\"})\n",
    "\n",
    "print('Quantidade de perfis únicos em qtd_habilidades:',qtd_habilidades.index.nunique())\n",
    "qtd_habilidades.head(5)"
   ]
  },
  {
   "cell_type": "code",
   "execution_count": 73,
   "metadata": {},
   "outputs": [
    {
     "name": "stdout",
     "output_type": "stream",
     "text": [
      "Quantidade de perfis únicos em qtd_endossos: 100\n"
     ]
    },
    {
     "data": {
      "text/html": [
       "<div>\n",
       "<style scoped>\n",
       "    .dataframe tbody tr th:only-of-type {\n",
       "        vertical-align: middle;\n",
       "    }\n",
       "\n",
       "    .dataframe tbody tr th {\n",
       "        vertical-align: top;\n",
       "    }\n",
       "\n",
       "    .dataframe thead th {\n",
       "        text-align: right;\n",
       "    }\n",
       "</style>\n",
       "<table border=\"1\" class=\"dataframe\">\n",
       "  <thead>\n",
       "    <tr style=\"text-align: right;\">\n",
       "      <th></th>\n",
       "      <th>qtd_endossos</th>\n",
       "    </tr>\n",
       "    <tr>\n",
       "      <th>perfil_id</th>\n",
       "      <th></th>\n",
       "    </tr>\n",
       "  </thead>\n",
       "  <tbody>\n",
       "    <tr>\n",
       "      <th>0</th>\n",
       "      <td>1600</td>\n",
       "    </tr>\n",
       "    <tr>\n",
       "      <th>1</th>\n",
       "      <td>314</td>\n",
       "    </tr>\n",
       "    <tr>\n",
       "      <th>2</th>\n",
       "      <td>117</td>\n",
       "    </tr>\n",
       "    <tr>\n",
       "      <th>3</th>\n",
       "      <td>14</td>\n",
       "    </tr>\n",
       "    <tr>\n",
       "      <th>4</th>\n",
       "      <td>103</td>\n",
       "    </tr>\n",
       "  </tbody>\n",
       "</table>\n",
       "</div>"
      ],
      "text/plain": [
       "           qtd_endossos\n",
       "perfil_id              \n",
       "0                  1600\n",
       "1                   314\n",
       "2                   117\n",
       "3                    14\n",
       "4                   103"
      ]
     },
     "execution_count": 73,
     "metadata": {},
     "output_type": "execute_result"
    }
   ],
   "source": [
    "#Para calcular a quantidade total de endossos de cada perfil, foi necessário tratar alguns valores não númericos no campo\n",
    "#endorsement_count. Foi atribuído aos valores nulos o valor numérico 0. Para os valores \"+ de 99\" foi atribuído o valor\n",
    "#numérico 100\n",
    "\n",
    "#Copiando valores de endorsement_count para nova coluna, mantendo valores originais\n",
    "habilidades['endosso'] = habilidades.endorsement_count\n",
    "\n",
    "#Convertendo valores não númericos\n",
    "habilidades.endosso = habilidades.endosso.fillna(\"0\")\n",
    "habilidades.loc[habilidades.endosso.str.contains(\"de\"), 'endosso'] = \"100\"\n",
    "habilidades.endosso = pd.to_numeric(habilidades.endosso)\n",
    "\n",
    "#Calculando a quantidade total de endossos por perfil\n",
    "qtd_endossos = habilidades.groupby('perfil_id').endosso.sum().to_frame()\n",
    "qtd_endossos = qtd_endossos.rename(index=int, columns={\"endosso\":\"qtd_endossos\"})\n",
    "\n",
    "print('Quantidade de perfis únicos em qtd_endossos:', qtd_endossos.index.nunique())\n",
    "qtd_endossos.head(5)"
   ]
  },
  {
   "cell_type": "markdown",
   "metadata": {},
   "source": [
    "## 04.3 - Agrupando habilidades\n",
    "\n",
    "Afim de entender melhor o perfil do funcionários no que tange diversidade, agrupe as habilidades em categorias. Por exemplo, c++, python em liguagens de programação, ferramentas do office informática, análise SWOT, PDCA, SCRUM gestão de projetos. Essa informação pode ser utilizada para averiguar a proximidades entre os perfis contratados em cada setor da empresa ou tipo cargo."
   ]
  },
  {
   "cell_type": "code",
   "execution_count": 74,
   "metadata": {},
   "outputs": [],
   "source": [
    "#exportando dados de habilidades para inserir as informações de categoria\n",
    "#a das habilidades, definição e inserção da categoria será feita em planilha eletrônica em função da grande\n",
    "#quantidade de registros\n",
    "habilidades.groupby('nome').nome.count() \\\n",
    "            .to_frame() \\\n",
    "            .sort_index() \\\n",
    "            .to_csv('bases/nome_habilidades.csv')\n",
    "\n"
   ]
  },
  {
   "cell_type": "code",
   "execution_count": 75,
   "metadata": {},
   "outputs": [],
   "source": [
    "#Após definição das categorias em planilha eletrônica a nova base é importada\n",
    "categorias = pd.read_csv('bases/nome_habilidades-categorias.csv')\n",
    "\n",
    "#As categorias são anexadas ao dataframe de habilidades conforme o nome da habilidade\n",
    "habilidades = pd.merge(habilidades, categorias[['nome','categoria']], how='left', on='nome')"
   ]
  },
  {
   "cell_type": "code",
   "execution_count": 78,
   "metadata": {},
   "outputs": [
    {
     "data": {
      "text/html": [
       "<div>\n",
       "<style scoped>\n",
       "    .dataframe tbody tr th:only-of-type {\n",
       "        vertical-align: middle;\n",
       "    }\n",
       "\n",
       "    .dataframe tbody tr th {\n",
       "        vertical-align: top;\n",
       "    }\n",
       "\n",
       "    .dataframe thead th {\n",
       "        text-align: right;\n",
       "    }\n",
       "</style>\n",
       "<table border=\"1\" class=\"dataframe\">\n",
       "  <thead>\n",
       "    <tr style=\"text-align: right;\">\n",
       "      <th></th>\n",
       "      <th>endorsement_count</th>\n",
       "      <th>name</th>\n",
       "      <th>perfil_id</th>\n",
       "      <th>nome</th>\n",
       "      <th>endosso</th>\n",
       "      <th>categoria</th>\n",
       "    </tr>\n",
       "  </thead>\n",
       "  <tbody>\n",
       "    <tr>\n",
       "      <th>0</th>\n",
       "      <td>+ de 99</td>\n",
       "      <td>Empresas startups</td>\n",
       "      <td>0</td>\n",
       "      <td>EMPRESAS STARTUPS</td>\n",
       "      <td>100</td>\n",
       "      <td>Gestão de Empresas</td>\n",
       "    </tr>\n",
       "    <tr>\n",
       "      <th>1</th>\n",
       "      <td>+ de 99</td>\n",
       "      <td>Empreendedorismo</td>\n",
       "      <td>0</td>\n",
       "      <td>EMPREENDEDORISMO</td>\n",
       "      <td>100</td>\n",
       "      <td>Gestão de Empresas</td>\n",
       "    </tr>\n",
       "    <tr>\n",
       "      <th>2</th>\n",
       "      <td>97</td>\n",
       "      <td>Start-ups</td>\n",
       "      <td>0</td>\n",
       "      <td>START-UPS</td>\n",
       "      <td>97</td>\n",
       "      <td>Gestão de Empresas</td>\n",
       "    </tr>\n",
       "    <tr>\n",
       "      <th>3</th>\n",
       "      <td>73</td>\n",
       "      <td>Entrepreneurship</td>\n",
       "      <td>0</td>\n",
       "      <td>ENTREPRENEURSHIP</td>\n",
       "      <td>73</td>\n",
       "      <td>Gestão de Empresas</td>\n",
       "    </tr>\n",
       "    <tr>\n",
       "      <th>4</th>\n",
       "      <td>75</td>\n",
       "      <td>New Business Development</td>\n",
       "      <td>0</td>\n",
       "      <td>NEW BUSINESS DEVELOPMENT</td>\n",
       "      <td>75</td>\n",
       "      <td>Gestão de Empresas</td>\n",
       "    </tr>\n",
       "  </tbody>\n",
       "</table>\n",
       "</div>"
      ],
      "text/plain": [
       "  endorsement_count                      name  perfil_id  \\\n",
       "0           + de 99         Empresas startups          0   \n",
       "1           + de 99          Empreendedorismo          0   \n",
       "2                97                 Start-ups          0   \n",
       "3                73          Entrepreneurship          0   \n",
       "4                75  New Business Development          0   \n",
       "\n",
       "                       nome  endosso           categoria  \n",
       "0         EMPRESAS STARTUPS      100  Gestão de Empresas  \n",
       "1          EMPREENDEDORISMO      100  Gestão de Empresas  \n",
       "2                 START-UPS       97  Gestão de Empresas  \n",
       "3          ENTREPRENEURSHIP       73  Gestão de Empresas  \n",
       "4  NEW BUSINESS DEVELOPMENT       75  Gestão de Empresas  "
      ]
     },
     "execution_count": 78,
     "metadata": {},
     "output_type": "execute_result"
    }
   ],
   "source": [
    "habilidades.head(5)"
   ]
  },
  {
   "cell_type": "markdown",
   "metadata": {},
   "source": [
    "## 04.4 - Salvando bases\n",
    "\n",
    "A base tratada será gravada no arquivo **habilidades-tratado.csv**.\n",
    "\n",
    "Uma nova base consolidada com um registro por perfil será gravada no arquivo **perfil-habilidades.csv**, contendo as colunas: **perfil_id**, **qtd_habilidades** e **qtd_endossos**."
   ]
  },
  {
   "cell_type": "code",
   "execution_count": 91,
   "metadata": {},
   "outputs": [],
   "source": [
    "# Grava habilidades-tratado.csv\n",
    "habilidades_tratado = habilidades.groupby(['perfil_id','categoria','nome'], as_index=False).endosso.sum()\n",
    "habilidades_tratado.to_csv('bases/habilidades-tratado.csv')"
   ]
  },
  {
   "cell_type": "code",
   "execution_count": 90,
   "metadata": {},
   "outputs": [],
   "source": [
    "# Grava perfil-habilidades.csv\n",
    "perfil_habilidades = pd.concat([qtd_habilidades,qtd_endossos], axis=1, sort=False)\n",
    "perfil_habilidades.to_csv('bases/perfil-habilidades.csv')"
   ]
  },
  {
   "cell_type": "markdown",
   "metadata": {},
   "source": [
    "### Navegação:\n",
    "* [Voltar para a análise](00-analise-dos-dados.ipynb)\n",
    "* [Continuar para o próximo documento](05-tratamento-base-experiencia.ipynb)"
   ]
  }
 ],
 "metadata": {
  "kernelspec": {
   "display_name": "Python 3",
   "language": "python",
   "name": "python3"
  },
  "language_info": {
   "codemirror_mode": {
    "name": "ipython",
    "version": 3
   },
   "file_extension": ".py",
   "mimetype": "text/x-python",
   "name": "python",
   "nbconvert_exporter": "python",
   "pygments_lexer": "ipython3",
   "version": "3.7.0"
  }
 },
 "nbformat": 4,
 "nbformat_minor": 2
}
