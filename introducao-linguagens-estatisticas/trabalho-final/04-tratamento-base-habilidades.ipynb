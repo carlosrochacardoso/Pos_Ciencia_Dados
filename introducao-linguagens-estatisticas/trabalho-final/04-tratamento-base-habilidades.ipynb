{
 "cells": [
  {
   "cell_type": "markdown",
   "metadata": {},
   "source": [
    "# Trabalho Final\n",
    "\n",
    "**Aluno**: Carlos Alberto Rocha Cardoso\n",
    "\n",
    "**Matrícula**:\n",
    "\n",
    "\n",
    "## 04 - Tratamento da base *habilidades.csv*\n",
    "\n",
    "Descreva a base com suas palavras."
   ]
  },
  {
   "cell_type": "code",
   "execution_count": 5,
   "metadata": {},
   "outputs": [
    {
     "name": "stdout",
     "output_type": "stream",
     "text": [
      "Nº de registros: 2594\n",
      "Nº de valores únicos de perfil_id: 100\n",
      "Nº de valores únicos de name: 764\n",
      "Valores faltantes em name: 417\n",
      "Valores faltantes em endorsement_count: 618\n"
     ]
    },
    {
     "data": {
      "text/html": [
       "<div>\n",
       "<style scoped>\n",
       "    .dataframe tbody tr th:only-of-type {\n",
       "        vertical-align: middle;\n",
       "    }\n",
       "\n",
       "    .dataframe tbody tr th {\n",
       "        vertical-align: top;\n",
       "    }\n",
       "\n",
       "    .dataframe thead th {\n",
       "        text-align: right;\n",
       "    }\n",
       "</style>\n",
       "<table border=\"1\" class=\"dataframe\">\n",
       "  <thead>\n",
       "    <tr style=\"text-align: right;\">\n",
       "      <th></th>\n",
       "      <th>endorsement_count</th>\n",
       "      <th>name</th>\n",
       "      <th>perfil_id</th>\n",
       "    </tr>\n",
       "  </thead>\n",
       "  <tbody>\n",
       "    <tr>\n",
       "      <th>count</th>\n",
       "      <td>1976</td>\n",
       "      <td>2177</td>\n",
       "      <td>2594.000000</td>\n",
       "    </tr>\n",
       "    <tr>\n",
       "      <th>unique</th>\n",
       "      <td>69</td>\n",
       "      <td>764</td>\n",
       "      <td>NaN</td>\n",
       "    </tr>\n",
       "    <tr>\n",
       "      <th>top</th>\n",
       "      <td>2</td>\n",
       "      <td>Microsoft Office</td>\n",
       "      <td>NaN</td>\n",
       "    </tr>\n",
       "    <tr>\n",
       "      <th>freq</th>\n",
       "      <td>297</td>\n",
       "      <td>35</td>\n",
       "      <td>NaN</td>\n",
       "    </tr>\n",
       "    <tr>\n",
       "      <th>mean</th>\n",
       "      <td>NaN</td>\n",
       "      <td>NaN</td>\n",
       "      <td>55.196993</td>\n",
       "    </tr>\n",
       "    <tr>\n",
       "      <th>std</th>\n",
       "      <td>NaN</td>\n",
       "      <td>NaN</td>\n",
       "      <td>31.803147</td>\n",
       "    </tr>\n",
       "    <tr>\n",
       "      <th>min</th>\n",
       "      <td>NaN</td>\n",
       "      <td>NaN</td>\n",
       "      <td>0.000000</td>\n",
       "    </tr>\n",
       "    <tr>\n",
       "      <th>25%</th>\n",
       "      <td>NaN</td>\n",
       "      <td>NaN</td>\n",
       "      <td>31.000000</td>\n",
       "    </tr>\n",
       "    <tr>\n",
       "      <th>50%</th>\n",
       "      <td>NaN</td>\n",
       "      <td>NaN</td>\n",
       "      <td>56.000000</td>\n",
       "    </tr>\n",
       "    <tr>\n",
       "      <th>75%</th>\n",
       "      <td>NaN</td>\n",
       "      <td>NaN</td>\n",
       "      <td>82.000000</td>\n",
       "    </tr>\n",
       "    <tr>\n",
       "      <th>max</th>\n",
       "      <td>NaN</td>\n",
       "      <td>NaN</td>\n",
       "      <td>109.000000</td>\n",
       "    </tr>\n",
       "  </tbody>\n",
       "</table>\n",
       "</div>"
      ],
      "text/plain": [
       "       endorsement_count              name    perfil_id\n",
       "count               1976              2177  2594.000000\n",
       "unique                69               764          NaN\n",
       "top                    2  Microsoft Office          NaN\n",
       "freq                 297                35          NaN\n",
       "mean                 NaN               NaN    55.196993\n",
       "std                  NaN               NaN    31.803147\n",
       "min                  NaN               NaN     0.000000\n",
       "25%                  NaN               NaN    31.000000\n",
       "50%                  NaN               NaN    56.000000\n",
       "75%                  NaN               NaN    82.000000\n",
       "max                  NaN               NaN   109.000000"
      ]
     },
     "execution_count": 5,
     "metadata": {},
     "output_type": "execute_result"
    }
   ],
   "source": [
    "import numpy as np\n",
    "import pandas as pd\n",
    "\n",
    "pd.set_option('display.max_columns', None)\n",
    "pd.set_option('display.max_rows', None)\n",
    "\n",
    "habilidades = pd.read_csv(\"bases/habilidades.csv\")\n",
    "\n",
    "# Análise inicial\n",
    "print(\"Nº de registros:\", len(habilidades))\n",
    "print(\"Nº de valores únicos de perfil_id:\", habilidades.perfil_id.nunique())\n",
    "print(\"Nº de valores únicos de name:\", habilidades.name.nunique())\n",
    "print(\"Valores faltantes em name:\", habilidades.name.isnull().sum())\n",
    "print(\"Valores faltantes em endorsement_count:\", habilidades.endorsement_count.isnull().sum())\n",
    "\n",
    "habilidades.describe(include=\"all\")"
   ]
  },
  {
   "cell_type": "markdown",
   "metadata": {},
   "source": [
    "Apesar da grande quantidade de registros, os registros sem **name** podem ser desconsiderados pois não descrevem habilidade alguma."
   ]
  },
  {
   "cell_type": "code",
   "execution_count": 6,
   "metadata": {},
   "outputs": [
    {
     "name": "stdout",
     "output_type": "stream",
     "text": [
      "Nº de registros restantes (com nome): 2177\n"
     ]
    }
   ],
   "source": [
    "habilidades = habilidades.loc[habilidades.name.notnull()]\n",
    "print(\"Nº de registros restantes (com nome):\", len(habilidades))"
   ]
  },
  {
   "cell_type": "code",
   "execution_count": 7,
   "metadata": {},
   "outputs": [
    {
     "data": {
      "text/plain": [
       "array(['+ de 99', '97', '73', '75', '67', '64', '71', '68', '28', '40',\n",
       "       '36', '42', '44', '31', '37', '22', '24', '49', '65', '34', '25',\n",
       "       '72', '45', '21', '18', '15', '12', '10', '8', '6', '4', '3', '2',\n",
       "       nan, '11', '1', '7', '5', '13', '9', '23', '80', '57', '52', '50',\n",
       "       '47', '41', '39', '38', '35', '27', '20', '19', '17', '16', '14',\n",
       "       '29', '48', '43', '33', '32', '90', '26', '54', '60', '30', '88',\n",
       "       '53', '51', '46'], dtype=object)"
      ]
     },
     "execution_count": 7,
     "metadata": {},
     "output_type": "execute_result"
    }
   ],
   "source": [
    "habilidades.head(5)\n",
    "\n",
    "habilidades.endorsement_count.unique()"
   ]
  },
  {
   "cell_type": "markdown",
   "metadata": {},
   "source": [
    "## 04.2 - Contagem de Endossos e Habilidades\n",
    "\n",
    "Afim de consolidar essa base em algum tipo de informação sintética por perfil, calcule a quantidade de habilidades (**qtd_habilidades**) e a quantidade total de endossos de cada perfil (**qtd_endossos**)."
   ]
  },
  {
   "cell_type": "code",
   "execution_count": 8,
   "metadata": {},
   "outputs": [],
   "source": [
    "qtd_habilidades = habilidades.groupby('perfil_id').name.count().to_frame()\n",
    "qtd_habilidades = qtd_habilidades.rename(index=int, columns={\"name\":\"qtd_habilidades\"})\n",
    "\n",
    "habilidades['endosso'] = habilidades.endorsement_count\n",
    "habilidades.endosso.fillna(\"0\", inplace=True)\n",
    "habilidades.loc[habilidades.endosso.str.contains(\"de\"), 'endosso'] = \"100\"\n",
    "habilidades.endosso = pd.to_numeric(habilidades.endosso)\n",
    "\n",
    "qtd_endossos = habilidades.groupby('perfil_id').endosso.sum().to_frame()\n",
    "qtd_endossos = qtd_endossos.rename(index=int, columns={\"endosso\":\"qtd_endossos\"})"
   ]
  },
  {
   "cell_type": "markdown",
   "metadata": {},
   "source": [
    "## 04.3 - Agrupando habilidades\n",
    "\n",
    "Afim de entender melhor o perfil do funcionários no que tange diversidade, agrupe as habilidades em categorias. Por exemplo, c++, python em liguagens de programação, ferramentas do office informática, análise SWOT, PDCA, SCRUM gestão de projetos. Essa informação pode ser utilizada para averiguar a proximidades entre os perfis contratados em cada setor da empresa ou tipo cargo."
   ]
  },
  {
   "cell_type": "code",
   "execution_count": 136,
   "metadata": {},
   "outputs": [
    {
     "data": {
      "text/plain": [
       "array(['Liderança de equipe', 'Gestão de equipes', 'Formação de equipes',\n",
       "       'Motivação de equipes',\n",
       "       'Bom relacionamento para trabalhar em equipe.'], dtype=object)"
      ]
     },
     "execution_count": 136,
     "metadata": {},
     "output_type": "execute_result"
    }
   ],
   "source": [
    "habilidades['categoria'] = habilidades.name\n",
    "\n",
    "habilidades['categoria'] = habilidades.categoria.str.replace(\".*HTML.*|CSS.*|VBA|Visual Ba.*|C\\+\\+|C\\#|ASP.NET|AJAX|ActionScript|^Viual Basic.*|[j,J]Query|Ruby.*|Python|Prolog|Programming La.*|^PHP|.*Java.*|Lua\", \"Linguagens de Programação+\") \\\n",
    "                            .str.replace(\"Ing.*|.*Portugue.*\", \"Idiomas+\") \\\n",
    "                            .str.replace(\".*Adobe.*\", \"Ferramentas de Edição+\") \\\n",
    "                            .str.replace(\"Plan.*proj|Gest.*(risc|pro|Pess).*|Anál.*ris.*|Anál.*req.*|Agil.*|PMO|Scrum|.*Project.*|PMI|PDCA\", \"Gerenciamento de Projetos+\") \\\n",
    "                            .str.replace(\".*Sis.*op.*|.*Linux.*|FreeBSD|.*Windows.*|.*Ubuntu.*|^iOS$|DOS\", \"Sistemas Operacionais+\") \\\n",
    "                            .str.replace(\"Datab.*|Banc.*dad.*|.*SQL.*|.*ETL.*\", \"Bancos de Dados+\") \\\n",
    "                            .str.replace(\"Git|.*Boots.*|^\\.NET.*|.*Framework.*|.*Dojo.*|.*Angular.*|.*TestLink.*|Mic.*Vi.*\", \"Frameworks Desenvolvimento+\") \\\n",
    "                            .str.replace(\".*Gest.*mud.*|.*COBIT.*|.*ITIL.*\", \"Governança+\") \\\n",
    "                            .str.replace(\"Oracle i.*|Amad.*|.*ERP.*|.*CRM.*\", \"Sistemas de Gestão+\") \\\n",
    "                            .str.replace(\".*A.*W.*S.*|.*Cloud.*\", \"Infraestrutura+\") \\\n",
    "                            .str.replace(\".*EC2|Análises$|Data.*Mini.*|.*Data.*Anal.*|Aná.*dad.*|.*Machine.*|.*\\sS3.*|A/B.*|Hypo.*\", \"Ciência de Dados+\") \\\n",
    "                            .str.replace(\"Arq.*inf.*|.*\\sS3.*|.*Data Extrac.*|.*Data.*Ware.*\", \"Engenharia de Dados+\") \\\n",
    "                            .str.replace(\".*Soft.*[DE].*|^Web S.*|Arq.*sof.*|Access.*|.*[b,B]ug.*|Algo.*|.*Test.*|An[á,a].*sist.*|Sist.*fro.*|Desen.*sist.*|Sist.*dist.*\", \"Desenvolvimento de Sistemas+\") \\\n",
    "                            .str.replace(\"Mic.*Of.*|Mic.*Wo.*|Mic.*Po.*|Mic.*Ex.*\", \"Informática+\") \\\n",
    "                            .str.replace(\".*equip.*\", \"Habilidades Pessoais+\") \\\n",
    "                            .str.replace(\"Stock.*|.*[f,F]ina.*|Gest.*at.*|.*Inv.*\", \"Finanças+\") \\\n",
    "                            .str.replace(\"^Management$|.*[Nn]eg.*|Est.*emp.*|Gestão$|Plan.*emp.*|St.*Pl.*|Plan.*est.*|Gest.*contr.*|5S|Bus.*|Administração$\", \"Gestão de Empresas+\") \\\n",
    "                            .str.replace(\"AMP|Andro*|.*iOS.*|[M,m]ob.*[a,A]pp.*|Mob.*Tes.*|Mob.*Dev.*\", \"Mobile+\") \\\n",
    "                            .str.replace(\"Media$|.*[mM][íi]d.*\", \"Comunicação+\") \\\n",
    "                            .str.replace(\"Com.*ele.*|.*[Ss]ale.*|Publici.*|.*[M,m]ark.*|.*merc.*|.*Adve.*|.*[c,C]lie.*|.*[A,a]ff?il.*|Gest.*(cart|com|conta|ven|rel|mark).*\", \"Marketing e Vendas+\")\n",
    "\n",
    "#habilidades.categoria.value_counts()\n",
    "#habilidades.categoria.loc[habilidades.name.str.contains(\".*equip.*\")].value_counts()\n",
    "habilidades[['name']].loc[habilidades.name.str.contains(\".*equip.*\")].name.unique()"
   ]
  },
  {
   "cell_type": "markdown",
   "metadata": {},
   "source": [
    "## 04.4 - Salvando bases\n",
    "\n",
    "A base tratada será gravada no arquivo **habilidades-tratado.csv**.\n",
    "\n",
    "Uma nova base consolidada com um registro por perfil será gravada no arquivo **perfil-habilidades.csv**, contendo as colunas: **perfil_id**, **qtd_habilidades** e **qtd_endossos**."
   ]
  },
  {
   "cell_type": "code",
   "execution_count": null,
   "metadata": {},
   "outputs": [],
   "source": []
  },
  {
   "cell_type": "markdown",
   "metadata": {},
   "source": [
    "### Navegação:\n",
    "* [Voltar para a análise](00-analise-dos-dados.ipynb)\n",
    "* [Continuar para o próximo documento](05-tratamento-base-experiencia.ipynb)"
   ]
  }
 ],
 "metadata": {
  "kernelspec": {
   "display_name": "Python 3",
   "language": "python",
   "name": "python3"
  },
  "language_info": {
   "codemirror_mode": {
    "name": "ipython",
    "version": 3
   },
   "file_extension": ".py",
   "mimetype": "text/x-python",
   "name": "python",
   "nbconvert_exporter": "python",
   "pygments_lexer": "ipython3",
   "version": "3.7.0"
  }
 },
 "nbformat": 4,
 "nbformat_minor": 2
}
